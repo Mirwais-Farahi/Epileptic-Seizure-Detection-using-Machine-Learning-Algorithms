{
 "cells": [
  {
   "cell_type": "markdown",
   "metadata": {},
   "source": [
    "## Epileptic Seizure Binary (Normal & Seizure States ) Classification \n",
    "### KNN Classifier"
   ]
  },
  {
   "cell_type": "code",
   "execution_count": 1,
   "metadata": {},
   "outputs": [],
   "source": [
    "import numpy as np\n",
    "import pandas as pd\n",
    "import random\n",
    "import csv\n",
    "\n",
    "import matplotlib.pylab as plt\n",
    "import seaborn as sns\n",
    "sns.despine()\n",
    "\n",
    "from sklearn.model_selection import StratifiedKFold, train_test_split, RandomizedSearchCV, cross_val_score, \\\n",
    "                                    cross_validate, GridSearchCV\n",
    "\n",
    "from sklearn.metrics import make_scorer\n",
    "from imblearn.metrics import specificity_score, classification_report_imbalanced, \\\n",
    "                                sensitivity_specificity_support, sensitivity_score, \\\n",
    "                                geometric_mean_score\n",
    "\n",
    "from sklearn.preprocessing import StandardScaler\n",
    "from sklearn.metrics import f1_score, confusion_matrix, roc_curve, auc, \\\n",
    "            classification_report, recall_score, precision_recall_curve, roc_auc_score, \\\n",
    "            precision_score, accuracy_score\n",
    "\n",
    "from sklearn.neighbors import KNeighborsClassifier\n",
    "\n",
    "# Define random state\n",
    "random_state = 2018\n",
    "np.random.seed(random_state)"
   ]
  },
  {
   "cell_type": "markdown",
   "metadata": {},
   "source": [
    "### 1. chb01 completed"
   ]
  },
  {
   "cell_type": "code",
   "execution_count": 3,
   "metadata": {},
   "outputs": [
    {
     "data": {
      "text/plain": [
       "44"
      ]
     },
     "execution_count": 3,
     "metadata": {},
     "output_type": "execute_result"
    }
   ],
   "source": [
    "lebaledCSVFilePath = '/home/mirwais/notebooks/paper_3/data/lebaled/chb01_time_freq_segments.csv'\n",
    "df = pd.read_csv(lebaledCSVFilePath)\n",
    "df.columns.size"
   ]
  },
  {
   "cell_type": "code",
   "execution_count": 4,
   "metadata": {},
   "outputs": [
    {
     "data": {
      "text/plain": [
       "0    284533\n",
       "2      5267\n",
       "Name: sz, dtype: int64"
      ]
     },
     "execution_count": 4,
     "metadata": {},
     "output_type": "execute_result"
    }
   ],
   "source": [
    "df[\"sz\"].value_counts()"
   ]
  },
  {
   "cell_type": "code",
   "execution_count": 5,
   "metadata": {
    "scrolled": true
   },
   "outputs": [
    {
     "name": "stdout",
     "output_type": "stream",
     "text": [
      "Fitting 10 folds for each of 1 candidates, totalling 10 fits\n",
      "[CV] n_neighbors=5 ...................................................\n",
      "[CV] n_neighbors=5 ...................................................\n",
      "[CV] n_neighbors=5 ...................................................\n",
      "[CV] n_neighbors=5 ...................................................\n",
      "[CV] n_neighbors=5 ...................................................\n",
      "[CV] n_neighbors=5 ...................................................\n",
      "[CV] n_neighbors=5 ...................................................\n",
      "[CV] n_neighbors=5 ...................................................\n",
      "[CV] .......... n_neighbors=5, score=0.9824075005538873, total=12.1min\n",
      "[CV] n_neighbors=5 ...................................................\n",
      "[CV] .......... n_neighbors=5, score=0.9813686401326174, total=12.1min\n",
      "[CV] n_neighbors=5 ...................................................\n",
      "[CV] .......... n_neighbors=5, score=0.9804446000381092, total=12.1min\n",
      "[CV] .......... n_neighbors=5, score=0.9816713333746593, total=12.1min\n"
     ]
    },
    {
     "name": "stderr",
     "output_type": "stream",
     "text": [
      "[Parallel(n_jobs=-1)]: Done   4 out of  10 | elapsed: 117.7min remaining: 176.5min\n"
     ]
    },
    {
     "name": "stdout",
     "output_type": "stream",
     "text": [
      "[CV] .......... n_neighbors=5, score=0.9812099907725073, total=12.3min\n",
      "[CV] .......... n_neighbors=5, score=0.9815181653065247, total=12.0min\n",
      "[CV] .......... n_neighbors=5, score=0.9798668252667271, total=12.2min\n"
     ]
    },
    {
     "name": "stderr",
     "output_type": "stream",
     "text": [
      "[Parallel(n_jobs=-1)]: Done   7 out of  10 | elapsed: 118.2min remaining: 50.6min\n"
     ]
    },
    {
     "name": "stdout",
     "output_type": "stream",
     "text": [
      "[CV] .......... n_neighbors=5, score=0.9816290831297418, total=12.3min\n",
      "[CV] .......... n_neighbors=5, score=0.9807586751251578, total= 8.9min\n",
      "[CV] .......... n_neighbors=5, score=0.9820801035712184, total= 8.8min\n"
     ]
    },
    {
     "name": "stderr",
     "output_type": "stream",
     "text": [
      "[Parallel(n_jobs=-1)]: Done  10 out of  10 | elapsed: 201.0min remaining:    0.0s\n",
      "[Parallel(n_jobs=-1)]: Done  10 out of  10 | elapsed: 201.0min finished\n"
     ]
    },
    {
     "data": {
      "text/plain": [
       "GridSearchCV(cv=StratifiedKFold(n_splits=10, random_state=2018, shuffle=True),\n",
       "       error_score='raise',\n",
       "       estimator=KNeighborsClassifier(algorithm='auto', leaf_size=30, metric='minkowski',\n",
       "           metric_params=None, n_jobs=1, n_neighbors=5, p=2,\n",
       "           weights='uniform'),\n",
       "       fit_params=None, iid=True, n_jobs=-1,\n",
       "       param_grid={'n_neighbors': [5]}, pre_dispatch='2*n_jobs',\n",
       "       refit=True, return_train_score='warn', scoring='f1_weighted',\n",
       "       verbose=4)"
      ]
     },
     "execution_count": 5,
     "metadata": {},
     "output_type": "execute_result"
    }
   ],
   "source": [
    "# With F1 Score\n",
    "x = df.drop(['sz','recordingID','Unnamed: 0','time','delta_data', 'theta_data', 'alpha_data', 'beta_data'], axis=1)\n",
    "#x = featuresUnstack.drop(['sz'], axis=1)\n",
    "y = df['sz']\n",
    "\n",
    "x_train, x_test, y_train, y_test = train_test_split(x, y, train_size=0.7, test_size=0.3, random_state=random_state)\n",
    "\n",
    "#dissimilar scales of data, StandardScaler should be used\n",
    "sc = StandardScaler()\n",
    "sc.fit(x_train)\n",
    "x_train_std = sc.transform(x_train)\n",
    "x_test_std = sc.transform(x_test)\n",
    "cv = StratifiedKFold(n_splits = 10, shuffle=True, random_state = random_state)\n",
    "\n",
    "clf = KNeighborsClassifier(metric='minkowski', p=2)\n",
    "\n",
    "params = {'n_neighbors': list(range(5,6))\n",
    "         } \n",
    "\n",
    "grid_sclf = GridSearchCV(estimator = clf, param_grid = params, cv = cv, n_jobs=-1, scoring='f1_weighted', verbose=4)\n",
    "grid_sclf.fit(x_train_std, y_train)"
   ]
  },
  {
   "cell_type": "code",
   "execution_count": 8,
   "metadata": {
    "scrolled": true
   },
   "outputs": [
    {
     "name": "stdout",
     "output_type": "stream",
     "text": [
      "KNeighborsClassifier(algorithm='auto', leaf_size=30, metric='minkowski',\n",
      "           metric_params=None, n_jobs=1, n_neighbors=5, p=2,\n",
      "           weights='uniform')\n",
      "{'n_neighbors': 5}\n",
      "...................................................................\n",
      "\n",
      "\n",
      "Accuracy of KNN Model: 0.9838739360478491\n",
      "\n",
      "\n",
      "                   pre       rec       spe        f1       geo       iba       sup\n",
      "\n",
      "     Normal     0.9876    0.9961    0.3260    0.9918    0.7750    0.6235     85354\n",
      "Pre-seizure     0.6082    0.3260    0.9961    0.4245    0.7750    0.5779      1586\n",
      "\n",
      "avg / total     0.9807    0.9839    0.3382    0.9815    0.7750    0.6226     86940\n",
      "\n",
      "....................................................................\n",
      "\n",
      "\n",
      "sensitivity_specificity None: (array([0.9960986, 0.3259773]), array([0.3259773, 0.9960986]), array([85354,  1586]))\n",
      "sensitivity_specificity micro: (0.9838739360478491, 0.9838739360478491, None)\n",
      "sensitivity_specificity macro: (0.6610379512535893, 0.6610379512535893, None)\n",
      "sensitivity_specificity weighted: (0.9838739360478491, 0.3382019664593296, None)\n",
      "\n",
      "\n",
      "\n",
      "gemetric mean None: [0.56982939 0.56982939]\n",
      "\n",
      "gemetric mean micro: 0.9838739360478491\n",
      "\n",
      "gemetric mean macro: 0.6610379512535893\n",
      "\n",
      "gemetric mean weighted: 0.5768432195314973\n",
      "\n",
      "\n",
      "\n",
      "\n",
      "F1 None: [0.9918224  0.42446634]\n",
      "\n",
      "\n",
      "F1 micro: 0.9838739360478491\n",
      "\n",
      "\n",
      "F1 macro: 0.7081443704549348\n",
      "\n",
      "\n",
      "F1 weighted: 0.9814724288969876\n",
      "\n",
      "\n",
      "\n",
      "\n",
      "precision None: 0.9838739360478491\n",
      "\n",
      "\n",
      "precision micro: 0.9838739360478491\n",
      "\n",
      "\n",
      "precision macro: 0.9838739360478491\n",
      "\n",
      "\n",
      "precision weighted: 0.9838739360478491\n",
      "\n",
      "\n",
      "\n",
      "\n",
      "recall None: 0.9838739360478491\n",
      "\n",
      "\n",
      "recall micro: 0.9838739360478491\n",
      "\n",
      "\n",
      "recall macro: 0.9838739360478491\n",
      "\n",
      "\n",
      "recall weighted: 0.9838739360478491\n"
     ]
    },
    {
     "data": {
      "image/png": "[encoded data removed]",
      "text/plain": [
       "<Figure size 432x288 with 2 Axes>"
      ]
     },
     "metadata": {
      "needs_background": "light"
     },
     "output_type": "display_data"
    }
   ],
   "source": [
    "print(grid_sclf.best_estimator_)\n",
    "print(grid_sclf.best_params_)\n",
    "print('...................................................................\\n\\n')\n",
    "\n",
    "#Prediction\n",
    "y_predict = grid_sclf.predict(x_test_std)\n",
    "\n",
    "print('Accuracy of KNN Model: {}\\n\\n' .format((accuracy_score(y_test,y_predict))))\n",
    "\n",
    "#generate and plot confusion matrix\n",
    "dsvm_cm = confusion_matrix(y_test,y_predict)\n",
    "\n",
    "ax= sns.heatmap(dsvm_cm, annot=True, fmt=\"d\")\n",
    "ax.set_xlabel('Predicted labels')\n",
    "ax.set_ylabel('True labels')\n",
    "ax.set_title('Confusion Matrix')\n",
    "\n",
    "#Classification Report \n",
    "target_names = ['Normal', 'Pre-seizure', 'Seizure']\n",
    "\n",
    "#print(classification_report(y_test, y_predict, digits=4, target_names=target_names))\n",
    "print(classification_report_imbalanced(y_test, y_predict, target_names=target_names, digits=4))\n",
    "\n",
    "print('....................................................................\\n\\n')\n",
    "\n",
    "#micro recall, precesion, specificity\n",
    "for i in [None, 'micro', 'macro', 'weighted']:\n",
    "    print('sensitivity_specificity {}: {}'.format(i, sensitivity_specificity_support(y_test, y_predict, average=i)))\n",
    "print('\\n')\n",
    "for i in [None, 'micro', 'macro', 'weighted']:\n",
    "    print('\\ngemetric mean {}: {}'.format(i ,geometric_mean_score(y_test, y_predict, average=i)))\n",
    "print('\\n')\n",
    "for i in [None, 'micro', 'macro', 'weighted']:\n",
    "    print('\\n\\nF1 {}: {}'.format(i, f1_score(y_test, y_predict, average=i)))\n",
    "print('\\n')\n",
    "for i in [None, 'micro', 'macro', 'weighted']:\n",
    "    print('\\n\\nprecision {}: {}'.format(i,precision_score(y_test, y_predict, average='micro')))\n",
    "print('\\n')\n",
    "for i in [None, 'micro', 'macro', 'weighted']:\n",
    "    print('\\n\\nrecall {}: {}'.format(i, recall_score(y_test, y_predict, average='micro')))"
   ]
  },
  {
   "cell_type": "code",
   "execution_count": 97,
   "metadata": {
    "scrolled": true
   },
   "outputs": [],
   "source": [
    "# Feature selection using anova F score and p score values\n",
    "\n",
    "def select_kbest_clf(data_frame, target, k):\n",
    "    \"\"\"\n",
    "    Selecting K-Best features for classification\n",
    "    :param data_frame: A pandas dataFrame with the training data\n",
    "    :param target: target variable name in DataFrame\n",
    "    :param k: desired number of features from the data\n",
    "    :returns feature_scores: scores for each feature in the data as \n",
    "    pandas DataFrame\n",
    "    \"\"\"\n",
    "    feat_selector = SelectKBest(f_classif, k=k)\n",
    "    _ = feat_selector.fit(data_frame.drop(target, axis=1), data_frame[target])\n",
    "    \n",
    "    feat_scores = pd.DataFrame()\n",
    "    feat_scores[\"F Score\"] = feat_selector.scores_\n",
    "    feat_scores[\"P Value\"] = feat_selector.pvalues_\n",
    "    feat_scores[\"Support\"] = feat_selector.get_support()\n",
    "    feat_scores[\"Attribute\"] = data_frame.drop(target, axis=1).columns\n",
    "    \n",
    "    return feat_scores\n",
    "\n",
    "features = df.drop(['recordingID','Unnamed: 0','time'], axis=1)\n",
    "\n",
    "res = pd.DataFrame(select_kbest_clf(features, 'sz', 40))\n",
    "f = res.loc[res['Support'] != True]\n",
    "a=[]\n",
    "for i in f['Attribute']:\n",
    "    a.append(i)\n"
   ]
  },
  {
   "cell_type": "code",
   "execution_count": 98,
   "metadata": {
    "scrolled": true
   },
   "outputs": [
    {
     "name": "stdout",
     "output_type": "stream",
     "text": [
      "         F Score        P Value  Support       Attribute\n",
      "0   22496.859045   0.000000e+00     True            mean\n",
      "1   17484.859588   0.000000e+00     True             std\n",
      "2   20833.153076   0.000000e+00     True             rms\n",
      "3     137.407171   9.986568e-32     True        kurtosis\n",
      "4     234.653917   6.042790e-53     True             cov\n",
      "5     217.144907   3.953569e-49     True        skewness\n",
      "6   19268.038418   0.000000e+00     True      delta_mean\n",
      "7   19630.675687   0.000000e+00     True      theta_mean\n",
      "8    2711.551685   0.000000e+00     True      alpha_mean\n",
      "9    2585.783686   0.000000e+00     True       beta_mean\n",
      "10  23493.236092   0.000000e+00     True        all_mean\n",
      "11  14782.207409   0.000000e+00     True       delta_std\n",
      "12  16979.859030   0.000000e+00     True       theta_std\n",
      "13   2480.501002   0.000000e+00     True       alpha_std\n",
      "14    140.303630   2.324315e-32     True        beta_std\n",
      "15  18747.155690   0.000000e+00     True         all_std\n",
      "16     22.871652   1.732722e-06     True       delta_cov\n",
      "17   2419.100429   0.000000e+00     True       theta_cov\n",
      "18    111.134784   5.588417e-26     True       alpha_cov\n",
      "19   3106.411108   0.000000e+00     True        beta_cov\n",
      "20    664.987687  1.801192e-146     True         all_cov\n",
      "21      0.001221   9.721231e-01     True  delta_kurtosis\n",
      "22    217.271165   3.710807e-49     True  theta_kurtosis\n",
      "23      5.343419   2.080133e-02     True  alpha_kurtosis\n",
      "24   1204.125691  2.699533e-263     True   beta_kurtosis\n",
      "25     61.274490   4.981342e-15     True    all_kurtosis\n",
      "26     82.104373   1.298577e-19     True      delta_skew\n",
      "27    442.303089   4.043511e-98     True      theta_skew\n",
      "28      0.730057   3.928656e-01     True      alpha_skew\n",
      "29   2062.258626   0.000000e+00     True       beta_skew\n",
      "30    156.309679   7.400543e-36     True        all_skew\n",
      "31  17132.410400   0.000000e+00     True       delta_rms\n",
      "32  20909.357259   0.000000e+00     True       theta_rms\n",
      "33   4642.896835   0.000000e+00     True       alpha_rms\n",
      "34   6555.209089   0.000000e+00     True        beta_rms\n",
      "35  22781.209681   0.000000e+00     True         all_rms\n",
      "36  17670.066905   0.000000e+00     True      delta_data\n",
      "37  18385.080464   0.000000e+00     True      theta_data\n",
      "38   2654.353137   0.000000e+00     True      alpha_data\n",
      "39   3136.706377   0.000000e+00     True       beta_data\n"
     ]
    }
   ],
   "source": [
    "print(res)"
   ]
  },
  {
   "cell_type": "code",
   "execution_count": 91,
   "metadata": {
    "scrolled": true
   },
   "outputs": [
    {
     "name": "stdout",
     "output_type": "stream",
     "text": [
      "Fitting 10 folds for each of 5 candidates, totalling 50 fits\n",
      "[CV] n_neighbors=1 ...................................................\n",
      "[CV] n_neighbors=1 ...................................................\n",
      "[CV] n_neighbors=1 ...................................................\n",
      "[CV] n_neighbors=1 ...................................................\n",
      "[CV] n_neighbors=1 ...................................................\n",
      "[CV] n_neighbors=1 ...................................................\n",
      "[CV] n_neighbors=1 ...................................................\n",
      "[CV] n_neighbors=1 ...................................................\n",
      "[CV] .......... n_neighbors=1, score=0.7036665796482796, total=  37.2s\n",
      "[CV] n_neighbors=1 ...................................................\n",
      "[CV] .......... n_neighbors=1, score=0.6909583238778082, total=  37.8s\n",
      "[CV] n_neighbors=1 ...................................................\n",
      "[CV] .......... n_neighbors=1, score=0.7095409794287972, total=  37.4s\n",
      "[CV] .......... n_neighbors=1, score=0.7022516586655498, total=  37.9s\n",
      "[CV] n_neighbors=2 ...................................................\n",
      "[CV] n_neighbors=2 ...................................................\n",
      "[CV] .......... n_neighbors=1, score=0.7027990347445415, total=  39.4s\n",
      "[CV] n_neighbors=2 ...................................................\n",
      "[CV] .......... n_neighbors=1, score=0.6925904273991457, total=  38.4s\n",
      "[CV] n_neighbors=2 ...................................................\n",
      "[CV] .......... n_neighbors=1, score=0.7106609764284393, total=  39.1s\n",
      "[CV] n_neighbors=2 ...................................................\n",
      "[CV] .......... n_neighbors=1, score=0.7046747252820386, total=  39.1s\n",
      "[CV] n_neighbors=2 ...................................................\n",
      "[CV] ........... n_neighbors=1, score=0.671058975287655, total=  35.8s\n",
      "[CV] n_neighbors=2 ...................................................\n"
     ]
    },
    {
     "name": "stderr",
     "output_type": "stream",
     "text": [
      "[Parallel(n_jobs=-1)]: Done   9 tasks      | elapsed:  1.5min\n"
     ]
    },
    {
     "name": "stdout",
     "output_type": "stream",
     "text": [
      "[CV] .......... n_neighbors=1, score=0.7143153684499287, total=  35.1s\n",
      "[CV] n_neighbors=2 ...................................................\n",
      "[CV] .......... n_neighbors=2, score=0.6675704015794893, total=  47.3s\n",
      "[CV] n_neighbors=2 ...................................................\n",
      "[CV] .......... n_neighbors=2, score=0.6553915530785056, total=  50.3s\n",
      "[CV] n_neighbors=2 ...................................................\n",
      "[CV] ........... n_neighbors=2, score=0.662817722926957, total=  51.1s\n",
      "[CV] n_neighbors=3 ...................................................\n",
      "[CV] ............ n_neighbors=2, score=0.65247323980097, total=  49.5s\n",
      "[CV] n_neighbors=3 ...................................................\n",
      "[CV] .......... n_neighbors=2, score=0.6614110362788366, total=  49.6s\n",
      "[CV] n_neighbors=3 ...................................................\n",
      "[CV] .......... n_neighbors=2, score=0.6632215323144091, total=  51.0s\n",
      "[CV] n_neighbors=3 ...................................................\n",
      "[CV] .......... n_neighbors=2, score=0.6496827710121782, total=  49.3s\n",
      "[CV] n_neighbors=3 ...................................................\n",
      "[CV] .......... n_neighbors=2, score=0.6457974202775077, total=  50.4s\n",
      "[CV] n_neighbors=3 ...................................................\n",
      "[CV] .......... n_neighbors=2, score=0.6730716994957029, total=  46.3s\n",
      "[CV] n_neighbors=3 ...................................................\n",
      "[CV] .......... n_neighbors=2, score=0.6326053079793554, total=  46.0s\n",
      "[CV] n_neighbors=3 ...................................................\n",
      "[CV] .......... n_neighbors=3, score=0.6965862999067101, total=  56.9s\n",
      "[CV] n_neighbors=3 ...................................................\n",
      "[CV] .......... n_neighbors=3, score=0.7011227758742433, total=  55.0s\n",
      "[CV] n_neighbors=3 ...................................................\n",
      "[CV] .......... n_neighbors=3, score=0.6962785114045619, total=  56.3s\n",
      "[CV] n_neighbors=4 ...................................................\n",
      "[CV] .......... n_neighbors=3, score=0.7039554877336935, total=  57.8s\n",
      "[CV] n_neighbors=4 ...................................................\n",
      "[CV] .......... n_neighbors=3, score=0.7204851220962152, total=  55.0s\n",
      "[CV] n_neighbors=4 ...................................................\n",
      "[CV] .......... n_neighbors=3, score=0.7019094979930549, total=  56.0s\n",
      "[CV] n_neighbors=4 ...................................................\n",
      "[CV] .......... n_neighbors=3, score=0.6978307441998892, total=  57.0s\n",
      "[CV] n_neighbors=4 ...................................................\n",
      "[CV] .......... n_neighbors=3, score=0.6941218537744103, total=  56.3s\n",
      "[CV] n_neighbors=4 ...................................................\n",
      "[CV] .......... n_neighbors=3, score=0.6722734147582967, total=  53.1s\n",
      "[CV] n_neighbors=4 ...................................................\n",
      "[CV] .......... n_neighbors=3, score=0.7168933062858884, total=  53.0s\n",
      "[CV] n_neighbors=4 ...................................................\n",
      "[CV] .......... n_neighbors=4, score=0.6744870775034566, total= 1.0min\n",
      "[CV] n_neighbors=4 ...................................................\n",
      "[CV] .......... n_neighbors=4, score=0.6839653239237214, total= 1.0min\n",
      "[CV] n_neighbors=4 ...................................................\n",
      "[CV] ........... n_neighbors=4, score=0.657776445243516, total= 1.0min\n",
      "[CV] n_neighbors=5 ...................................................\n",
      "[CV] .......... n_neighbors=4, score=0.6700719023006352, total=  59.6s\n",
      "[CV] n_neighbors=5 ...................................................\n",
      "[CV] .......... n_neighbors=4, score=0.6706562738451937, total=  59.4s\n",
      "[CV] n_neighbors=5 ...................................................\n",
      "[CV] .......... n_neighbors=4, score=0.6762196308291948, total= 1.0min\n",
      "[CV] n_neighbors=5 ...................................................\n",
      "[CV] .......... n_neighbors=4, score=0.6671969471751129, total= 1.0min\n",
      "[CV] n_neighbors=5 ...................................................\n",
      "[CV] .......... n_neighbors=4, score=0.6688324409037483, total= 1.0min\n",
      "[CV] n_neighbors=5 ...................................................\n",
      "[CV] .......... n_neighbors=4, score=0.6417774308754193, total=  57.1s\n",
      "[CV] n_neighbors=5 ...................................................\n",
      "[CV] .......... n_neighbors=4, score=0.6807805647968331, total=  56.5s\n",
      "[CV] n_neighbors=5 ...................................................\n",
      "[CV] .......... n_neighbors=5, score=0.6942550438554725, total= 1.1min\n",
      "[CV] n_neighbors=5 ...................................................\n",
      "[CV] .......... n_neighbors=5, score=0.7109601687747781, total= 1.1min\n",
      "[CV] n_neighbors=5 ...................................................\n",
      "[CV] .......... n_neighbors=5, score=0.7061469265367316, total= 1.1min\n",
      "[CV] .......... n_neighbors=5, score=0.6978717808818117, total= 1.1min\n",
      "[CV] .......... n_neighbors=5, score=0.7123128565776207, total= 1.1min\n",
      "[CV] .......... n_neighbors=5, score=0.7029729599741088, total= 1.1min\n",
      "[CV] ........... n_neighbors=5, score=0.696454650309617, total= 1.0min\n",
      "[CV] .......... n_neighbors=5, score=0.7016133441783478, total= 1.1min\n"
     ]
    },
    {
     "name": "stderr",
     "output_type": "stream",
     "text": [
      "[Parallel(n_jobs=-1)]: Done  48 out of  50 | elapsed: 42.1min remaining:  1.8min\n"
     ]
    },
    {
     "name": "stdout",
     "output_type": "stream",
     "text": [
      "[CV] .......... n_neighbors=5, score=0.6667287892681822, total= 1.0min\n",
      "[CV] .......... n_neighbors=5, score=0.7327337656337477, total=  59.5s\n"
     ]
    },
    {
     "name": "stderr",
     "output_type": "stream",
     "text": [
      "[Parallel(n_jobs=-1)]: Done  50 out of  50 | elapsed: 43.1min finished\n"
     ]
    },
    {
     "data": {
      "text/plain": [
       "GridSearchCV(cv=StratifiedKFold(n_splits=10, random_state=2018, shuffle=True),\n",
       "       error_score='raise',\n",
       "       estimator=KNeighborsClassifier(algorithm='auto', leaf_size=30, metric='minkowski',\n",
       "           metric_params=None, n_jobs=1, n_neighbors=5, p=2,\n",
       "           weights='uniform'),\n",
       "       fit_params=None, iid=True, n_jobs=-1,\n",
       "       param_grid={'n_neighbors': [1, 2, 3, 4, 5]},\n",
       "       pre_dispatch='2*n_jobs', refit=True, return_train_score='warn',\n",
       "       scoring='f1_macro', verbose=4)"
      ]
     },
     "execution_count": 91,
     "metadata": {},
     "output_type": "execute_result"
    }
   ],
   "source": [
    "# Apply KNN after ANOVA Test\n",
    "\n",
    "x = df.drop(['sz','recordingID','Unnamed: 0','time'], axis=1)\n",
    "x = x.drop(a, axis=1)\n",
    "y = df['sz']\n",
    "\n",
    "x_train, x_test, y_train, y_test = train_test_split(x, y, train_size=0.7, test_size=0.3, random_state=random_state)\n",
    "\n",
    "#dissimilar scales of data, StandardScaler should be used\n",
    "sc = StandardScaler()\n",
    "sc.fit(x_train)\n",
    "x_train_std = sc.transform(x_train)\n",
    "x_test_std = sc.transform(x_test)\n",
    "cv = StratifiedKFold(n_splits = 10, shuffle=True, random_state = random_state)\n",
    "\n",
    "clf = KNeighborsClassifier(metric='minkowski', p=2)\n",
    "\n",
    "params = {'n_neighbors': list(range(1,6))\n",
    "         } \n",
    "\n",
    "grid_sclf = GridSearchCV(estimator = clf, param_grid = params, cv = cv, n_jobs=-1, scoring='f1_macro', verbose=4)\n",
    "grid_sclf.fit(x_train_std, y_train)"
   ]
  },
  {
   "cell_type": "code",
   "execution_count": 92,
   "metadata": {
    "scrolled": true
   },
   "outputs": [
    {
     "name": "stdout",
     "output_type": "stream",
     "text": [
      "KNeighborsClassifier(algorithm='auto', leaf_size=30, metric='minkowski',\n",
      "           metric_params=None, n_jobs=1, n_neighbors=5, p=2,\n",
      "           weights='uniform')\n",
      "{'n_neighbors': 5}\n",
      "...................................................................\n",
      "\n",
      "\n",
      "Accuracy of KNN Model: 0.9832528180354267\n",
      "\n",
      "\n",
      "                   pre       rec       spe        f1       geo       iba       sup\n",
      "\n",
      "     Normal     0.9875    0.9955    0.3235    0.9915    0.7519    0.5889     85354\n",
      "Pre-seizure     0.5725    0.3235    0.9955    0.4134    0.7519    0.5419      1586\n",
      "\n",
      "avg / total     0.9800    0.9833    0.3357    0.9810    0.7519    0.5880     86940\n",
      "\n",
      "....................................................................\n",
      "\n",
      "\n",
      "sensitivity_specificity None: (array([0.99551281, 0.32345523]), array([0.32345523, 0.99551281]), array([85354,  1586]))\n",
      "sensitivity_specificity micro: (0.9832528180354267, 0.9832528180354267, None)\n",
      "sensitivity_specificity macro: (0.6594840193918594, 0.6594840193918594, None)\n",
      "sensitivity_specificity weighted: (0.9832528180354267, 0.33571522074829196, None)\n",
      "\n",
      "\n",
      "\n",
      "gemetric mean None: [0.56745381 0.56745381]\n",
      "\n",
      "gemetric mean micro: 0.9832528180354267\n",
      "\n",
      "gemetric mean macro: 0.6594840193918594\n",
      "\n",
      "gemetric mean weighted: 0.5745371501114123\n",
      "\n",
      "\n",
      "\n",
      "\n",
      "F1 None: [0.99150515 0.41337631]\n",
      "\n",
      "\n",
      "F1 micro: 0.9832528180354267\n",
      "\n",
      "\n",
      "F1 macro: 0.7024407305899716\n",
      "\n",
      "\n",
      "F1 weighted: 0.9809586559627117\n",
      "\n",
      "\n",
      "\n",
      "\n",
      "precision None: 0.9832528180354267\n",
      "\n",
      "\n",
      "precision micro: 0.9832528180354267\n",
      "\n",
      "\n",
      "precision macro: 0.9832528180354267\n",
      "\n",
      "\n",
      "precision weighted: 0.9832528180354267\n",
      "\n",
      "\n",
      "\n",
      "\n",
      "recall None: 0.9832528180354267\n",
      "\n",
      "\n",
      "recall micro: 0.9832528180354267\n",
      "\n",
      "\n",
      "recall macro: 0.9832528180354267\n",
      "\n",
      "\n",
      "recall weighted: 0.9832528180354267\n"
     ]
    },
    {
     "data": {
      "image/png": "[encoded data removed]",
      "text/plain": [
       "<Figure size 432x288 with 2 Axes>"
      ]
     },
     "metadata": {
      "needs_background": "light"
     },
     "output_type": "display_data"
    }
   ],
   "source": [
    "print(grid_sclf.best_estimator_)\n",
    "print(grid_sclf.best_params_)\n",
    "print('...................................................................\\n\\n')\n",
    "\n",
    "#Prediction\n",
    "y_predict = grid_sclf.predict(x_test_std)\n",
    "\n",
    "print('Accuracy of KNN Model: {}\\n\\n' .format((accuracy_score(y_test,y_predict))))\n",
    "\n",
    "#generate and plot confusion matrix\n",
    "dsvm_cm = confusion_matrix(y_test,y_predict)\n",
    "\n",
    "ax= sns.heatmap(dsvm_cm, annot=True, fmt=\"d\")\n",
    "ax.set_xlabel('Predicted labels')\n",
    "ax.set_ylabel('True labels')\n",
    "ax.set_title('Confusion Matrix')\n",
    "\n",
    "#Classification Report \n",
    "target_names = ['Normal', 'Pre-seizure', 'Seizure']\n",
    "\n",
    "#print(classification_report(y_test, y_predict, digits=4, target_names=target_names))\n",
    "print(classification_report_imbalanced(y_test, y_predict, target_names=target_names, digits=4))\n",
    "\n",
    "print('....................................................................\\n\\n')\n",
    "\n",
    "#micro recall, precesion, specificity\n",
    "for i in [None, 'micro', 'macro', 'weighted']:\n",
    "    print('sensitivity_specificity {}: {}'.format(i, sensitivity_specificity_support(y_test, y_predict, average=i)))\n",
    "print('\\n')\n",
    "for i in [None, 'micro', 'macro', 'weighted']:\n",
    "    print('\\ngemetric mean {}: {}'.format(i ,geometric_mean_score(y_test, y_predict, average=i)))\n",
    "print('\\n')\n",
    "for i in [None, 'micro', 'macro', 'weighted']:\n",
    "    print('\\n\\nF1 {}: {}'.format(i, f1_score(y_test, y_predict, average=i)))\n",
    "print('\\n')\n",
    "for i in [None, 'micro', 'macro', 'weighted']:\n",
    "    print('\\n\\nprecision {}: {}'.format(i,precision_score(y_test, y_predict, average='micro')))\n",
    "print('\\n')\n",
    "for i in [None, 'micro', 'macro', 'weighted']:\n",
    "    print('\\n\\nrecall {}: {}'.format(i, recall_score(y_test, y_predict, average='micro')))"
   ]
  },
  {
   "cell_type": "code",
   "execution_count": 6,
   "metadata": {},
   "outputs": [
    {
     "data": {
      "text/html": [
       "<div>\n",
       "<style scoped>\n",
       "    .dataframe tbody tr th:only-of-type {\n",
       "        vertical-align: middle;\n",
       "    }\n",
       "\n",
       "    .dataframe tbody tr th {\n",
       "        vertical-align: top;\n",
       "    }\n",
       "\n",
       "    .dataframe thead th {\n",
       "        text-align: right;\n",
       "    }\n",
       "</style>\n",
       "<table border=\"1\" class=\"dataframe\">\n",
       "  <thead>\n",
       "    <tr style=\"text-align: right;\">\n",
       "      <th></th>\n",
       "      <th>0</th>\n",
       "      <th>1</th>\n",
       "      <th>2</th>\n",
       "      <th>3</th>\n",
       "      <th>4</th>\n",
       "      <th>5</th>\n",
       "      <th>6</th>\n",
       "      <th>7</th>\n",
       "      <th>8</th>\n",
       "      <th>9</th>\n",
       "      <th>...</th>\n",
       "      <th>14</th>\n",
       "      <th>15</th>\n",
       "      <th>16</th>\n",
       "      <th>17</th>\n",
       "      <th>18</th>\n",
       "      <th>19</th>\n",
       "      <th>20</th>\n",
       "      <th>21</th>\n",
       "      <th>index</th>\n",
       "      <th>sz</th>\n",
       "    </tr>\n",
       "  </thead>\n",
       "  <tbody>\n",
       "    <tr>\n",
       "      <th>0</th>\n",
       "      <td>-2.744205</td>\n",
       "      <td>-0.746953</td>\n",
       "      <td>5.603104</td>\n",
       "      <td>2.995515</td>\n",
       "      <td>-1.412850</td>\n",
       "      <td>4.336597</td>\n",
       "      <td>4.650138</td>\n",
       "      <td>-0.050424</td>\n",
       "      <td>-0.297367</td>\n",
       "      <td>-1.604631</td>\n",
       "      <td>...</td>\n",
       "      <td>0.186109</td>\n",
       "      <td>0.858063</td>\n",
       "      <td>-0.205713</td>\n",
       "      <td>-5.227849</td>\n",
       "      <td>-4.862005</td>\n",
       "      <td>0.027308</td>\n",
       "      <td>-0.295263</td>\n",
       "      <td>-0.000031</td>\n",
       "      <td>0</td>\n",
       "      <td>0</td>\n",
       "    </tr>\n",
       "    <tr>\n",
       "      <th>1</th>\n",
       "      <td>-2.471188</td>\n",
       "      <td>0.275462</td>\n",
       "      <td>9.147368</td>\n",
       "      <td>-1.397674</td>\n",
       "      <td>-1.956122</td>\n",
       "      <td>1.040428</td>\n",
       "      <td>2.965467</td>\n",
       "      <td>2.129859</td>\n",
       "      <td>0.385901</td>\n",
       "      <td>-0.166485</td>\n",
       "      <td>...</td>\n",
       "      <td>0.659045</td>\n",
       "      <td>0.051311</td>\n",
       "      <td>-0.048404</td>\n",
       "      <td>-2.754876</td>\n",
       "      <td>0.141165</td>\n",
       "      <td>-0.153224</td>\n",
       "      <td>0.445115</td>\n",
       "      <td>0.505123</td>\n",
       "      <td>1</td>\n",
       "      <td>0</td>\n",
       "    </tr>\n",
       "    <tr>\n",
       "      <th>2</th>\n",
       "      <td>-2.284085</td>\n",
       "      <td>-1.384750</td>\n",
       "      <td>2.596187</td>\n",
       "      <td>-0.117649</td>\n",
       "      <td>-1.146322</td>\n",
       "      <td>0.594319</td>\n",
       "      <td>-0.898110</td>\n",
       "      <td>1.583014</td>\n",
       "      <td>-1.524657</td>\n",
       "      <td>0.314412</td>\n",
       "      <td>...</td>\n",
       "      <td>-0.679381</td>\n",
       "      <td>0.074218</td>\n",
       "      <td>0.456622</td>\n",
       "      <td>-1.344410</td>\n",
       "      <td>0.187787</td>\n",
       "      <td>-0.212919</td>\n",
       "      <td>0.150613</td>\n",
       "      <td>0.043600</td>\n",
       "      <td>2</td>\n",
       "      <td>0</td>\n",
       "    </tr>\n",
       "    <tr>\n",
       "      <th>3</th>\n",
       "      <td>-2.287461</td>\n",
       "      <td>-1.634864</td>\n",
       "      <td>1.832991</td>\n",
       "      <td>-0.525374</td>\n",
       "      <td>0.394799</td>\n",
       "      <td>-0.023698</td>\n",
       "      <td>0.280990</td>\n",
       "      <td>1.251438</td>\n",
       "      <td>-1.342037</td>\n",
       "      <td>0.733970</td>\n",
       "      <td>...</td>\n",
       "      <td>-0.369783</td>\n",
       "      <td>-0.035517</td>\n",
       "      <td>0.152765</td>\n",
       "      <td>0.314785</td>\n",
       "      <td>-0.605212</td>\n",
       "      <td>0.063014</td>\n",
       "      <td>0.172210</td>\n",
       "      <td>-0.012549</td>\n",
       "      <td>3</td>\n",
       "      <td>0</td>\n",
       "    </tr>\n",
       "    <tr>\n",
       "      <th>4</th>\n",
       "      <td>-2.485583</td>\n",
       "      <td>0.211655</td>\n",
       "      <td>7.496917</td>\n",
       "      <td>-1.339822</td>\n",
       "      <td>-3.050006</td>\n",
       "      <td>0.761526</td>\n",
       "      <td>3.249200</td>\n",
       "      <td>1.927825</td>\n",
       "      <td>0.192421</td>\n",
       "      <td>-1.036545</td>\n",
       "      <td>...</td>\n",
       "      <td>1.771516</td>\n",
       "      <td>-0.007587</td>\n",
       "      <td>-0.524679</td>\n",
       "      <td>-1.625275</td>\n",
       "      <td>0.976335</td>\n",
       "      <td>-0.402456</td>\n",
       "      <td>-0.014346</td>\n",
       "      <td>0.159161</td>\n",
       "      <td>4</td>\n",
       "      <td>0</td>\n",
       "    </tr>\n",
       "  </tbody>\n",
       "</table>\n",
       "<p>5 rows × 24 columns</p>\n",
       "</div>"
      ],
      "text/plain": [
       "          0         1         2         3         4         5         6  \\\n",
       "0 -2.744205 -0.746953  5.603104  2.995515 -1.412850  4.336597  4.650138   \n",
       "1 -2.471188  0.275462  9.147368 -1.397674 -1.956122  1.040428  2.965467   \n",
       "2 -2.284085 -1.384750  2.596187 -0.117649 -1.146322  0.594319 -0.898110   \n",
       "3 -2.287461 -1.634864  1.832991 -0.525374  0.394799 -0.023698  0.280990   \n",
       "4 -2.485583  0.211655  7.496917 -1.339822 -3.050006  0.761526  3.249200   \n",
       "\n",
       "          7         8         9 ...        14        15        16        17  \\\n",
       "0 -0.050424 -0.297367 -1.604631 ...  0.186109  0.858063 -0.205713 -5.227849   \n",
       "1  2.129859  0.385901 -0.166485 ...  0.659045  0.051311 -0.048404 -2.754876   \n",
       "2  1.583014 -1.524657  0.314412 ... -0.679381  0.074218  0.456622 -1.344410   \n",
       "3  1.251438 -1.342037  0.733970 ... -0.369783 -0.035517  0.152765  0.314785   \n",
       "4  1.927825  0.192421 -1.036545 ...  1.771516 -0.007587 -0.524679 -1.625275   \n",
       "\n",
       "         18        19        20        21  index  sz  \n",
       "0 -4.862005  0.027308 -0.295263 -0.000031      0   0  \n",
       "1  0.141165 -0.153224  0.445115  0.505123      1   0  \n",
       "2  0.187787 -0.212919  0.150613  0.043600      2   0  \n",
       "3 -0.605212  0.063014  0.172210 -0.012549      3   0  \n",
       "4  0.976335 -0.402456 -0.014346  0.159161      4   0  \n",
       "\n",
       "[5 rows x 24 columns]"
      ]
     },
     "execution_count": 6,
     "metadata": {},
     "output_type": "execute_result"
    }
   ],
   "source": [
    "finalDf.head()"
   ]
  },
  {
   "cell_type": "code",
   "execution_count": 7,
   "metadata": {
    "scrolled": true
   },
   "outputs": [
    {
     "name": "stdout",
     "output_type": "stream",
     "text": [
      "Fitting 10 folds for each of 2 candidates, totalling 20 fits\n",
      "[CV] n_neighbors=1 ...................................................\n",
      "[CV] n_neighbors=1 ...................................................\n",
      "[CV] n_neighbors=1 ...................................................\n",
      "[CV] n_neighbors=1 ...................................................\n",
      "[CV] n_neighbors=1 ...................................................\n",
      "[CV] n_neighbors=1 ...................................................\n",
      "[CV] n_neighbors=1 ...................................................\n",
      "[CV] n_neighbors=1 ...................................................\n",
      "[CV] .......... n_neighbors=1, score=0.9370602563134325, total= 3.9min\n",
      "[CV] n_neighbors=1 ...................................................\n",
      "[CV] ............ n_neighbors=1, score=0.93717195590115, total= 3.9min\n",
      "[CV] n_neighbors=1 ...................................................\n",
      "[CV] .......... n_neighbors=1, score=0.9367790998846579, total= 3.9min\n",
      "[CV] n_neighbors=2 ...................................................\n",
      "[CV] .......... n_neighbors=1, score=0.9354020587934591, total= 3.9min\n",
      "[CV] n_neighbors=2 ...................................................\n",
      "[CV] .......... n_neighbors=1, score=0.9362847858879272, total= 3.9min\n",
      "[CV] n_neighbors=2 ...................................................\n",
      "[CV] .......... n_neighbors=1, score=0.9366326774363292, total= 3.9min\n",
      "[CV] n_neighbors=2 ...................................................\n",
      "[CV] .......... n_neighbors=1, score=0.9358059588130982, total= 4.0min\n",
      "[CV] n_neighbors=2 ...................................................\n",
      "[CV] .......... n_neighbors=1, score=0.9350917047128259, total= 4.1min\n",
      "[CV] n_neighbors=2 ...................................................\n",
      "[CV] .......... n_neighbors=1, score=0.9349846956410466, total= 3.9min\n",
      "[CV] n_neighbors=2 ...................................................\n",
      "[CV] .......... n_neighbors=1, score=0.9365354019805426, total= 4.0min\n",
      "[CV] n_neighbors=2 ...................................................\n",
      "[CV] .......... n_neighbors=2, score=0.9430210109019883, total= 4.9min\n",
      "[CV] n_neighbors=2 ...................................................\n"
     ]
    },
    {
     "name": "stderr",
     "output_type": "stream",
     "text": [
      "[Parallel(n_jobs=-1)]: Done  11 out of  20 | elapsed: 44.0min remaining: 36.0min\n"
     ]
    },
    {
     "name": "stdout",
     "output_type": "stream",
     "text": [
      "[CV] ........... n_neighbors=2, score=0.942731829821183, total= 5.0min\n",
      "[CV] n_neighbors=2 ...................................................\n",
      "[CV] .......... n_neighbors=2, score=0.9430199824278285, total= 5.0min\n",
      "[CV] .......... n_neighbors=2, score=0.9423825904783235, total= 4.9min\n",
      "[CV] .......... n_neighbors=2, score=0.9433189151974732, total= 5.0min\n",
      "[CV] .......... n_neighbors=2, score=0.9439990378067029, total= 5.3min\n",
      "[CV] ........... n_neighbors=2, score=0.941965207352178, total= 5.0min\n"
     ]
    },
    {
     "name": "stderr",
     "output_type": "stream",
     "text": [
      "[Parallel(n_jobs=-1)]: Done  17 out of  20 | elapsed: 47.4min remaining:  8.4min\n"
     ]
    },
    {
     "name": "stdout",
     "output_type": "stream",
     "text": [
      "[CV] .......... n_neighbors=2, score=0.9427260413804089, total= 5.0min\n",
      "[CV] .......... n_neighbors=2, score=0.9431542251416487, total= 3.6min\n",
      "[CV] .......... n_neighbors=2, score=0.9432065395828049, total= 3.7min\n"
     ]
    },
    {
     "name": "stderr",
     "output_type": "stream",
     "text": [
      "[Parallel(n_jobs=-1)]: Done  20 out of  20 | elapsed: 67.9min finished\n"
     ]
    },
    {
     "data": {
      "text/plain": [
       "GridSearchCV(cv=StratifiedKFold(n_splits=10, random_state=2018, shuffle=True),\n",
       "       error_score='raise',\n",
       "       estimator=KNeighborsClassifier(algorithm='auto', leaf_size=30, metric='minkowski',\n",
       "           metric_params=None, n_jobs=1, n_neighbors=5, p=2,\n",
       "           weights='uniform'),\n",
       "       fit_params=None, iid=True, n_jobs=-1,\n",
       "       param_grid={'n_neighbors': [1, 2]}, pre_dispatch='2*n_jobs',\n",
       "       refit=True, return_train_score='warn', scoring='f1_weighted',\n",
       "       verbose=4)"
      ]
     },
     "execution_count": 7,
     "metadata": {},
     "output_type": "execute_result"
    }
   ],
   "source": [
    "# With F1 Score\n",
    "x = finalDf.drop(['sz','index'], axis=1)\n",
    "#x = featuresUnstack.drop(['sz'], axis=1)\n",
    "y = finalDf['sz']\n",
    "\n",
    "x_train, x_test, y_train, y_test = train_test_split(x, y, train_size=0.7, test_size=0.3, random_state=random_state)\n",
    "\n",
    "#dissimilar scales of data, StandardScaler should be used\n",
    "sc = StandardScaler()\n",
    "sc.fit(x_train)\n",
    "x_train_std = sc.transform(x_train)\n",
    "x_test_std = sc.transform(x_test)\n",
    "cv = StratifiedKFold(n_splits = 10, shuffle=True, random_state = random_state)\n",
    "\n",
    "clf = KNeighborsClassifier(metric='minkowski', p=2)\n",
    "\n",
    "params = {'n_neighbors': list(range(1,3))\n",
    "         } \n",
    "\n",
    "grid_sclf = GridSearchCV(estimator = clf, param_grid = params, cv = cv, n_jobs=-1, scoring='f1_weighted', verbose=4)\n",
    "grid_sclf.fit(x_train_std, y_train)"
   ]
  },
  {
   "cell_type": "code",
   "execution_count": 8,
   "metadata": {
    "scrolled": true
   },
   "outputs": [
    {
     "name": "stdout",
     "output_type": "stream",
     "text": [
      "KNeighborsClassifier(algorithm='auto', leaf_size=30, metric='minkowski',\n",
      "           metric_params=None, n_jobs=1, n_neighbors=2, p=2,\n",
      "           weights='uniform')\n",
      "{'n_neighbors': 2}\n",
      "...................................................................\n",
      "\n",
      "\n",
      "Accuracy of KNN Model: 0.9581090407177364\n",
      "\n",
      "\n",
      "                   pre       rec       spe        f1       geo       iba       sup\n",
      "\n",
      "     Normal     0.9615    0.9963    0.0626    0.9786    0.6364    0.4269     83395\n",
      "Pre-seizure     0.1215    0.0112    0.9981    0.0206    0.3447    0.1087      1959\n",
      "    Seizure     0.5376    0.1173    0.9981    0.1925    0.7272    0.5053      1586\n",
      "\n",
      "avg / total     0.9349    0.9581    0.1008    0.9427    0.6315    0.4212     86940\n",
      "\n",
      "....................................................................\n",
      "\n",
      "\n",
      "sensitivity_specificity None: (array([0.99634271, 0.01123022, 0.11727617]), array([0.06262341, 0.99812899, 0.99812545]), array([83395,  1959,  1586]))\n",
      "sensitivity_specificity micro: (0.9581090407177364, 0.9790545203588682, None)\n",
      "sensitivity_specificity macro: (0.37494969745116835, 0.6862926202631513, None)\n",
      "sensitivity_specificity weighted: (0.9581090407177364, 0.10076882007171747, None)\n",
      "\n",
      "\n",
      "\n",
      "gemetric mean None: [0.24978867 0.10587355 0.34213495]\n",
      "\n",
      "gemetric mean micro: 0.9685251609077581\n",
      "\n",
      "gemetric mean macro: 0.5072723236395202\n",
      "\n",
      "gemetric mean weighted: 0.31072096410311845\n",
      "\n",
      "\n",
      "\n",
      "\n",
      "F1 None: [0.97863469 0.02056075 0.19254658]\n",
      "\n",
      "\n",
      "F1 micro: 0.9581090407177364\n",
      "\n",
      "\n",
      "F1 macro: 0.39724734160505076\n",
      "\n",
      "\n",
      "F1 weighted: 0.9427064370194361\n",
      "\n",
      "\n",
      "\n",
      "\n",
      "precision None: 0.9581090407177364\n",
      "\n",
      "\n",
      "precision micro: 0.9581090407177364\n",
      "\n",
      "\n",
      "precision macro: 0.9581090407177364\n",
      "\n",
      "\n",
      "precision weighted: 0.9581090407177364\n",
      "\n",
      "\n",
      "\n",
      "\n",
      "recall None: 0.9581090407177364\n",
      "\n",
      "\n",
      "recall micro: 0.9581090407177364\n",
      "\n",
      "\n",
      "recall macro: 0.9581090407177364\n",
      "\n",
      "\n",
      "recall weighted: 0.9581090407177364\n"
     ]
    },
    {
     "data": {
      "image/png": "[encoded data removed]",
      "text/plain": [
       "<Figure size 432x288 with 2 Axes>"
      ]
     },
     "metadata": {
      "needs_background": "light"
     },
     "output_type": "display_data"
    }
   ],
   "source": [
    "print(grid_sclf.best_estimator_)\n",
    "print(grid_sclf.best_params_)\n",
    "print('...................................................................\\n\\n')\n",
    "\n",
    "#Prediction\n",
    "y_predict = grid_sclf.predict(x_test_std)\n",
    "\n",
    "print('Accuracy of KNN Model: {}\\n\\n' .format((accuracy_score(y_test,y_predict))))\n",
    "\n",
    "#generate and plot confusion matrix\n",
    "dsvm_cm = confusion_matrix(y_test,y_predict)\n",
    "\n",
    "ax= sns.heatmap(dsvm_cm, annot=True, fmt=\"d\")\n",
    "ax.set_xlabel('Predicted labels')\n",
    "ax.set_ylabel('True labels')\n",
    "ax.set_title('Confusion Matrix')\n",
    "\n",
    "#Classification Report \n",
    "target_names = ['Normal', 'Pre-seizure', 'Seizure']\n",
    "\n",
    "#print(classification_report(y_test, y_predict, digits=4, target_names=target_names))\n",
    "print(classification_report_imbalanced(y_test, y_predict, target_names=target_names, digits=4))\n",
    "\n",
    "print('....................................................................\\n\\n')\n",
    "\n",
    "#micro recall, precesion, specificity\n",
    "for i in [None, 'micro', 'macro', 'weighted']:\n",
    "    print('sensitivity_specificity {}: {}'.format(i, sensitivity_specificity_support(y_test, y_predict, average=i)))\n",
    "print('\\n')\n",
    "for i in [None, 'micro', 'macro', 'weighted']:\n",
    "    print('\\ngemetric mean {}: {}'.format(i ,geometric_mean_score(y_test, y_predict, average=i)))\n",
    "print('\\n')\n",
    "for i in [None, 'micro', 'macro', 'weighted']:\n",
    "    print('\\n\\nF1 {}: {}'.format(i, f1_score(y_test, y_predict, average=i)))\n",
    "print('\\n')\n",
    "for i in [None, 'micro', 'macro', 'weighted']:\n",
    "    print('\\n\\nprecision {}: {}'.format(i,precision_score(y_test, y_predict, average='micro')))\n",
    "print('\\n')\n",
    "for i in [None, 'micro', 'macro', 'weighted']:\n",
    "    print('\\n\\nrecall {}: {}'.format(i, recall_score(y_test, y_predict, average='micro')))"
   ]
  },
  {
   "cell_type": "code",
   "execution_count": 2,
   "metadata": {},
   "outputs": [
    {
     "data": {
      "text/plain": [
       "54"
      ]
     },
     "execution_count": 2,
     "metadata": {},
     "output_type": "execute_result"
    }
   ],
   "source": [
    "# Binary Classification\n",
    "lebaledCSVFile = '/home/mirwais/notebooks/paper_2/data/lebaled/chb01_time_freq_segments.csv'\n",
    "df = pd.read_csv(lebaledCSVFile)\n",
    "df.columns.size"
   ]
  },
  {
   "cell_type": "code",
   "execution_count": 3,
   "metadata": {},
   "outputs": [
    {
     "data": {
      "text/plain": [
       "0    284533\n",
       "2      5267\n",
       "Name: sz, dtype: int64"
      ]
     },
     "execution_count": 3,
     "metadata": {},
     "output_type": "execute_result"
    }
   ],
   "source": [
    "df[\"sz\"].value_counts()"
   ]
  },
  {
   "cell_type": "code",
   "execution_count": 4,
   "metadata": {
    "scrolled": true
   },
   "outputs": [
    {
     "name": "stdout",
     "output_type": "stream",
     "text": [
      "Fitting 10 folds for each of 2 candidates, totalling 20 fits\n",
      "[CV] n_neighbors=1 ...................................................\n",
      "[CV] n_neighbors=1 ...................................................\n",
      "[CV] n_neighbors=1 ...................................................\n",
      "[CV] n_neighbors=1 ...................................................\n",
      "[CV] n_neighbors=1 ...................................................\n",
      "[CV] n_neighbors=1 ...................................................\n",
      "[CV] n_neighbors=1 ...................................................\n",
      "[CV] n_neighbors=1 ...................................................\n",
      "[CV] .......... n_neighbors=1, score=0.9751815730175569, total= 6.8min\n",
      "[CV] n_neighbors=1 ...................................................\n",
      "[CV] .......... n_neighbors=1, score=0.9759460527316053, total= 6.8min\n",
      "[CV] n_neighbors=1 ...................................................\n",
      "[CV] .......... n_neighbors=1, score=0.9757406012164096, total= 6.6min\n",
      "[CV] n_neighbors=2 ...................................................\n",
      "[CV] .......... n_neighbors=1, score=0.9733749928805493, total= 6.8min\n",
      "[CV] n_neighbors=2 ...................................................\n",
      "[CV] .......... n_neighbors=1, score=0.9744310007192118, total= 6.8min\n",
      "[CV] n_neighbors=2 ...................................................\n",
      "[CV] .......... n_neighbors=1, score=0.9754180942553491, total= 6.8min\n",
      "[CV] n_neighbors=2 ...................................................\n",
      "[CV] .......... n_neighbors=1, score=0.9743825894527299, total= 6.9min\n",
      "[CV] n_neighbors=2 ...................................................\n",
      "[CV] .......... n_neighbors=1, score=0.9753195951794209, total= 6.9min\n",
      "[CV] n_neighbors=2 ...................................................\n",
      "[CV] .......... n_neighbors=1, score=0.9750817000719536, total= 6.9min\n",
      "[CV] n_neighbors=2 ...................................................\n",
      "[CV] .......... n_neighbors=1, score=0.9752198636649527, total= 6.7min\n",
      "[CV] n_neighbors=2 ...................................................\n",
      "[CV] .......... n_neighbors=2, score=0.9769625891804481, total= 8.0min\n",
      "[CV] n_neighbors=2 ...................................................\n"
     ]
    },
    {
     "name": "stderr",
     "output_type": "stream",
     "text": [
      "[Parallel(n_jobs=-1)]: Done  11 out of  20 | elapsed: 90.7min remaining: 74.2min\n"
     ]
    },
    {
     "name": "stdout",
     "output_type": "stream",
     "text": [
      "[CV] .......... n_neighbors=2, score=0.9774149293957806, total= 8.0min\n",
      "[CV] n_neighbors=2 ...................................................\n",
      "[CV] .......... n_neighbors=2, score=0.9755875348716488, total= 8.0min\n",
      "[CV] .......... n_neighbors=2, score=0.9766402487779722, total= 8.0min\n",
      "[CV] .......... n_neighbors=2, score=0.9767441680035666, total= 8.0min\n",
      "[CV] .......... n_neighbors=2, score=0.9766695082647642, total= 7.7min\n",
      "[CV] .......... n_neighbors=2, score=0.9760000605315835, total= 7.9min\n"
     ]
    },
    {
     "name": "stderr",
     "output_type": "stream",
     "text": [
      "[Parallel(n_jobs=-1)]: Done  17 out of  20 | elapsed: 105.4min remaining: 18.6min\n"
     ]
    },
    {
     "name": "stdout",
     "output_type": "stream",
     "text": [
      "[CV] .......... n_neighbors=2, score=0.9765795566586936, total= 8.0min\n",
      "[CV] .......... n_neighbors=2, score=0.9773058376725493, total= 5.6min\n",
      "[CV] .......... n_neighbors=2, score=0.9768672996537753, total= 5.9min\n"
     ]
    },
    {
     "name": "stderr",
     "output_type": "stream",
     "text": [
      "[Parallel(n_jobs=-1)]: Done  20 out of  20 | elapsed: 134.0min finished\n"
     ]
    },
    {
     "data": {
      "text/plain": [
       "GridSearchCV(cv=StratifiedKFold(n_splits=10, random_state=2018, shuffle=True),\n",
       "       error_score='raise',\n",
       "       estimator=KNeighborsClassifier(algorithm='auto', leaf_size=30, metric='minkowski',\n",
       "           metric_params=None, n_jobs=1, n_neighbors=5, p=2,\n",
       "           weights='uniform'),\n",
       "       fit_params=None, iid=True, n_jobs=-1,\n",
       "       param_grid={'n_neighbors': [1, 2]}, pre_dispatch='2*n_jobs',\n",
       "       refit=True, return_train_score='warn', scoring='f1_weighted',\n",
       "       verbose=4)"
      ]
     },
     "execution_count": 4,
     "metadata": {},
     "output_type": "execute_result"
    }
   ],
   "source": [
    "# With F1 Score\n",
    "x = df.drop(['sz','recordingID','Unnamed: 0','recordingID.1','time'], axis=1)\n",
    "#x = featuresUnstack.drop(['sz'], axis=1)\n",
    "y = df['sz']\n",
    "\n",
    "x_train, x_test, y_train, y_test = train_test_split(x, y, train_size=0.7, test_size=0.3, random_state=random_state)\n",
    "\n",
    "#dissimilar scales of data, StandardScaler should be used\n",
    "sc = StandardScaler()\n",
    "sc.fit(x_train)\n",
    "x_train_std = sc.transform(x_train)\n",
    "x_test_std = sc.transform(x_test)\n",
    "cv = StratifiedKFold(n_splits = 10, shuffle=True, random_state = random_state)\n",
    "\n",
    "clf = KNeighborsClassifier(metric='minkowski', p=2)\n",
    "\n",
    "params = {'n_neighbors': list(range(1,3))\n",
    "         } \n",
    "\n",
    "grid_sclf = GridSearchCV(estimator = clf, param_grid = params, cv = cv, n_jobs=-1, scoring='f1_weighted', verbose=4)\n",
    "grid_sclf.fit(x_train_std, y_train)"
   ]
  },
  {
   "cell_type": "code",
   "execution_count": 5,
   "metadata": {
    "scrolled": true
   },
   "outputs": [
    {
     "name": "stdout",
     "output_type": "stream",
     "text": [
      "KNeighborsClassifier(algorithm='auto', leaf_size=30, metric='minkowski',\n",
      "           metric_params=None, n_jobs=1, n_neighbors=2, p=2,\n",
      "           weights='uniform')\n",
      "{'n_neighbors': 2}\n",
      "...................................................................\n",
      "\n",
      "\n",
      "Accuracy of KNN Model: 0.9817920404876926\n",
      "\n",
      "\n",
      "                   pre       rec       spe        f1       geo       iba       sup\n",
      "\n",
      "     Normal     0.9841    0.9976    0.1330    0.9908    0.7040    0.5194     85354\n",
      "Pre-seizure     0.5036    0.1330    0.9976    0.2105    0.7040    0.4718      1586\n",
      "\n",
      "avg / total     0.9753    0.9818    0.1488    0.9766    0.7040    0.5185     86940\n",
      "\n",
      "....................................................................\n",
      "\n",
      "\n",
      "sensitivity_specificity None: (array([0.99756309, 0.13303909]), array([0.13303909, 0.99756309]), array([85354,  1586]))\n",
      "sensitivity_specificity micro: (0.9817920404876926, 0.9817920404876926, None)\n",
      "sensitivity_specificity macro: (0.5653010911222902, 0.5653010911222902, None)\n",
      "sensitivity_specificity weighted: (0.9817920404876926, 0.14881014175688767, None)\n",
      "\n",
      "\n",
      "\n",
      "gemetric mean None: [0.36430055 0.36430055]\n",
      "\n",
      "gemetric mean micro: 0.9817920404876926\n",
      "\n",
      "gemetric mean macro: 0.5653010911222902\n",
      "\n",
      "gemetric mean weighted: 0.38223109857880155\n",
      "\n",
      "\n",
      "\n",
      "\n",
      "F1 None: [0.99078982 0.21047382]\n",
      "\n",
      "\n",
      "F1 micro: 0.9817920404876926\n",
      "\n",
      "\n",
      "F1 macro: 0.6006318168215824\n",
      "\n",
      "\n",
      "F1 weighted: 0.976554929979441\n",
      "\n",
      "\n",
      "\n",
      "\n",
      "precision None: 0.9817920404876926\n",
      "\n",
      "\n",
      "precision micro: 0.9817920404876926\n",
      "\n",
      "\n",
      "precision macro: 0.9817920404876926\n",
      "\n",
      "\n",
      "precision weighted: 0.9817920404876926\n",
      "\n",
      "\n",
      "\n",
      "\n",
      "recall None: 0.9817920404876926\n",
      "\n",
      "\n",
      "recall micro: 0.9817920404876926\n",
      "\n",
      "\n",
      "recall macro: 0.9817920404876926\n",
      "\n",
      "\n",
      "recall weighted: 0.9817920404876926\n"
     ]
    },
    {
     "data": {
      "image/png": "[encoded data removed]",
      "text/plain": [
       "<Figure size 432x288 with 2 Axes>"
      ]
     },
     "metadata": {
      "needs_background": "light"
     },
     "output_type": "display_data"
    }
   ],
   "source": [
    "print(grid_sclf.best_estimator_)\n",
    "print(grid_sclf.best_params_)\n",
    "print('...................................................................\\n\\n')\n",
    "\n",
    "#Prediction\n",
    "y_predict = grid_sclf.predict(x_test_std)\n",
    "\n",
    "print('Accuracy of KNN Model: {}\\n\\n' .format((accuracy_score(y_test,y_predict))))\n",
    "\n",
    "#generate and plot confusion matrix\n",
    "dsvm_cm = confusion_matrix(y_test,y_predict)\n",
    "\n",
    "ax= sns.heatmap(dsvm_cm, annot=True, fmt=\"d\")\n",
    "ax.set_xlabel('Predicted labels')\n",
    "ax.set_ylabel('True labels')\n",
    "ax.set_title('Confusion Matrix')\n",
    "\n",
    "#Classification Report \n",
    "target_names = ['Normal', 'Pre-seizure', 'Seizure']\n",
    "\n",
    "#print(classification_report(y_test, y_predict, digits=4, target_names=target_names))\n",
    "print(classification_report_imbalanced(y_test, y_predict, target_names=target_names, digits=4))\n",
    "\n",
    "print('....................................................................\\n\\n')\n",
    "\n",
    "#micro recall, precesion, specificity\n",
    "for i in [None, 'micro', 'macro', 'weighted']:\n",
    "    print('sensitivity_specificity {}: {}'.format(i, sensitivity_specificity_support(y_test, y_predict, average=i)))\n",
    "print('\\n')\n",
    "for i in [None, 'micro', 'macro', 'weighted']:\n",
    "    print('\\ngemetric mean {}: {}'.format(i ,geometric_mean_score(y_test, y_predict, average=i)))\n",
    "print('\\n')\n",
    "for i in [None, 'micro', 'macro', 'weighted']:\n",
    "    print('\\n\\nF1 {}: {}'.format(i, f1_score(y_test, y_predict, average=i)))\n",
    "print('\\n')\n",
    "for i in [None, 'micro', 'macro', 'weighted']:\n",
    "    print('\\n\\nprecision {}: {}'.format(i,precision_score(y_test, y_predict, average='micro')))\n",
    "print('\\n')\n",
    "for i in [None, 'micro', 'macro', 'weighted']:\n",
    "    print('\\n\\nrecall {}: {}'.format(i, recall_score(y_test, y_predict, average='micro')))"
   ]
  },
  {
   "cell_type": "code",
   "execution_count": 7,
   "metadata": {},
   "outputs": [
    {
     "data": {
      "text/plain": [
       "54"
      ]
     },
     "execution_count": 7,
     "metadata": {},
     "output_type": "execute_result"
    }
   ],
   "source": [
    "# Filtered data b/w 4-40hz\n",
    "lebaledCSVFile = '/home/mirwais/notebooks/paper_2/data/lebaled/chb01_time_freq_segments2.csv'\n",
    "df = pd.read_csv(lebaledCSVFile)\n",
    "df.columns.size"
   ]
  },
  {
   "cell_type": "code",
   "execution_count": 8,
   "metadata": {},
   "outputs": [
    {
     "data": {
      "text/plain": [
       "0    284533\n",
       "2      5267\n",
       "Name: sz, dtype: int64"
      ]
     },
     "execution_count": 8,
     "metadata": {},
     "output_type": "execute_result"
    }
   ],
   "source": [
    "df[\"sz\"].value_counts()"
   ]
  },
  {
   "cell_type": "code",
   "execution_count": 9,
   "metadata": {
    "scrolled": true
   },
   "outputs": [
    {
     "name": "stdout",
     "output_type": "stream",
     "text": [
      "Fitting 10 folds for each of 4 candidates, totalling 40 fits\n",
      "[CV] n_neighbors=4 ...................................................\n",
      "[CV] n_neighbors=4 ...................................................\n",
      "[CV] n_neighbors=4 ...................................................\n",
      "[CV] n_neighbors=4 ...................................................\n",
      "[CV] n_neighbors=4 ...................................................\n",
      "[CV] n_neighbors=4 ...................................................\n",
      "[CV] n_neighbors=4 ...................................................\n",
      "[CV] n_neighbors=4 ...................................................\n",
      "[CV] .......... n_neighbors=4, score=0.9784465383810494, total= 1.1min\n",
      "[CV] n_neighbors=4 ...................................................\n",
      "[CV] .......... n_neighbors=4, score=0.9773922021024982, total= 1.7min\n",
      "[CV] n_neighbors=4 ...................................................\n",
      "[CV] .......... n_neighbors=4, score=0.9789279360906085, total= 1.6min\n",
      "[CV] n_neighbors=5 ...................................................\n",
      "[CV] .......... n_neighbors=4, score=0.9783410238263969, total= 1.7min\n",
      "[CV] n_neighbors=5 ...................................................\n",
      "[CV] .......... n_neighbors=4, score=0.9792132007417284, total= 1.7min\n",
      "[CV] n_neighbors=5 ...................................................\n",
      "[CV] .......... n_neighbors=4, score=0.9783268656011469, total= 1.6min\n",
      "[CV] n_neighbors=5 ...................................................\n",
      "[CV] .......... n_neighbors=4, score=0.9801427800474065, total= 1.7min\n",
      "[CV] n_neighbors=5 ...................................................\n",
      "[CV] .......... n_neighbors=4, score=0.9784465383810494, total= 1.7min\n",
      "[CV] n_neighbors=5 ...................................................\n",
      "[CV] .......... n_neighbors=4, score=0.9776009340574924, total= 1.6min\n",
      "[CV] n_neighbors=5 ...................................................\n"
     ]
    },
    {
     "name": "stderr",
     "output_type": "stream",
     "text": [
      "[Parallel(n_jobs=-1)]: Done   9 tasks      | elapsed: 24.8min\n"
     ]
    },
    {
     "name": "stdout",
     "output_type": "stream",
     "text": [
      "[CV] .......... n_neighbors=5, score=0.9787679146711334, total= 1.2min\n",
      "[CV] n_neighbors=5 ...................................................\n",
      "[CV] ........... n_neighbors=4, score=0.978947293001231, total= 1.6min\n",
      "[CV] n_neighbors=5 ...................................................\n",
      "[CV] .......... n_neighbors=5, score=0.9792780443157878, total= 1.7min\n",
      "[CV] n_neighbors=5 ...................................................\n",
      "[CV] .......... n_neighbors=5, score=0.9787578032449771, total= 1.7min\n",
      "[CV] n_neighbors=6 ...................................................\n",
      "[CV] .......... n_neighbors=5, score=0.9796212680730547, total= 1.7min\n",
      "[CV] n_neighbors=6 ...................................................\n",
      "[CV] ........... n_neighbors=5, score=0.979437668395367, total= 1.7min\n",
      "[CV] n_neighbors=6 ...................................................\n",
      "[CV] ........... n_neighbors=5, score=0.978462817953732, total= 1.7min\n",
      "[CV] n_neighbors=6 ...................................................\n",
      "[CV] .......... n_neighbors=5, score=0.9808580359875541, total= 1.7min\n",
      "[CV] n_neighbors=6 ...................................................\n",
      "[CV] .......... n_neighbors=5, score=0.9800996784386485, total= 1.7min\n",
      "[CV] n_neighbors=6 ...................................................\n",
      "[CV] .......... n_neighbors=6, score=0.9787654535350536, total= 1.2min\n",
      "[CV] n_neighbors=6 ...................................................\n",
      "[CV] .......... n_neighbors=5, score=0.9787331277172872, total= 1.7min\n",
      "[CV] n_neighbors=6 ...................................................\n",
      "[CV] .......... n_neighbors=5, score=0.9804994089499063, total= 1.6min\n",
      "[CV] n_neighbors=6 ...................................................\n",
      "[CV] .......... n_neighbors=6, score=0.9787004503439604, total= 1.7min\n",
      "[CV] n_neighbors=6 ...................................................\n",
      "[CV] .......... n_neighbors=6, score=0.9779375555745465, total= 1.7min\n",
      "[CV] n_neighbors=7 ...................................................\n",
      "[CV] .......... n_neighbors=6, score=0.9781739566950804, total= 1.8min\n",
      "[CV] n_neighbors=7 ...................................................\n",
      "[CV] .......... n_neighbors=6, score=0.9794519476693967, total= 1.8min\n",
      "[CV] n_neighbors=7 ...................................................\n",
      "[CV] .......... n_neighbors=6, score=0.9781296886708337, total= 1.7min\n",
      "[CV] n_neighbors=7 ...................................................\n",
      "[CV] .......... n_neighbors=6, score=0.9799938340232317, total= 1.8min\n",
      "[CV] n_neighbors=7 ...................................................\n",
      "[CV] .......... n_neighbors=6, score=0.9788595052072647, total= 1.8min\n",
      "[CV] n_neighbors=7 ...................................................\n",
      "[CV] .......... n_neighbors=6, score=0.9774260710455455, total= 1.7min\n",
      "[CV] n_neighbors=7 ...................................................\n",
      "[CV] ........... n_neighbors=6, score=0.980130249705353, total= 1.7min\n",
      "[CV] n_neighbors=7 ...................................................\n",
      "[CV] .......... n_neighbors=7, score=0.9794161115882882, total= 1.8min\n",
      "[CV] n_neighbors=7 ...................................................\n",
      "[CV] .......... n_neighbors=7, score=0.9785981442890614, total= 1.8min\n",
      "[CV] n_neighbors=7 ...................................................\n",
      "[CV] .......... n_neighbors=7, score=0.9790625705306364, total= 1.3min\n",
      "[CV] .......... n_neighbors=7, score=0.9783648510942555, total= 1.8min\n",
      "[CV] .......... n_neighbors=7, score=0.9803468553227813, total= 1.9min\n",
      "[CV] .......... n_neighbors=7, score=0.9786396645883236, total= 1.9min\n"
     ]
    },
    {
     "name": "stderr",
     "output_type": "stream",
     "text": [
      "[Parallel(n_jobs=-1)]: Done  36 out of  40 | elapsed: 77.9min remaining:  8.7min\n"
     ]
    },
    {
     "name": "stdout",
     "output_type": "stream",
     "text": [
      "[CV] .......... n_neighbors=7, score=0.9804729020002687, total= 1.9min\n",
      "[CV] .......... n_neighbors=7, score=0.9798231004264135, total= 1.8min\n",
      "[CV] .......... n_neighbors=7, score=0.9781507595543009, total= 1.8min\n",
      "[CV] .......... n_neighbors=7, score=0.9806722839544565, total= 1.8min\n"
     ]
    },
    {
     "name": "stderr",
     "output_type": "stream",
     "text": [
      "[Parallel(n_jobs=-1)]: Done  40 out of  40 | elapsed: 81.1min finished\n"
     ]
    },
    {
     "data": {
      "text/plain": [
       "GridSearchCV(cv=StratifiedKFold(n_splits=10, random_state=2018, shuffle=True),\n",
       "       error_score='raise',\n",
       "       estimator=KNeighborsClassifier(algorithm='auto', leaf_size=30, metric='minkowski',\n",
       "           metric_params=None, n_jobs=1, n_neighbors=5, p=2,\n",
       "           weights='uniform'),\n",
       "       fit_params=None, iid=True, n_jobs=-1,\n",
       "       param_grid={'n_neighbors': [4, 5, 6, 7]}, pre_dispatch='2*n_jobs',\n",
       "       refit=True, return_train_score='warn', scoring='f1_weighted',\n",
       "       verbose=4)"
      ]
     },
     "execution_count": 9,
     "metadata": {},
     "output_type": "execute_result"
    }
   ],
   "source": [
    "# With F1 Score\n",
    "x = df.drop(['sz','recordingID','Unnamed: 0','recordingID.1','time'], axis=1)\n",
    "#x = featuresUnstack.drop(['sz'], axis=1)\n",
    "y = df['sz']\n",
    "\n",
    "x_train, x_test, y_train, y_test = train_test_split(x, y, train_size=0.7, test_size=0.3, random_state=random_state)\n",
    "\n",
    "#dissimilar scales of data, StandardScaler should be used\n",
    "sc = StandardScaler()\n",
    "sc.fit(x_train)\n",
    "x_train_std = sc.transform(x_train)\n",
    "x_test_std = sc.transform(x_test)\n",
    "cv = StratifiedKFold(n_splits = 10, shuffle=True, random_state = random_state)\n",
    "\n",
    "clf = KNeighborsClassifier(metric='minkowski', p=2)\n",
    "\n",
    "params = {'n_neighbors': list(range(4,8))\n",
    "         } \n",
    "\n",
    "grid_sclf = GridSearchCV(estimator = clf, param_grid = params, cv = cv, n_jobs=-1, scoring='f1_weighted', verbose=4)\n",
    "grid_sclf.fit(x_train_std, y_train)"
   ]
  },
  {
   "cell_type": "code",
   "execution_count": 10,
   "metadata": {
    "scrolled": true
   },
   "outputs": [
    {
     "name": "stdout",
     "output_type": "stream",
     "text": [
      "KNeighborsClassifier(algorithm='auto', leaf_size=30, metric='minkowski',\n",
      "           metric_params=None, n_jobs=1, n_neighbors=5, p=2,\n",
      "           weights='uniform')\n",
      "{'n_neighbors': 5}\n",
      "...................................................................\n",
      "\n",
      "\n",
      "Accuracy of KNN Model: 0.9827007131354958\n",
      "\n",
      "\n",
      "                   pre       rec       spe        f1       geo       iba       sup\n",
      "\n",
      "     Normal     0.9864    0.9961    0.2598    0.9912    0.7401    0.5713     85354\n",
      "Pre-seizure     0.5553    0.2598    0.9961    0.3540    0.7401    0.5241      1586\n",
      "\n",
      "avg / total     0.9785    0.9827    0.2732    0.9796    0.7401    0.5704     86940\n",
      "\n",
      "....................................................................\n",
      "\n",
      "\n",
      "sensitivity_specificity None: (array([0.99613375, 0.25977301]), array([0.25977301, 0.99613375]), array([85354,  1586]))\n",
      "sensitivity_specificity micro: (0.9827007131354958, 0.9827007131354958, None)\n",
      "sensitivity_specificity macro: (0.6279533813645366, 0.6279533813645366, None)\n",
      "sensitivity_specificity weighted: (0.9827007131354958, 0.2732060495935773, None)\n",
      "\n",
      "\n",
      "\n",
      "gemetric mean None: [0.5086931 0.5086931]\n",
      "\n",
      "gemetric mean micro: 0.9827007131354958\n",
      "\n",
      "gemetric mean macro: 0.6279533813645366\n",
      "\n",
      "gemetric mean weighted: 0.5181503447538562\n",
      "\n",
      "\n",
      "\n",
      "\n",
      "F1 None: [0.99123298 0.35395189]\n",
      "\n",
      "\n",
      "F1 micro: 0.9827007131354958\n",
      "\n",
      "\n",
      "F1 macro: 0.6725924344781036\n",
      "\n",
      "\n",
      "F1 weighted: 0.9796074002816825\n",
      "\n",
      "\n",
      "\n",
      "\n",
      "precision None: 0.9827007131354958\n",
      "\n",
      "\n",
      "precision micro: 0.9827007131354958\n",
      "\n",
      "\n",
      "precision macro: 0.9827007131354958\n",
      "\n",
      "\n",
      "precision weighted: 0.9827007131354958\n",
      "\n",
      "\n",
      "\n",
      "\n",
      "recall None: 0.9827007131354958\n",
      "\n",
      "\n",
      "recall micro: 0.9827007131354958\n",
      "\n",
      "\n",
      "recall macro: 0.9827007131354958\n",
      "\n",
      "\n",
      "recall weighted: 0.9827007131354958\n"
     ]
    },
    {
     "data": {
      "image/png": "[encoded data removed]",
      "text/plain": [
       "<Figure size 432x288 with 2 Axes>"
      ]
     },
     "metadata": {
      "needs_background": "light"
     },
     "output_type": "display_data"
    }
   ],
   "source": [
    "print(grid_sclf.best_estimator_)\n",
    "print(grid_sclf.best_params_)\n",
    "print('...................................................................\\n\\n')\n",
    "\n",
    "#Prediction\n",
    "y_predict = grid_sclf.predict(x_test_std)\n",
    "\n",
    "print('Accuracy of KNN Model: {}\\n\\n' .format((accuracy_score(y_test,y_predict))))\n",
    "\n",
    "#generate and plot confusion matrix\n",
    "dsvm_cm = confusion_matrix(y_test,y_predict)\n",
    "\n",
    "ax= sns.heatmap(dsvm_cm, annot=True, fmt=\"d\")\n",
    "ax.set_xlabel('Predicted labels')\n",
    "ax.set_ylabel('True labels')\n",
    "ax.set_title('Confusion Matrix')\n",
    "\n",
    "#Classification Report \n",
    "target_names = ['Normal', 'Pre-seizure', 'Seizure']\n",
    "\n",
    "#print(classification_report(y_test, y_predict, digits=4, target_names=target_names))\n",
    "print(classification_report_imbalanced(y_test, y_predict, target_names=target_names, digits=4))\n",
    "\n",
    "print('....................................................................\\n\\n')\n",
    "\n",
    "#micro recall, precesion, specificity\n",
    "for i in [None, 'micro', 'macro', 'weighted']:\n",
    "    print('sensitivity_specificity {}: {}'.format(i, sensitivity_specificity_support(y_test, y_predict, average=i)))\n",
    "print('\\n')\n",
    "for i in [None, 'micro', 'macro', 'weighted']:\n",
    "    print('\\ngemetric mean {}: {}'.format(i ,geometric_mean_score(y_test, y_predict, average=i)))\n",
    "print('\\n')\n",
    "for i in [None, 'micro', 'macro', 'weighted']:\n",
    "    print('\\n\\nF1 {}: {}'.format(i, f1_score(y_test, y_predict, average=i)))\n",
    "print('\\n')\n",
    "for i in [None, 'micro', 'macro', 'weighted']:\n",
    "    print('\\n\\nprecision {}: {}'.format(i,precision_score(y_test, y_predict, average='micro')))\n",
    "print('\\n')\n",
    "for i in [None, 'micro', 'macro', 'weighted']:\n",
    "    print('\\n\\nrecall {}: {}'.format(i, recall_score(y_test, y_predict, average='micro')))"
   ]
  },
  {
   "cell_type": "code",
   "execution_count": 3,
   "metadata": {},
   "outputs": [
    {
     "data": {
      "text/plain": [
       "45"
      ]
     },
     "execution_count": 3,
     "metadata": {},
     "output_type": "execute_result"
    }
   ],
   "source": [
    "# Filtered data b/w 4-30hz\n",
    "lebaledCSVFile = '/home/mirwais/notebooks/paper_2/data/lebaled/chb01_time_freq_segments3.csv'\n",
    "df = pd.read_csv(lebaledCSVFile)\n",
    "df.columns.size"
   ]
  },
  {
   "cell_type": "code",
   "execution_count": 4,
   "metadata": {},
   "outputs": [
    {
     "data": {
      "text/plain": [
       "0    284533\n",
       "2      5267\n",
       "Name: sz, dtype: int64"
      ]
     },
     "execution_count": 4,
     "metadata": {},
     "output_type": "execute_result"
    }
   ],
   "source": [
    "df[\"sz\"].value_counts()"
   ]
  },
  {
   "cell_type": "code",
   "execution_count": 5,
   "metadata": {
    "scrolled": true
   },
   "outputs": [
    {
     "name": "stdout",
     "output_type": "stream",
     "text": [
      "Fitting 10 folds for each of 4 candidates, totalling 40 fits\n",
      "[CV] n_neighbors=3 ...................................................\n",
      "[CV] n_neighbors=3 ...................................................\n",
      "[CV] n_neighbors=3 ...................................................\n",
      "[CV] n_neighbors=3 ...................................................\n",
      "[CV] n_neighbors=3 ...................................................\n",
      "[CV] n_neighbors=3 ...................................................\n",
      "[CV] n_neighbors=3 ...................................................\n",
      "[CV] n_neighbors=3 ...................................................\n",
      "[CV] .......... n_neighbors=3, score=0.9788698475069152, total= 1.1min\n",
      "[CV] n_neighbors=3 ...................................................\n",
      "[CV] ........... n_neighbors=3, score=0.977875273490618, total= 1.2min\n",
      "[CV] n_neighbors=3 ...................................................\n",
      "[CV] .......... n_neighbors=3, score=0.9792657840204716, total= 1.2min\n",
      "[CV] n_neighbors=4 ...................................................\n",
      "[CV] .......... n_neighbors=3, score=0.9781930564959566, total= 1.2min\n",
      "[CV] n_neighbors=4 ...................................................\n",
      "[CV] .......... n_neighbors=3, score=0.9794936916844487, total= 1.2min\n",
      "[CV] n_neighbors=4 ...................................................\n",
      "[CV] .......... n_neighbors=3, score=0.9786395461173447, total= 1.2min\n",
      "[CV] n_neighbors=4 ...................................................\n",
      "[CV] .......... n_neighbors=3, score=0.9780936009679913, total= 1.2min\n",
      "[CV] n_neighbors=4 ...................................................\n",
      "[CV] ........... n_neighbors=3, score=0.979899930831486, total= 1.2min\n",
      "[CV] n_neighbors=4 ...................................................\n",
      "[CV] .......... n_neighbors=3, score=0.9774758604522983, total= 1.0min\n",
      "[CV] n_neighbors=4 ...................................................\n"
     ]
    },
    {
     "name": "stderr",
     "output_type": "stream",
     "text": [
      "[Parallel(n_jobs=-1)]: Done   9 tasks      | elapsed: 18.2min\n"
     ]
    },
    {
     "name": "stdout",
     "output_type": "stream",
     "text": [
      "[CV] .......... n_neighbors=3, score=0.9795030995059433, total= 1.1min\n",
      "[CV] n_neighbors=4 ...................................................\n",
      "[CV] .......... n_neighbors=4, score=0.9783351816005792, total= 1.1min\n",
      "[CV] n_neighbors=4 ...................................................\n",
      "[CV] .......... n_neighbors=4, score=0.9788618910494279, total= 1.1min\n",
      "[CV] n_neighbors=4 ...................................................\n",
      "[CV] .......... n_neighbors=4, score=0.9783910982165647, total= 1.2min\n",
      "[CV] n_neighbors=5 ...................................................\n",
      "[CV] .......... n_neighbors=4, score=0.9778609840313498, total= 1.1min\n",
      "[CV] n_neighbors=5 ...................................................\n",
      "[CV] .......... n_neighbors=4, score=0.9772918820202354, total= 1.2min\n",
      "[CV] n_neighbors=5 ...................................................\n",
      "[CV] .......... n_neighbors=4, score=0.9784615070722958, total= 1.2min\n",
      "[CV] n_neighbors=5 ...................................................\n",
      "[CV] .......... n_neighbors=4, score=0.9794614013298868, total= 1.2min\n",
      "[CV] n_neighbors=5 ...................................................\n",
      "[CV] .......... n_neighbors=4, score=0.9782460103960221, total= 1.2min\n",
      "[CV] n_neighbors=5 ...................................................\n",
      "[CV] .......... n_neighbors=4, score=0.9769520340418764, total= 1.1min\n",
      "[CV] n_neighbors=5 ...................................................\n",
      "[CV] ............ n_neighbors=4, score=0.97797736362996, total= 1.1min\n",
      "[CV] n_neighbors=5 ...................................................\n",
      "[CV] .......... n_neighbors=5, score=0.9792243793708175, total= 1.1min\n",
      "[CV] n_neighbors=5 ...................................................\n",
      "[CV] ........... n_neighbors=5, score=0.980248985685872, total= 1.2min\n",
      "[CV] n_neighbors=5 ...................................................\n",
      "[CV] .......... n_neighbors=5, score=0.9787322886820347, total= 1.2min\n",
      "[CV] n_neighbors=6 ...................................................\n",
      "[CV] .......... n_neighbors=5, score=0.9783416944029615, total= 1.2min\n",
      "[CV] n_neighbors=6 ...................................................\n",
      "[CV] .......... n_neighbors=5, score=0.9794012929636979, total= 1.2min\n",
      "[CV] n_neighbors=6 ...................................................\n",
      "[CV] .......... n_neighbors=5, score=0.9788392919590436, total= 1.2min\n",
      "[CV] n_neighbors=6 ...................................................\n",
      "[CV] .......... n_neighbors=5, score=0.9806786555510749, total= 1.2min\n",
      "[CV] n_neighbors=6 ...................................................\n",
      "[CV] .......... n_neighbors=5, score=0.9796394283051582, total= 1.2min\n",
      "[CV] n_neighbors=6 ...................................................\n",
      "[CV] .......... n_neighbors=5, score=0.9782166298528748, total= 1.2min\n",
      "[CV] n_neighbors=6 ...................................................\n",
      "[CV] ........... n_neighbors=5, score=0.979745422041285, total= 1.2min\n",
      "[CV] n_neighbors=6 ...................................................\n",
      "[CV] ........... n_neighbors=6, score=0.978715824218435, total= 1.2min\n",
      "[CV] n_neighbors=6 ...................................................\n",
      "[CV] .......... n_neighbors=6, score=0.9779043670865677, total= 1.2min\n",
      "[CV] n_neighbors=6 ...................................................\n",
      "[CV] ........... n_neighbors=6, score=0.978658745402078, total= 1.2min\n",
      "[CV] .......... n_neighbors=6, score=0.9769723391728421, total= 1.3min\n",
      "[CV] .......... n_neighbors=6, score=0.9782110997421225, total= 1.3min\n",
      "[CV] .......... n_neighbors=6, score=0.9782692361614238, total= 1.3min\n"
     ]
    },
    {
     "name": "stderr",
     "output_type": "stream",
     "text": [
      "[Parallel(n_jobs=-1)]: Done  36 out of  40 | elapsed: 51.8min remaining:  5.8min\n"
     ]
    },
    {
     "name": "stdout",
     "output_type": "stream",
     "text": [
      "[CV] .......... n_neighbors=6, score=0.9798572866724086, total= 1.3min\n",
      "[CV] .......... n_neighbors=6, score=0.9785602283304677, total= 1.3min\n",
      "[CV] .......... n_neighbors=6, score=0.9771522433253044, total= 1.2min\n",
      "[CV] .......... n_neighbors=6, score=0.9789300908289922, total= 1.2min\n"
     ]
    },
    {
     "name": "stderr",
     "output_type": "stream",
     "text": [
      "[Parallel(n_jobs=-1)]: Done  40 out of  40 | elapsed: 53.2min finished\n"
     ]
    },
    {
     "data": {
      "text/plain": [
       "GridSearchCV(cv=StratifiedKFold(n_splits=10, random_state=2018, shuffle=True),\n",
       "       error_score='raise',\n",
       "       estimator=KNeighborsClassifier(algorithm='auto', leaf_size=30, metric='minkowski',\n",
       "           metric_params=None, n_jobs=1, n_neighbors=5, p=2,\n",
       "           weights='uniform'),\n",
       "       fit_params=None, iid=True, n_jobs=-1,\n",
       "       param_grid={'n_neighbors': [3, 4, 5, 6]}, pre_dispatch='2*n_jobs',\n",
       "       refit=True, return_train_score='warn', scoring='f1_weighted',\n",
       "       verbose=4)"
      ]
     },
     "execution_count": 5,
     "metadata": {},
     "output_type": "execute_result"
    }
   ],
   "source": [
    "# With F1 Score\n",
    "x = df.drop(['sz','recordingID','Unnamed: 0','recordingID.1','time'], axis=1)\n",
    "#x = featuresUnstack.drop(['sz'], axis=1)\n",
    "y = df['sz']\n",
    "\n",
    "x_train, x_test, y_train, y_test = train_test_split(x, y, train_size=0.7, test_size=0.3, random_state=random_state)\n",
    "\n",
    "#dissimilar scales of data, StandardScaler should be used\n",
    "sc = StandardScaler()\n",
    "sc.fit(x_train)\n",
    "x_train_std = sc.transform(x_train)\n",
    "x_test_std = sc.transform(x_test)\n",
    "cv = StratifiedKFold(n_splits = 10, shuffle=True, random_state = random_state)\n",
    "\n",
    "clf = KNeighborsClassifier(metric='minkowski', p=2)\n",
    "\n",
    "params = {'n_neighbors': list(range(3,7))\n",
    "         } \n",
    "\n",
    "grid_sclf = GridSearchCV(estimator = clf, param_grid = params, cv = cv, n_jobs=-1, scoring='f1_weighted', verbose=4)\n",
    "grid_sclf.fit(x_train_std, y_train)"
   ]
  },
  {
   "cell_type": "code",
   "execution_count": 6,
   "metadata": {
    "scrolled": true
   },
   "outputs": [
    {
     "name": "stdout",
     "output_type": "stream",
     "text": [
      "KNeighborsClassifier(algorithm='auto', leaf_size=30, metric='minkowski',\n",
      "           metric_params=None, n_jobs=1, n_neighbors=5, p=2,\n",
      "           weights='uniform')\n",
      "{'n_neighbors': 5}\n",
      "...................................................................\n",
      "\n",
      "\n",
      "Accuracy of KNN Model: 0.9824936737980217\n",
      "\n",
      "\n",
      "                   pre       rec       spe        f1       geo       iba       sup\n",
      "\n",
      "     Normal     0.9859    0.9965    0.2314    0.9911    0.7349    0.5637     85354\n",
      "Pre-seizure     0.5478    0.2314    0.9965    0.3254    0.7349    0.5164      1586\n",
      "\n",
      "avg / total     0.9779    0.9825    0.2454    0.9790    0.7349    0.5628     86940\n",
      "\n",
      "....................................................................\n",
      "\n",
      "\n",
      "sensitivity_specificity None: (array([0.99645008, 0.23139975]), array([0.23139975, 0.99645008]), array([85354,  1586]))\n",
      "sensitivity_specificity micro: (0.9824936737980217, 0.9824936737980217, None)\n",
      "sensitivity_specificity macro: (0.6139249131449023, 0.6139249131449023, None)\n",
      "sensitivity_specificity weighted: (0.9824936737980217, 0.24535615249178286, None)\n",
      "\n",
      "\n",
      "\n",
      "gemetric mean None: [0.48018569 0.48018569]\n",
      "\n",
      "gemetric mean micro: 0.9824936737980217\n",
      "\n",
      "gemetric mean macro: 0.6139249131449023\n",
      "\n",
      "gemetric mean weighted: 0.49097949819783654\n",
      "\n",
      "\n",
      "\n",
      "\n",
      "F1 None: [0.99113178 0.32535461]\n",
      "\n",
      "\n",
      "F1 micro: 0.9824936737980217\n",
      "\n",
      "\n",
      "F1 macro: 0.6582431931853008\n",
      "\n",
      "\n",
      "F1 weighted: 0.9789863590722028\n",
      "\n",
      "\n",
      "\n",
      "\n",
      "precision None: 0.9824936737980217\n",
      "\n",
      "\n",
      "precision micro: 0.9824936737980217\n",
      "\n",
      "\n",
      "precision macro: 0.9824936737980217\n",
      "\n",
      "\n",
      "precision weighted: 0.9824936737980217\n",
      "\n",
      "\n",
      "\n",
      "\n",
      "recall None: 0.9824936737980217\n",
      "\n",
      "\n",
      "recall micro: 0.9824936737980217\n",
      "\n",
      "\n",
      "recall macro: 0.9824936737980217\n",
      "\n",
      "\n",
      "recall weighted: 0.9824936737980217\n"
     ]
    },
    {
     "data": {
      "image/png": "[encoded data removed]",
      "text/plain": [
       "<Figure size 432x288 with 2 Axes>"
      ]
     },
     "metadata": {
      "needs_background": "light"
     },
     "output_type": "display_data"
    }
   ],
   "source": [
    "print(grid_sclf.best_estimator_)\n",
    "print(grid_sclf.best_params_)\n",
    "print('...................................................................\\n\\n')\n",
    "\n",
    "#Prediction\n",
    "y_predict = grid_sclf.predict(x_test_std)\n",
    "\n",
    "print('Accuracy of KNN Model: {}\\n\\n' .format((accuracy_score(y_test,y_predict))))\n",
    "\n",
    "#generate and plot confusion matrix\n",
    "dsvm_cm = confusion_matrix(y_test,y_predict)\n",
    "\n",
    "ax= sns.heatmap(dsvm_cm, annot=True, fmt=\"d\")\n",
    "ax.set_xlabel('Predicted labels')\n",
    "ax.set_ylabel('True labels')\n",
    "ax.set_title('Confusion Matrix')\n",
    "\n",
    "#Classification Report \n",
    "target_names = ['Normal', 'Pre-seizure', 'Seizure']\n",
    "\n",
    "#print(classification_report(y_test, y_predict, digits=4, target_names=target_names))\n",
    "print(classification_report_imbalanced(y_test, y_predict, target_names=target_names, digits=4))\n",
    "\n",
    "print('....................................................................\\n\\n')\n",
    "\n",
    "#micro recall, precesion, specificity\n",
    "for i in [None, 'micro', 'macro', 'weighted']:\n",
    "    print('sensitivity_specificity {}: {}'.format(i, sensitivity_specificity_support(y_test, y_predict, average=i)))\n",
    "print('\\n')\n",
    "for i in [None, 'micro', 'macro', 'weighted']:\n",
    "    print('\\ngemetric mean {}: {}'.format(i ,geometric_mean_score(y_test, y_predict, average=i)))\n",
    "print('\\n')\n",
    "for i in [None, 'micro', 'macro', 'weighted']:\n",
    "    print('\\n\\nF1 {}: {}'.format(i, f1_score(y_test, y_predict, average=i)))\n",
    "print('\\n')\n",
    "for i in [None, 'micro', 'macro', 'weighted']:\n",
    "    print('\\n\\nprecision {}: {}'.format(i,precision_score(y_test, y_predict, average='micro')))\n",
    "print('\\n')\n",
    "for i in [None, 'micro', 'macro', 'weighted']:\n",
    "    print('\\n\\nrecall {}: {}'.format(i, recall_score(y_test, y_predict, average='micro')))"
   ]
  },
  {
   "cell_type": "code",
   "execution_count": 4,
   "metadata": {
    "scrolled": true
   },
   "outputs": [
    {
     "name": "stderr",
     "output_type": "stream",
     "text": [
      "/usr/local/anaconda3/lib/python3.6/site-packages/sklearn/ensemble/weight_boosting.py:29: DeprecationWarning: numpy.core.umath_tests is an internal NumPy module and should not be imported. It will be removed in a future NumPy release.\n",
      "  from numpy.core.umath_tests import inner1d\n"
     ]
    },
    {
     "data": {
      "text/plain": [
       "RandomForestRegressor(bootstrap=True, criterion='mse', max_depth=None,\n",
       "           max_features='auto', max_leaf_nodes=None,\n",
       "           min_impurity_decrease=0.0, min_impurity_split=None,\n",
       "           min_samples_leaf=1, min_samples_split=2,\n",
       "           min_weight_fraction_leaf=0.0, n_estimators=10, n_jobs=1,\n",
       "           oob_score=False, random_state=2018, verbose=0, warm_start=False)"
      ]
     },
     "execution_count": 4,
     "metadata": {},
     "output_type": "execute_result"
    }
   ],
   "source": [
    "#Fast RandomForestRegressor on fre_segment_5\n",
    "from sklearn.ensemble import RandomForestRegressor\n",
    "\n",
    "x = df.drop(['sz','recordingID','Unnamed: 0','time'], axis=1)\n",
    "#x = featuresUnstack.drop(['sz'], axis=1)\n",
    "y = df['sz']\n",
    "\n",
    "model = RandomForestRegressor(n_estimators=10, random_state=random_state)\n",
    "x=pd.get_dummies(x)\n",
    "model.fit(x,y)"
   ]
  },
  {
   "cell_type": "code",
   "execution_count": 13,
   "metadata": {},
   "outputs": [
    {
     "data": {
      "image/png": "[encoded data removed]",
      "text/plain": [
       "<Figure size 432x288 with 1 Axes>"
      ]
     },
     "metadata": {
      "needs_background": "light"
     },
     "output_type": "display_data"
    }
   ],
   "source": [
    "features = x.columns\n",
    "importances = model.feature_importances_\n",
    "indices = np.argsort(importances)[-14:]  # top 10 features\n",
    "plt.title('Feature Importances')\n",
    "plt.barh(range(len(indices)), importances[indices], color='b', align='center')\n",
    "plt.yticks(range(len(indices)), [features[i] for i in indices])\n",
    "plt.xlabel('Relative Importance')\n",
    "plt.show()"
   ]
  },
  {
   "cell_type": "code",
   "execution_count": 27,
   "metadata": {},
   "outputs": [],
   "source": [
    "from sklearn.feature_selection import SelectFromModel\n",
    "feature = SelectFromModel(model, threshold=1e-5)\n",
    "Fit = feature.fit_transform(x, y)"
   ]
  },
  {
   "cell_type": "code",
   "execution_count": 28,
   "metadata": {},
   "outputs": [],
   "source": [
    "Fit2 = pd.DataFrame(Fit)"
   ]
  },
  {
   "cell_type": "code",
   "execution_count": 31,
   "metadata": {},
   "outputs": [
    {
     "data": {
      "text/html": [
       "<div>\n",
       "<style scoped>\n",
       "    .dataframe tbody tr th:only-of-type {\n",
       "        vertical-align: middle;\n",
       "    }\n",
       "\n",
       "    .dataframe tbody tr th {\n",
       "        vertical-align: top;\n",
       "    }\n",
       "\n",
       "    .dataframe thead th {\n",
       "        text-align: right;\n",
       "    }\n",
       "</style>\n",
       "<table border=\"1\" class=\"dataframe\">\n",
       "  <thead>\n",
       "    <tr style=\"text-align: right;\">\n",
       "      <th></th>\n",
       "      <th>0</th>\n",
       "      <th>1</th>\n",
       "      <th>2</th>\n",
       "      <th>3</th>\n",
       "      <th>4</th>\n",
       "      <th>5</th>\n",
       "      <th>6</th>\n",
       "      <th>7</th>\n",
       "      <th>8</th>\n",
       "      <th>9</th>\n",
       "      <th>10</th>\n",
       "      <th>11</th>\n",
       "      <th>12</th>\n",
       "    </tr>\n",
       "  </thead>\n",
       "  <tbody>\n",
       "    <tr>\n",
       "      <th>0</th>\n",
       "      <td>1.327113e+07</td>\n",
       "      <td>1.006542e+07</td>\n",
       "      <td>9.872707e+06</td>\n",
       "      <td>4.401273e+05</td>\n",
       "      <td>170289.780746</td>\n",
       "      <td>0.711449</td>\n",
       "      <td>0.711438</td>\n",
       "      <td>0.711460</td>\n",
       "      <td>0.719180</td>\n",
       "      <td>0.710974</td>\n",
       "      <td>-1.131106</td>\n",
       "      <td>-1.131129</td>\n",
       "      <td>0.340805</td>\n",
       "    </tr>\n",
       "    <tr>\n",
       "      <th>1</th>\n",
       "      <td>2.562614e+07</td>\n",
       "      <td>1.943593e+07</td>\n",
       "      <td>1.906381e+07</td>\n",
       "      <td>8.505944e+05</td>\n",
       "      <td>328754.280919</td>\n",
       "      <td>0.300767</td>\n",
       "      <td>0.300765</td>\n",
       "      <td>0.300772</td>\n",
       "      <td>0.304362</td>\n",
       "      <td>0.300694</td>\n",
       "      <td>-1.174348</td>\n",
       "      <td>-1.174366</td>\n",
       "      <td>0.187851</td>\n",
       "    </tr>\n",
       "    <tr>\n",
       "      <th>2</th>\n",
       "      <td>3.608718e+07</td>\n",
       "      <td>2.736995e+07</td>\n",
       "      <td>2.684564e+07</td>\n",
       "      <td>1.194543e+06</td>\n",
       "      <td>462895.474957</td>\n",
       "      <td>0.187201</td>\n",
       "      <td>0.187200</td>\n",
       "      <td>0.187202</td>\n",
       "      <td>0.188938</td>\n",
       "      <td>0.187165</td>\n",
       "      <td>-1.212251</td>\n",
       "      <td>-1.212265</td>\n",
       "      <td>0.075651</td>\n",
       "    </tr>\n",
       "    <tr>\n",
       "      <th>3</th>\n",
       "      <td>4.805867e+07</td>\n",
       "      <td>3.644967e+07</td>\n",
       "      <td>3.575129e+07</td>\n",
       "      <td>1.587570e+06</td>\n",
       "      <td>616488.998224</td>\n",
       "      <td>0.143363</td>\n",
       "      <td>0.143362</td>\n",
       "      <td>0.143363</td>\n",
       "      <td>0.144402</td>\n",
       "      <td>0.143353</td>\n",
       "      <td>-1.200643</td>\n",
       "      <td>-1.200656</td>\n",
       "      <td>0.117796</td>\n",
       "    </tr>\n",
       "    <tr>\n",
       "      <th>4</th>\n",
       "      <td>6.282185e+07</td>\n",
       "      <td>4.764666e+07</td>\n",
       "      <td>4.673341e+07</td>\n",
       "      <td>2.064801e+06</td>\n",
       "      <td>805795.349778</td>\n",
       "      <td>0.118763</td>\n",
       "      <td>0.118762</td>\n",
       "      <td>0.118762</td>\n",
       "      <td>0.119022</td>\n",
       "      <td>0.118748</td>\n",
       "      <td>-1.198899</td>\n",
       "      <td>-1.198903</td>\n",
       "      <td>0.042068</td>\n",
       "    </tr>\n",
       "  </tbody>\n",
       "</table>\n",
       "</div>"
      ],
      "text/plain": [
       "             0             1             2             3              4   \\\n",
       "0  1.327113e+07  1.006542e+07  9.872707e+06  4.401273e+05  170289.780746   \n",
       "1  2.562614e+07  1.943593e+07  1.906381e+07  8.505944e+05  328754.280919   \n",
       "2  3.608718e+07  2.736995e+07  2.684564e+07  1.194543e+06  462895.474957   \n",
       "3  4.805867e+07  3.644967e+07  3.575129e+07  1.587570e+06  616488.998224   \n",
       "4  6.282185e+07  4.764666e+07  4.673341e+07  2.064801e+06  805795.349778   \n",
       "\n",
       "         5         6         7         8         9         10        11  \\\n",
       "0  0.711449  0.711438  0.711460  0.719180  0.710974 -1.131106 -1.131129   \n",
       "1  0.300767  0.300765  0.300772  0.304362  0.300694 -1.174348 -1.174366   \n",
       "2  0.187201  0.187200  0.187202  0.188938  0.187165 -1.212251 -1.212265   \n",
       "3  0.143363  0.143362  0.143363  0.144402  0.143353 -1.200643 -1.200656   \n",
       "4  0.118763  0.118762  0.118762  0.119022  0.118748 -1.198899 -1.198903   \n",
       "\n",
       "         12  \n",
       "0  0.340805  \n",
       "1  0.187851  \n",
       "2  0.075651  \n",
       "3  0.117796  \n",
       "4  0.042068  "
      ]
     },
     "execution_count": 31,
     "metadata": {},
     "output_type": "execute_result"
    }
   ],
   "source": [
    "Fit2.head()"
   ]
  },
  {
   "cell_type": "code",
   "execution_count": 30,
   "metadata": {},
   "outputs": [
    {
     "data": {
      "text/plain": [
       "(667800, 39)"
      ]
     },
     "execution_count": 30,
     "metadata": {},
     "output_type": "execute_result"
    }
   ],
   "source": [
    "df.shape"
   ]
  },
  {
   "cell_type": "code",
   "execution_count": 32,
   "metadata": {
    "scrolled": true
   },
   "outputs": [
    {
     "name": "stdout",
     "output_type": "stream",
     "text": [
      "Fitting 10 folds for each of 2 candidates, totalling 20 fits\n",
      "[CV] n_neighbors=1 ...................................................\n",
      "[CV] n_neighbors=1 ...................................................\n",
      "[CV] n_neighbors=1 ...................................................\n",
      "[CV] n_neighbors=1 ...................................................\n",
      "[CV] n_neighbors=1 ...................................................\n",
      "[CV] n_neighbors=1 ...................................................\n",
      "[CV] n_neighbors=1 ...................................................\n",
      "[CV] n_neighbors=1 ...................................................\n",
      "[CV] .......... n_neighbors=1, score=0.9956778750912536, total=   6.6s\n",
      "[CV] n_neighbors=1 ...................................................\n",
      "[CV] .......... n_neighbors=1, score=0.9948767574275688, total=   7.3s\n",
      "[CV] n_neighbors=1 ...................................................\n",
      "[CV] .......... n_neighbors=1, score=0.9949690311570173, total=   6.5s\n",
      "[CV] .......... n_neighbors=1, score=0.9955665106530781, total=   6.3s\n",
      "[CV] n_neighbors=2 ...................................................\n",
      "[CV] .......... n_neighbors=1, score=0.9954953977654103, total=   6.7s\n",
      "[CV] n_neighbors=2 ...................................................\n",
      "[CV] n_neighbors=2 ...................................................\n",
      "[CV] ........... n_neighbors=1, score=0.995231601102001, total=   6.4s\n",
      "[CV] n_neighbors=2 ...................................................\n",
      "[CV] .......... n_neighbors=1, score=0.9951833437428659, total=   6.6s\n",
      "[CV] n_neighbors=2 ...................................................\n",
      "[CV] .......... n_neighbors=1, score=0.9943380842214565, total=   6.9s\n",
      "[CV] n_neighbors=2 ...................................................\n",
      "[CV] .......... n_neighbors=1, score=0.9950578740122836, total=   8.0s\n",
      "[CV] n_neighbors=2 ...................................................\n",
      "[CV] .......... n_neighbors=1, score=0.9949644547473638, total=   7.1s\n",
      "[CV] n_neighbors=2 ...................................................\n",
      "[CV] .......... n_neighbors=2, score=0.9946016767641571, total=   7.4s\n",
      "[CV] n_neighbors=2 ...................................................\n"
     ]
    },
    {
     "name": "stderr",
     "output_type": "stream",
     "text": [
      "[Parallel(n_jobs=-1)]: Done  11 out of  20 | elapsed:   54.9s remaining:   44.9s\n"
     ]
    },
    {
     "name": "stdout",
     "output_type": "stream",
     "text": [
      "[CV] .......... n_neighbors=2, score=0.9940797559511788, total=   7.9s\n",
      "[CV] n_neighbors=2 ...................................................\n",
      "[CV] ........... n_neighbors=2, score=0.994204194113016, total=   6.8s\n",
      "[CV] ........... n_neighbors=2, score=0.994150614874757, total=   7.2s\n",
      "[CV] .......... n_neighbors=2, score=0.9932105825412354, total=   7.6s\n",
      "[CV] .......... n_neighbors=2, score=0.9936757325570531, total=   8.6s\n",
      "[CV] .......... n_neighbors=2, score=0.9942000543758431, total=   6.7s\n"
     ]
    },
    {
     "name": "stderr",
     "output_type": "stream",
     "text": [
      "[Parallel(n_jobs=-1)]: Done  17 out of  20 | elapsed:  1.1min remaining:   12.0s\n"
     ]
    },
    {
     "name": "stdout",
     "output_type": "stream",
     "text": [
      "[CV] .......... n_neighbors=2, score=0.9945844095210109, total=   7.0s\n",
      "[CV] .......... n_neighbors=2, score=0.9937885052464493, total=   5.9s\n",
      "[CV] .......... n_neighbors=2, score=0.9942272139493163, total=   6.3s\n"
     ]
    },
    {
     "name": "stderr",
     "output_type": "stream",
     "text": [
      "[Parallel(n_jobs=-1)]: Done  20 out of  20 | elapsed:  1.3min finished\n"
     ]
    },
    {
     "data": {
      "text/plain": [
       "GridSearchCV(cv=StratifiedKFold(n_splits=10, random_state=2018, shuffle=True),\n",
       "       error_score='raise',\n",
       "       estimator=KNeighborsClassifier(algorithm='auto', leaf_size=30, metric='minkowski',\n",
       "           metric_params=None, n_jobs=1, n_neighbors=5, p=2,\n",
       "           weights='uniform'),\n",
       "       fit_params=None, iid=True, n_jobs=-1,\n",
       "       param_grid={'n_neighbors': [1, 2]}, pre_dispatch='2*n_jobs',\n",
       "       refit=True, return_train_score='warn', scoring='f1_weighted',\n",
       "       verbose=4)"
      ]
     },
     "execution_count": 32,
     "metadata": {},
     "output_type": "execute_result"
    }
   ],
   "source": [
    "# With F1 Score\n",
    "x = Fit2\n",
    "#x = featuresUnstack.drop(['sz'], axis=1)\n",
    "y = df['sz']\n",
    "\n",
    "x_train, x_test, y_train, y_test = train_test_split(x, y, train_size=0.7, test_size=0.3, random_state=random_state)\n",
    "\n",
    "#dissimilar scales of data, StandardScaler should be used\n",
    "sc = StandardScaler()\n",
    "sc.fit(x_train)\n",
    "x_train_std = sc.transform(x_train)\n",
    "x_test_std = sc.transform(x_test)\n",
    "cv = StratifiedKFold(n_splits = 10, shuffle=True, random_state = random_state)\n",
    "\n",
    "clf = KNeighborsClassifier(metric='minkowski', p=2)\n",
    "\n",
    "params = {'n_neighbors': list(range(1,3))\n",
    "         } \n",
    "\n",
    "grid_sclf = GridSearchCV(estimator = clf, param_grid = params, cv = cv, n_jobs=-1, scoring='f1_weighted', verbose=4)\n",
    "grid_sclf.fit(x_train_std, y_train)"
   ]
  },
  {
   "cell_type": "code",
   "execution_count": 33,
   "metadata": {
    "scrolled": true
   },
   "outputs": [
    {
     "name": "stdout",
     "output_type": "stream",
     "text": [
      "KNeighborsClassifier(algorithm='auto', leaf_size=30, metric='minkowski',\n",
      "           metric_params=None, n_jobs=1, n_neighbors=1, p=2,\n",
      "           weights='uniform')\n",
      "{'n_neighbors': 1}\n",
      "...................................................................\n",
      "\n",
      "\n",
      "Accuracy of KNN Model: 0.9955775182190276\n",
      "\n",
      "\n",
      "                   pre       rec       spe        f1       geo       iba       sup\n",
      "\n",
      "     Normal     0.9978    0.9982    0.9489    0.9980    0.9780    0.9603    192106\n",
      "Pre-seizure     0.9499    0.9528    0.9988    0.9514    0.9741    0.9442      4600\n",
      "    Seizure     0.9338    0.9086    0.9988    0.9211    0.9655    0.9262      3634\n",
      "\n",
      "avg / total     0.9955    0.9956    0.9509    0.9956    0.9777    0.9593    200340\n",
      "\n",
      "....................................................................\n",
      "\n",
      "\n",
      "sensitivity_specificity None: (array([0.99824576, 0.95282609, 0.90864062]), array([0.94887054, 0.99881986, 0.99881041]), array([192106,   4600,   3634]))\n",
      "sensitivity_specificity micro: (0.9955775182190276, 0.9977887591095138, None)\n",
      "sensitivity_specificity macro: (0.9532374878368103, 0.982166935764122, None)\n",
      "sensitivity_specificity weighted: (0.9955775182190276, 0.9509232890733379, None)\n",
      "\n",
      "\n",
      "\n",
      "gemetric mean None: [0.97324508 0.97555196 0.95265928]\n",
      "\n",
      "gemetric mean micro: 0.9966825254317911\n",
      "\n",
      "gemetric mean macro: 0.9675941000668459\n",
      "\n",
      "gemetric mean weighted: 0.9729942693316898\n",
      "\n",
      "\n",
      "\n",
      "\n",
      "F1 None: [0.99802756 0.95137834 0.92105997]\n",
      "\n",
      "\n",
      "F1 micro: 0.9955775182190276\n",
      "\n",
      "\n",
      "F1 macro: 0.9568219571687799\n",
      "\n",
      "\n",
      "F1 weighted: 0.9955603231140279\n",
      "\n",
      "\n",
      "\n",
      "\n",
      "precision None: 0.9955775182190276\n",
      "\n",
      "\n",
      "precision micro: 0.9955775182190276\n",
      "\n",
      "\n",
      "precision macro: 0.9955775182190276\n",
      "\n",
      "\n",
      "precision weighted: 0.9955775182190276\n",
      "\n",
      "\n",
      "\n",
      "\n",
      "recall None: 0.9955775182190276\n",
      "\n",
      "\n",
      "recall micro: 0.9955775182190276\n",
      "\n",
      "\n",
      "recall macro: 0.9955775182190276\n",
      "\n",
      "\n",
      "recall weighted: 0.9955775182190276\n"
     ]
    },
    {
     "data": {
      "image/png": "[encoded data removed]",
      "text/plain": [
       "<Figure size 432x288 with 2 Axes>"
      ]
     },
     "metadata": {
      "needs_background": "light"
     },
     "output_type": "display_data"
    }
   ],
   "source": [
    "print(grid_sclf.best_estimator_)\n",
    "print(grid_sclf.best_params_)\n",
    "print('...................................................................\\n\\n')\n",
    "\n",
    "#Prediction\n",
    "y_predict = grid_sclf.predict(x_test_std)\n",
    "\n",
    "print('Accuracy of KNN Model: {}\\n\\n' .format((accuracy_score(y_test,y_predict))))\n",
    "\n",
    "#generate and plot confusion matrix\n",
    "dsvm_cm = confusion_matrix(y_test,y_predict)\n",
    "\n",
    "ax= sns.heatmap(dsvm_cm, annot=True, fmt=\"d\")\n",
    "ax.set_xlabel('Predicted labels')\n",
    "ax.set_ylabel('True labels')\n",
    "ax.set_title('Confusion Matrix')\n",
    "\n",
    "#Classification Report \n",
    "target_names = ['Normal', 'Pre-seizure', 'Seizure']\n",
    "\n",
    "#print(classification_report(y_test, y_predict, digits=4, target_names=target_names))\n",
    "print(classification_report_imbalanced(y_test, y_predict, target_names=target_names, digits=4))\n",
    "\n",
    "print('....................................................................\\n\\n')\n",
    "\n",
    "#micro recall, precesion, specificity\n",
    "for i in [None, 'micro', 'macro', 'weighted']:\n",
    "    print('sensitivity_specificity {}: {}'.format(i, sensitivity_specificity_support(y_test, y_predict, average=i)))\n",
    "print('\\n')\n",
    "for i in [None, 'micro', 'macro', 'weighted']:\n",
    "    print('\\ngemetric mean {}: {}'.format(i ,geometric_mean_score(y_test, y_predict, average=i)))\n",
    "print('\\n')\n",
    "for i in [None, 'micro', 'macro', 'weighted']:\n",
    "    print('\\n\\nF1 {}: {}'.format(i, f1_score(y_test, y_predict, average=i)))\n",
    "print('\\n')\n",
    "for i in [None, 'micro', 'macro', 'weighted']:\n",
    "    print('\\n\\nprecision {}: {}'.format(i,precision_score(y_test, y_predict, average='micro')))\n",
    "print('\\n')\n",
    "for i in [None, 'micro', 'macro', 'weighted']:\n",
    "    print('\\n\\nrecall {}: {}'.format(i, recall_score(y_test, y_predict, average='micro')))"
   ]
  },
  {
   "cell_type": "markdown",
   "metadata": {},
   "source": [
    "### chb02 completed"
   ]
  },
  {
   "cell_type": "code",
   "execution_count": 3,
   "metadata": {},
   "outputs": [
    {
     "data": {
      "text/plain": [
       "44"
      ]
     },
     "execution_count": 3,
     "metadata": {},
     "output_type": "execute_result"
    }
   ],
   "source": [
    "lebaledCSVFilePath = '/home/mirwais/notebooks/paper_3/data/lebaled/chb02_time_freq_segments.csv'\n",
    "df = pd.read_csv(lebaledCSVFilePath)\n",
    "df.columns.size"
   ]
  },
  {
   "cell_type": "code",
   "execution_count": 4,
   "metadata": {},
   "outputs": [
    {
     "data": {
      "text/plain": [
       "0    122153\n",
       "2      2047\n",
       "Name: sz, dtype: int64"
      ]
     },
     "execution_count": 4,
     "metadata": {},
     "output_type": "execute_result"
    }
   ],
   "source": [
    "df[\"sz\"].value_counts()"
   ]
  },
  {
   "cell_type": "code",
   "execution_count": 5,
   "metadata": {
    "scrolled": true
   },
   "outputs": [
    {
     "name": "stdout",
     "output_type": "stream",
     "text": [
      "Fitting 10 folds for each of 4 candidates, totalling 40 fits\n",
      "[CV] n_neighbors=3 ...................................................\n",
      "[CV] n_neighbors=3 ...................................................\n",
      "[CV] n_neighbors=3 ...................................................\n",
      "[CV] n_neighbors=3 ...................................................\n",
      "[CV] n_neighbors=3 ...................................................\n",
      "[CV] n_neighbors=3 ...................................................\n",
      "[CV] n_neighbors=3 ...................................................\n",
      "[CV] n_neighbors=3 ...................................................\n",
      "[CV] .......... n_neighbors=3, score=0.9804781386770431, total= 1.6min\n",
      "[CV] n_neighbors=3 ...................................................\n",
      "[CV] .......... n_neighbors=3, score=0.9790386015164292, total= 1.8min\n",
      "[CV] n_neighbors=3 ...................................................\n",
      "[CV] .......... n_neighbors=3, score=0.9805349271675552, total= 1.9min\n",
      "[CV] n_neighbors=4 ...................................................\n",
      "[CV] .......... n_neighbors=3, score=0.9801154255147436, total= 1.9min\n",
      "[CV] n_neighbors=4 ...................................................\n",
      "[CV] .......... n_neighbors=3, score=0.9800397016176008, total= 1.9min\n",
      "[CV] n_neighbors=4 ...................................................\n",
      "[CV] .......... n_neighbors=3, score=0.9824094499977153, total= 1.9min\n",
      "[CV] n_neighbors=4 ...................................................\n",
      "[CV] .......... n_neighbors=3, score=0.9804066418107024, total= 1.9min\n",
      "[CV] n_neighbors=4 ...................................................\n",
      "[CV] .......... n_neighbors=3, score=0.9814384389473108, total= 1.9min\n",
      "[CV] n_neighbors=4 ...................................................\n",
      "[CV] .......... n_neighbors=3, score=0.9822339961201785, total= 1.8min\n",
      "[CV] n_neighbors=4 ...................................................\n"
     ]
    },
    {
     "name": "stderr",
     "output_type": "stream",
     "text": [
      "[Parallel(n_jobs=-1)]: Done   9 tasks      | elapsed: 31.9min\n"
     ]
    },
    {
     "name": "stdout",
     "output_type": "stream",
     "text": [
      "[CV] .......... n_neighbors=3, score=0.9801581474926856, total= 1.9min\n",
      "[CV] n_neighbors=4 ...................................................\n",
      "[CV] .......... n_neighbors=4, score=0.9781579507768421, total= 1.9min\n",
      "[CV] n_neighbors=4 ...................................................\n",
      "[CV] .......... n_neighbors=4, score=0.9803840107425081, total= 1.9min\n",
      "[CV] n_neighbors=4 ...................................................\n",
      "[CV] ........... n_neighbors=4, score=0.980364391716837, total= 1.9min\n",
      "[CV] n_neighbors=5 ...................................................\n",
      "[CV] .......... n_neighbors=4, score=0.9796792462374795, total= 2.0min\n",
      "[CV] n_neighbors=5 ...................................................\n",
      "[CV] .......... n_neighbors=4, score=0.9795997875128174, total= 2.0min\n",
      "[CV] n_neighbors=5 ...................................................\n",
      "[CV] .......... n_neighbors=4, score=0.9810603844702704, total= 2.0min\n",
      "[CV] n_neighbors=5 ...................................................\n",
      "[CV] .......... n_neighbors=4, score=0.9808915655649347, total= 1.8min\n",
      "[CV] n_neighbors=5 ...................................................\n",
      "[CV] .......... n_neighbors=4, score=0.9797589590802741, total= 2.1min\n",
      "[CV] n_neighbors=5 ...................................................\n",
      "[CV] .......... n_neighbors=4, score=0.9818850159999611, total= 1.9min\n",
      "[CV] n_neighbors=5 ...................................................\n",
      "[CV] .......... n_neighbors=4, score=0.9806919929590144, total= 2.0min\n",
      "[CV] n_neighbors=5 ...................................................\n",
      "[CV] .......... n_neighbors=5, score=0.9804769256502749, total= 2.1min\n",
      "[CV] n_neighbors=5 ...................................................\n",
      "[CV] .......... n_neighbors=5, score=0.9808611216926191, total= 2.1min\n",
      "[CV] n_neighbors=5 ...................................................\n",
      "[CV] ........... n_neighbors=5, score=0.979813268872448, total= 2.1min\n",
      "[CV] n_neighbors=6 ...................................................\n",
      "[CV] .......... n_neighbors=5, score=0.9804746856227644, total= 2.1min\n",
      "[CV] n_neighbors=6 ...................................................\n",
      "[CV] .......... n_neighbors=5, score=0.9787398064247272, total= 2.0min\n",
      "[CV] n_neighbors=6 ...................................................\n",
      "[CV] .......... n_neighbors=5, score=0.9821882934414939, total= 2.2min\n",
      "[CV] n_neighbors=6 ...................................................\n",
      "[CV] .......... n_neighbors=5, score=0.9809908677905019, total= 1.8min\n",
      "[CV] n_neighbors=6 ...................................................\n",
      "[CV] .......... n_neighbors=5, score=0.9809065647159154, total= 2.1min\n",
      "[CV] n_neighbors=6 ...................................................\n",
      "[CV] .......... n_neighbors=5, score=0.9822619297898799, total= 2.0min\n",
      "[CV] n_neighbors=6 ...................................................\n",
      "[CV] .......... n_neighbors=5, score=0.9810694544816366, total= 2.0min\n",
      "[CV] n_neighbors=6 ...................................................\n",
      "[CV] .......... n_neighbors=6, score=0.9799214693926628, total= 2.1min\n",
      "[CV] n_neighbors=6 ...................................................\n",
      "[CV] .......... n_neighbors=6, score=0.9804663210966637, total= 2.1min\n",
      "[CV] n_neighbors=6 ...................................................\n",
      "[CV] ........... n_neighbors=6, score=0.979291639914916, total= 2.2min\n",
      "[CV] .......... n_neighbors=6, score=0.9796847039169616, total= 2.2min\n",
      "[CV] ........... n_neighbors=6, score=0.980836164027192, total= 2.2min\n",
      "[CV] .......... n_neighbors=6, score=0.9802179757700048, total= 1.9min\n"
     ]
    },
    {
     "name": "stderr",
     "output_type": "stream",
     "text": [
      "[Parallel(n_jobs=-1)]: Done  36 out of  40 | elapsed: 97.0min remaining: 10.8min\n"
     ]
    },
    {
     "name": "stdout",
     "output_type": "stream",
     "text": [
      "[CV] ........... n_neighbors=6, score=0.978052854598545, total= 2.1min\n",
      "[CV] .......... n_neighbors=6, score=0.9799191659781004, total= 2.2min\n",
      "[CV] ........... n_neighbors=6, score=0.981224834188357, total= 2.1min\n",
      "[CV] .......... n_neighbors=6, score=0.9795360403793518, total= 2.2min\n"
     ]
    },
    {
     "name": "stderr",
     "output_type": "stream",
     "text": [
      "[Parallel(n_jobs=-1)]: Done  40 out of  40 | elapsed: 100.3min finished\n"
     ]
    },
    {
     "data": {
      "text/plain": [
       "GridSearchCV(cv=StratifiedKFold(n_splits=10, random_state=2018, shuffle=True),\n",
       "       error_score='raise',\n",
       "       estimator=KNeighborsClassifier(algorithm='auto', leaf_size=30, metric='minkowski',\n",
       "           metric_params=None, n_jobs=1, n_neighbors=5, p=2,\n",
       "           weights='uniform'),\n",
       "       fit_params=None, iid=True, n_jobs=-1,\n",
       "       param_grid={'n_neighbors': [3, 4, 5, 6]}, pre_dispatch='2*n_jobs',\n",
       "       refit=True, return_train_score='warn', scoring='f1_weighted',\n",
       "       verbose=4)"
      ]
     },
     "execution_count": 5,
     "metadata": {},
     "output_type": "execute_result"
    }
   ],
   "source": [
    "# With F1 Score\n",
    "x = df.drop(['sz','recordingID','Unnamed: 0','time','delta_data', 'theta_data', 'alpha_data', 'beta_data'], axis=1)\n",
    "#x = featuresUnstack.drop(['sz'], axis=1)\n",
    "y = df['sz']\n",
    "\n",
    "x_train, x_test, y_train, y_test = train_test_split(x, y, train_size=0.7, test_size=0.3, random_state=random_state)\n",
    "\n",
    "#dissimilar scales of data, StandardScaler should be used\n",
    "sc = StandardScaler()\n",
    "sc.fit(x_train)\n",
    "x_train_std = sc.transform(x_train)\n",
    "x_test_std = sc.transform(x_test)\n",
    "cv = StratifiedKFold(n_splits = 10, shuffle=True, random_state = random_state)\n",
    "\n",
    "clf = KNeighborsClassifier(metric='minkowski', p=2)\n",
    "\n",
    "params = {'n_neighbors': list(range(3,7))\n",
    "         }\n",
    "\n",
    "grid_sclf = GridSearchCV(estimator = clf, param_grid = params, cv = cv, n_jobs=-1, scoring='f1_weighted', verbose=4)\n",
    "grid_sclf.fit(x_train_std, y_train)"
   ]
  },
  {
   "cell_type": "code",
   "execution_count": 6,
   "metadata": {
    "scrolled": true
   },
   "outputs": [
    {
     "name": "stdout",
     "output_type": "stream",
     "text": [
      "KNeighborsClassifier(algorithm='auto', leaf_size=30, metric='minkowski',\n",
      "           metric_params=None, n_jobs=1, n_neighbors=5, p=2,\n",
      "           weights='uniform')\n",
      "{'n_neighbors': 5}\n",
      "...................................................................\n",
      "\n",
      "\n",
      "Accuracy of KNN Model: 0.9849973161567365\n",
      "\n",
      "\n",
      "                   pre       rec       spe        f1       geo       iba       sup\n",
      "\n",
      "     Normal     0.9858    0.9992    0.1330    0.9924    0.8444    0.7317     36651\n",
      "Pre-seizure     0.7232    0.1330    0.9992    0.2247    0.8444    0.6942       609\n",
      "\n",
      "avg / total     0.9815    0.9850    0.1472    0.9799    0.8444    0.7310     37260\n",
      "\n",
      "....................................................................\n",
      "\n",
      "\n",
      "sensitivity_specificity None: (array([0.99915418, 0.13300493]), array([0.13300493, 0.99915418]), array([36651,   609]))\n",
      "sensitivity_specificity micro: (0.9849973161567365, 0.9849973161567365, None)\n",
      "sensitivity_specificity macro: (0.5660795550844183, 0.5660795550844183, None)\n",
      "sensitivity_specificity weighted: (0.9849973161567365, 0.14716179401210017, None)\n",
      "\n",
      "\n",
      "\n",
      "gemetric mean None: [0.36454414 0.36454414]\n",
      "\n",
      "gemetric mean micro: 0.9849973161567365\n",
      "\n",
      "gemetric mean macro: 0.5660795550844183\n",
      "\n",
      "gemetric mean weighted: 0.3807282129587052\n",
      "\n",
      "\n",
      "\n",
      "\n",
      "F1 None: [0.99242537 0.22468793]\n",
      "\n",
      "\n",
      "F1 micro: 0.9849973161567365\n",
      "\n",
      "\n",
      "F1 macro: 0.6085566525216495\n",
      "\n",
      "\n",
      "F1 weighted: 0.9798770060818401\n",
      "\n",
      "\n",
      "\n",
      "\n",
      "precision None: 0.9849973161567365\n",
      "\n",
      "\n",
      "precision micro: 0.9849973161567365\n",
      "\n",
      "\n",
      "precision macro: 0.9849973161567365\n",
      "\n",
      "\n",
      "precision weighted: 0.9849973161567365\n",
      "\n",
      "\n",
      "\n",
      "\n",
      "recall None: 0.9849973161567365\n",
      "\n",
      "\n",
      "recall micro: 0.9849973161567365\n",
      "\n",
      "\n",
      "recall macro: 0.9849973161567365\n",
      "\n",
      "\n",
      "recall weighted: 0.9849973161567365\n"
     ]
    },
    {
     "data": {
      "image/png": "[encoded data removed]",
      "text/plain": [
       "<Figure size 432x288 with 2 Axes>"
      ]
     },
     "metadata": {
      "needs_background": "light"
     },
     "output_type": "display_data"
    }
   ],
   "source": [
    "print(grid_sclf.best_estimator_)\n",
    "print(grid_sclf.best_params_)\n",
    "print('...................................................................\\n\\n')\n",
    "\n",
    "#Prediction\n",
    "y_predict = grid_sclf.predict(x_test_std)\n",
    "\n",
    "print('Accuracy of KNN Model: {}\\n\\n' .format((accuracy_score(y_test,y_predict))))\n",
    "\n",
    "#generate and plot confusion matrix\n",
    "dsvm_cm = confusion_matrix(y_test,y_predict)\n",
    "\n",
    "ax= sns.heatmap(dsvm_cm, annot=True, fmt=\"d\")\n",
    "ax.set_xlabel('Predicted labels')\n",
    "ax.set_ylabel('True labels')\n",
    "ax.set_title('Confusion Matrix')\n",
    "\n",
    "#Classification Report \n",
    "target_names = ['Normal', 'Pre-seizure', 'Seizure']\n",
    "\n",
    "#print(classification_report(y_test, y_predict, digits=4, target_names=target_names))\n",
    "print(classification_report_imbalanced(y_test, y_predict, target_names=target_names, digits=4))\n",
    "\n",
    "print('....................................................................\\n\\n')\n",
    "\n",
    "#micro recall, precesion, specificity\n",
    "for i in [None, 'micro', 'macro', 'weighted']:\n",
    "    print('sensitivity_specificity {}: {}'.format(i, sensitivity_specificity_support(y_test, y_predict, average=i)))\n",
    "print('\\n')\n",
    "for i in [None, 'micro', 'macro', 'weighted']:\n",
    "    print('\\ngemetric mean {}: {}'.format(i ,geometric_mean_score(y_test, y_predict, average=i)))\n",
    "print('\\n')\n",
    "for i in [None, 'micro', 'macro', 'weighted']:\n",
    "    print('\\n\\nF1 {}: {}'.format(i, f1_score(y_test, y_predict, average=i)))\n",
    "print('\\n')\n",
    "for i in [None, 'micro', 'macro', 'weighted']:\n",
    "    print('\\n\\nprecision {}: {}'.format(i,precision_score(y_test, y_predict, average='micro')))\n",
    "print('\\n')\n",
    "for i in [None, 'micro', 'macro', 'weighted']:\n",
    "    print('\\n\\nrecall {}: {}'.format(i, recall_score(y_test, y_predict, average='micro')))"
   ]
  },
  {
   "cell_type": "markdown",
   "metadata": {},
   "source": [
    "### chb03 completed"
   ]
  },
  {
   "cell_type": "code",
   "execution_count": 2,
   "metadata": {},
   "outputs": [
    {
     "data": {
      "text/plain": [
       "44"
      ]
     },
     "execution_count": 2,
     "metadata": {},
     "output_type": "execute_result"
    }
   ],
   "source": [
    "lebaledCSVFilePath = '/home/mirwais/notebooks/paper_3/data/lebaled/chb03_time_freq_segments.csv'\n",
    "df = pd.read_csv(lebaledCSVFilePath)\n",
    "df.columns.size"
   ]
  },
  {
   "cell_type": "code",
   "execution_count": 3,
   "metadata": {},
   "outputs": [
    {
     "data": {
      "text/plain": [
       "0    285016\n",
       "2      4784\n",
       "Name: sz, dtype: int64"
      ]
     },
     "execution_count": 3,
     "metadata": {},
     "output_type": "execute_result"
    }
   ],
   "source": [
    "df[\"sz\"].value_counts()"
   ]
  },
  {
   "cell_type": "code",
   "execution_count": 4,
   "metadata": {
    "scrolled": true
   },
   "outputs": [
    {
     "name": "stdout",
     "output_type": "stream",
     "text": [
      "Fitting 10 folds for each of 1 candidates, totalling 10 fits\n",
      "[CV] n_neighbors=5 ...................................................\n",
      "[CV] n_neighbors=5 ...................................................\n",
      "[CV] n_neighbors=5 ...................................................\n",
      "[CV] n_neighbors=5 ...................................................\n",
      "[CV] n_neighbors=5 ...................................................\n",
      "[CV] n_neighbors=5 ...................................................\n",
      "[CV] n_neighbors=5 ...................................................\n",
      "[CV] n_neighbors=5 ...................................................\n",
      "[CV] .......... n_neighbors=5, score=0.9820321917412953, total= 8.5min\n",
      "[CV] n_neighbors=5 ...................................................\n",
      "[CV] .......... n_neighbors=5, score=0.9832438050020973, total= 8.6min\n",
      "[CV] n_neighbors=5 ...................................................\n",
      "[CV] .......... n_neighbors=5, score=0.9825287808832543, total= 8.6min\n",
      "[CV] .......... n_neighbors=5, score=0.9828585690518309, total= 8.6min\n"
     ]
    },
    {
     "name": "stderr",
     "output_type": "stream",
     "text": [
      "[Parallel(n_jobs=-1)]: Done   4 out of  10 | elapsed: 88.3min remaining: 132.4min\n"
     ]
    },
    {
     "name": "stdout",
     "output_type": "stream",
     "text": [
      "[CV] .......... n_neighbors=5, score=0.9849584080768998, total= 8.6min\n",
      "[CV] .......... n_neighbors=5, score=0.9836337220877477, total= 8.6min\n",
      "[CV] .......... n_neighbors=5, score=0.9832404574512054, total= 8.6min\n"
     ]
    },
    {
     "name": "stderr",
     "output_type": "stream",
     "text": [
      "[Parallel(n_jobs=-1)]: Done   7 out of  10 | elapsed: 89.7min remaining: 38.4min\n"
     ]
    },
    {
     "name": "stdout",
     "output_type": "stream",
     "text": [
      "[CV] ........... n_neighbors=5, score=0.982172225391076, total= 8.8min\n",
      "[CV] .......... n_neighbors=5, score=0.9831213400526548, total= 6.8min\n",
      "[CV] .......... n_neighbors=5, score=0.9851523740035623, total= 6.6min\n"
     ]
    },
    {
     "name": "stderr",
     "output_type": "stream",
     "text": [
      "[Parallel(n_jobs=-1)]: Done  10 out of  10 | elapsed: 149.9min remaining:    0.0s\n",
      "[Parallel(n_jobs=-1)]: Done  10 out of  10 | elapsed: 149.9min finished\n"
     ]
    },
    {
     "data": {
      "text/plain": [
       "GridSearchCV(cv=StratifiedKFold(n_splits=10, random_state=2018, shuffle=True),\n",
       "       error_score='raise',\n",
       "       estimator=KNeighborsClassifier(algorithm='auto', leaf_size=30, metric='minkowski',\n",
       "           metric_params=None, n_jobs=1, n_neighbors=5, p=2,\n",
       "           weights='uniform'),\n",
       "       fit_params=None, iid=True, n_jobs=-1,\n",
       "       param_grid={'n_neighbors': [5]}, pre_dispatch='2*n_jobs',\n",
       "       refit=True, return_train_score='warn', scoring='f1_weighted',\n",
       "       verbose=4)"
      ]
     },
     "execution_count": 4,
     "metadata": {},
     "output_type": "execute_result"
    }
   ],
   "source": [
    "# With F1 Score\n",
    "x = df.drop(['sz','recordingID','Unnamed: 0','time','delta_data', 'theta_data', 'alpha_data', 'beta_data'], axis=1)\n",
    "#x = featuresUnstack.drop(['sz'], axis=1)\n",
    "y = df['sz']\n",
    "\n",
    "x_train, x_test, y_train, y_test = train_test_split(x, y, train_size=0.7, test_size=0.3, random_state=random_state)\n",
    "\n",
    "#dissimilar scales of data, StandardScaler should be used\n",
    "sc = StandardScaler()\n",
    "sc.fit(x_train)\n",
    "x_train_std = sc.transform(x_train)\n",
    "x_test_std = sc.transform(x_test)\n",
    "cv = StratifiedKFold(n_splits = 10, shuffle=True, random_state = random_state)\n",
    "\n",
    "clf = KNeighborsClassifier(metric='minkowski', p=2)\n",
    "\n",
    "params = {'n_neighbors': list(range(5,6))\n",
    "         }\n",
    "\n",
    "grid_sclf = GridSearchCV(estimator = clf, param_grid = params, cv = cv, n_jobs=-1, scoring='f1_weighted', verbose=4)\n",
    "grid_sclf.fit(x_train_std, y_train)"
   ]
  },
  {
   "cell_type": "code",
   "execution_count": 5,
   "metadata": {},
   "outputs": [
    {
     "name": "stdout",
     "output_type": "stream",
     "text": [
      "KNeighborsClassifier(algorithm='auto', leaf_size=30, metric='minkowski',\n",
      "           metric_params=None, n_jobs=1, n_neighbors=5, p=2,\n",
      "           weights='uniform')\n",
      "{'n_neighbors': 5}\n",
      "...................................................................\n",
      "\n",
      "\n",
      "Accuracy of KNN Model: 0.985829307568438\n",
      "\n",
      "\n",
      "                   pre       rec       spe        f1       geo       iba       sup\n",
      "\n",
      "     Normal     0.9885    0.9972    0.2987    0.9928    0.7947    0.6537     85524\n",
      "Pre-seizure     0.6390    0.2987    0.9972    0.4071    0.7947    0.6095      1416\n",
      "\n",
      "avg / total     0.9828    0.9858    0.3101    0.9833    0.7947    0.6530     86940\n",
      "\n",
      "....................................................................\n",
      "\n",
      "\n",
      "sensitivity_specificity None: (array([0.99720546, 0.29872881]), array([0.29872881, 0.99720546]), array([85524,  1416]))\n",
      "sensitivity_specificity micro: (0.985829307568438, 0.985829307568438, None)\n",
      "sensitivity_specificity macro: (0.6479671381766958, 0.6479671381766958, None)\n",
      "sensitivity_specificity weighted: (0.985829307568438, 0.3101049687849535, None)\n",
      "\n",
      "\n",
      "\n",
      "gemetric mean None: [0.54579667 0.54579667]\n",
      "\n",
      "gemetric mean micro: 0.985829307568438\n",
      "\n",
      "gemetric mean macro: 0.6479671381766958\n",
      "\n",
      "gemetric mean weighted: 0.5529109934255267\n",
      "\n",
      "\n",
      "\n",
      "\n",
      "F1 None: [0.99282895 0.40712223]\n",
      "\n",
      "\n",
      "F1 micro: 0.985829307568438\n",
      "\n",
      "\n",
      "F1 macro: 0.6999755935887833\n",
      "\n",
      "\n",
      "F1 weighted: 0.9832894935133761\n",
      "\n",
      "\n",
      "\n",
      "\n",
      "precision None: 0.985829307568438\n",
      "\n",
      "\n",
      "precision micro: 0.985829307568438\n",
      "\n",
      "\n",
      "precision macro: 0.985829307568438\n",
      "\n",
      "\n",
      "precision weighted: 0.985829307568438\n",
      "\n",
      "\n",
      "\n",
      "\n",
      "recall None: 0.985829307568438\n",
      "\n",
      "\n",
      "recall micro: 0.985829307568438\n",
      "\n",
      "\n",
      "recall macro: 0.985829307568438\n",
      "\n",
      "\n",
      "recall weighted: 0.985829307568438\n"
     ]
    },
    {
     "data": {
      "image/png": "[encoded data removed]",
      "text/plain": [
       "<Figure size 432x288 with 2 Axes>"
      ]
     },
     "metadata": {
      "needs_background": "light"
     },
     "output_type": "display_data"
    }
   ],
   "source": [
    "print(grid_sclf.best_estimator_)\n",
    "print(grid_sclf.best_params_)\n",
    "print('...................................................................\\n\\n')\n",
    "\n",
    "#Prediction\n",
    "y_predict = grid_sclf.predict(x_test_std)\n",
    "\n",
    "print('Accuracy of KNN Model: {}\\n\\n' .format((accuracy_score(y_test,y_predict))))\n",
    "\n",
    "#generate and plot confusion matrix\n",
    "dsvm_cm = confusion_matrix(y_test,y_predict)\n",
    "\n",
    "ax= sns.heatmap(dsvm_cm, annot=True, fmt=\"d\")\n",
    "ax.set_xlabel('Predicted labels')\n",
    "ax.set_ylabel('True labels')\n",
    "ax.set_title('Confusion Matrix')\n",
    "\n",
    "#Classification Report \n",
    "target_names = ['Normal', 'Pre-seizure', 'Seizure']\n",
    "\n",
    "#print(classification_report(y_test, y_predict, digits=4, target_names=target_names))\n",
    "print(classification_report_imbalanced(y_test, y_predict, target_names=target_names, digits=4))\n",
    "\n",
    "print('....................................................................\\n\\n')\n",
    "\n",
    "#micro recall, precesion, specificity\n",
    "for i in [None, 'micro', 'macro', 'weighted']:\n",
    "    print('sensitivity_specificity {}: {}'.format(i, sensitivity_specificity_support(y_test, y_predict, average=i)))\n",
    "print('\\n')\n",
    "for i in [None, 'micro', 'macro', 'weighted']:\n",
    "    print('\\ngemetric mean {}: {}'.format(i ,geometric_mean_score(y_test, y_predict, average=i)))\n",
    "print('\\n')\n",
    "for i in [None, 'micro', 'macro', 'weighted']:\n",
    "    print('\\n\\nF1 {}: {}'.format(i, f1_score(y_test, y_predict, average=i)))\n",
    "print('\\n')\n",
    "for i in [None, 'micro', 'macro', 'weighted']:\n",
    "    print('\\n\\nprecision {}: {}'.format(i,precision_score(y_test, y_predict, average='micro')))\n",
    "print('\\n')\n",
    "for i in [None, 'micro', 'macro', 'weighted']:\n",
    "    print('\\n\\nrecall {}: {}'.format(i, recall_score(y_test, y_predict, average='micro')))"
   ]
  },
  {
   "cell_type": "markdown",
   "metadata": {},
   "source": [
    "### 1. chb04 completed"
   ]
  },
  {
   "cell_type": "code",
   "execution_count": 7,
   "metadata": {},
   "outputs": [
    {
     "data": {
      "text/plain": [
       "44"
      ]
     },
     "execution_count": 7,
     "metadata": {},
     "output_type": "execute_result"
    }
   ],
   "source": [
    "lebaledCSVFilePath = '/home/mirwais/notebooks/paper_3/data/lebaled/chb04_time_freq_segments.csv'\n",
    "df = pd.read_csv(lebaledCSVFilePath)\n",
    "df.columns.size"
   ]
  },
  {
   "cell_type": "code",
   "execution_count": 8,
   "metadata": {},
   "outputs": [
    {
     "data": {
      "text/plain": [
       "0    165002\n",
       "2       575\n",
       "Name: sz, dtype: int64"
      ]
     },
     "execution_count": 8,
     "metadata": {},
     "output_type": "execute_result"
    }
   ],
   "source": [
    "df[\"sz\"].value_counts()"
   ]
  },
  {
   "cell_type": "code",
   "execution_count": 4,
   "metadata": {
    "scrolled": true
   },
   "outputs": [
    {
     "name": "stdout",
     "output_type": "stream",
     "text": [
      "Fitting 10 folds for each of 1 candidates, totalling 10 fits\n",
      "[CV] n_neighbors=5 ...................................................\n",
      "[CV] n_neighbors=5 ...................................................\n",
      "[CV] n_neighbors=5 ...................................................\n",
      "[CV] n_neighbors=5 ...................................................\n",
      "[CV] n_neighbors=5 ...................................................\n",
      "[CV] n_neighbors=5 ...................................................\n",
      "[CV] n_neighbors=5 ...................................................\n",
      "[CV] n_neighbors=5 ...................................................\n"
     ]
    },
    {
     "name": "stderr",
     "output_type": "stream",
     "text": [
      "/usr/local/anaconda3/lib/python3.6/site-packages/sklearn/metrics/classification.py:1135: UndefinedMetricWarning: F-score is ill-defined and being set to 0.0 in labels with no predicted samples.\n",
      "  'precision', 'predicted', average, warn_for)\n",
      "/usr/local/anaconda3/lib/python3.6/site-packages/sklearn/metrics/classification.py:1135: UndefinedMetricWarning: F-score is ill-defined and being set to 0.0 in labels with no predicted samples.\n",
      "  'precision', 'predicted', average, warn_for)\n",
      "/usr/local/anaconda3/lib/python3.6/site-packages/sklearn/metrics/classification.py:1135: UndefinedMetricWarning: F-score is ill-defined and being set to 0.0 in labels with no predicted samples.\n",
      "  'precision', 'predicted', average, warn_for)\n",
      "/usr/local/anaconda3/lib/python3.6/site-packages/sklearn/metrics/classification.py:1135: UndefinedMetricWarning: F-score is ill-defined and being set to 0.0 in labels with no predicted samples.\n",
      "  'precision', 'predicted', average, warn_for)\n",
      "/usr/local/anaconda3/lib/python3.6/site-packages/sklearn/metrics/classification.py:1135: UndefinedMetricWarning: F-score is ill-defined and being set to 0.0 in labels with no predicted samples.\n",
      "  'precision', 'predicted', average, warn_for)\n",
      "/usr/local/anaconda3/lib/python3.6/site-packages/sklearn/metrics/classification.py:1135: UndefinedMetricWarning: F-score is ill-defined and being set to 0.0 in labels with no predicted samples.\n",
      "  'precision', 'predicted', average, warn_for)\n",
      "/usr/local/anaconda3/lib/python3.6/site-packages/sklearn/metrics/classification.py:1135: UndefinedMetricWarning: F-score is ill-defined and being set to 0.0 in labels with no predicted samples.\n",
      "  'precision', 'predicted', average, warn_for)\n",
      "/usr/local/anaconda3/lib/python3.6/site-packages/sklearn/metrics/classification.py:1135: UndefinedMetricWarning: F-score is ill-defined and being set to 0.0 in labels with no predicted samples.\n",
      "  'precision', 'predicted', average, warn_for)\n"
     ]
    },
    {
     "name": "stdout",
     "output_type": "stream",
     "text": [
      "[CV] .......... n_neighbors=5, score=0.9948265524270188, total=  58.5s\n",
      "[CV] n_neighbors=5 ...................................................\n",
      "[CV] .......... n_neighbors=5, score=0.9949553808238417, total=  59.2s\n",
      "[CV] n_neighbors=5 ...................................................\n",
      "[CV] .......... n_neighbors=5, score=0.9948265524270188, total=  59.8s\n",
      "[CV] .......... n_neighbors=5, score=0.9949553808238417, total=  59.1s\n"
     ]
    },
    {
     "name": "stderr",
     "output_type": "stream",
     "text": [
      "[Parallel(n_jobs=-1)]: Done   4 out of  10 | elapsed:  9.5min remaining: 14.3min\n"
     ]
    },
    {
     "name": "stdout",
     "output_type": "stream",
     "text": [
      "[CV] .......... n_neighbors=5, score=0.9949553808238417, total=  60.0s\n",
      "[CV] .......... n_neighbors=5, score=0.9948265524270188, total=  58.6s\n",
      "[CV] .......... n_neighbors=5, score=0.9948265524270188, total= 1.0min\n"
     ]
    },
    {
     "name": "stderr",
     "output_type": "stream",
     "text": [
      "[Parallel(n_jobs=-1)]: Done   7 out of  10 | elapsed:  9.6min remaining:  4.1min\n"
     ]
    },
    {
     "name": "stdout",
     "output_type": "stream",
     "text": [
      "[CV] .......... n_neighbors=5, score=0.9949553808238417, total=  60.0s\n"
     ]
    },
    {
     "name": "stderr",
     "output_type": "stream",
     "text": [
      "/usr/local/anaconda3/lib/python3.6/site-packages/sklearn/metrics/classification.py:1135: UndefinedMetricWarning: F-score is ill-defined and being set to 0.0 in labels with no predicted samples.\n",
      "  'precision', 'predicted', average, warn_for)\n",
      "/usr/local/anaconda3/lib/python3.6/site-packages/sklearn/metrics/classification.py:1135: UndefinedMetricWarning: F-score is ill-defined and being set to 0.0 in labels with no predicted samples.\n",
      "  'precision', 'predicted', average, warn_for)\n"
     ]
    },
    {
     "name": "stdout",
     "output_type": "stream",
     "text": [
      "[CV] .......... n_neighbors=5, score=0.9949549457752072, total=  46.1s\n",
      "[CV] .......... n_neighbors=5, score=0.9949553808238417, total=  46.5s\n"
     ]
    },
    {
     "name": "stderr",
     "output_type": "stream",
     "text": [
      "[Parallel(n_jobs=-1)]: Done  10 out of  10 | elapsed: 16.6min remaining:    0.0s\n",
      "[Parallel(n_jobs=-1)]: Done  10 out of  10 | elapsed: 16.6min finished\n"
     ]
    },
    {
     "data": {
      "text/plain": [
       "GridSearchCV(cv=StratifiedKFold(n_splits=10, random_state=2018, shuffle=True),\n",
       "       error_score='raise',\n",
       "       estimator=KNeighborsClassifier(algorithm='auto', leaf_size=30, metric='minkowski',\n",
       "           metric_params=None, n_jobs=1, n_neighbors=5, p=2,\n",
       "           weights='uniform'),\n",
       "       fit_params=None, iid=True, n_jobs=-1,\n",
       "       param_grid={'n_neighbors': [5]}, pre_dispatch='2*n_jobs',\n",
       "       refit=True, return_train_score='warn', scoring='f1_weighted',\n",
       "       verbose=4)"
      ]
     },
     "execution_count": 4,
     "metadata": {},
     "output_type": "execute_result"
    }
   ],
   "source": [
    "# With F1 Score\n",
    "x = df.drop(['sz','recordingID','Unnamed: 0','time','delta_data', 'theta_data', 'alpha_data', 'beta_data'], axis=1)\n",
    "#x = featuresUnstack.drop(['sz'], axis=1)\n",
    "y = df['sz']\n",
    "\n",
    "x_train, x_test, y_train, y_test = train_test_split(x, y, train_size=0.7, test_size=0.3, random_state=random_state)\n",
    "\n",
    "#dissimilar scales of data, StandardScaler should be used\n",
    "sc = StandardScaler()\n",
    "sc.fit(x_train)\n",
    "x_train_std = sc.transform(x_train)\n",
    "x_test_std = sc.transform(x_test)\n",
    "cv = StratifiedKFold(n_splits = 10, shuffle=True, random_state = random_state)\n",
    "\n",
    "clf = KNeighborsClassifier(metric='minkowski', p=2)\n",
    "\n",
    "params = {'n_neighbors': list(range(5,6))\n",
    "         } \n",
    "\n",
    "grid_sclf = GridSearchCV(estimator = clf, param_grid = params, cv = cv, n_jobs=-1, scoring='f1_weighted', verbose=4)\n",
    "grid_sclf.fit(x_train_std, y_train)"
   ]
  },
  {
   "cell_type": "code",
   "execution_count": 6,
   "metadata": {
    "scrolled": true
   },
   "outputs": [
    {
     "name": "stdout",
     "output_type": "stream",
     "text": [
      "KNeighborsClassifier(algorithm='auto', leaf_size=30, metric='minkowski',\n",
      "           metric_params=None, n_jobs=1, n_neighbors=5, p=2,\n",
      "           weights='uniform')\n",
      "{'n_neighbors': 5}\n",
      "...................................................................\n",
      "\n",
      "\n",
      "Accuracy of KNN Model: 0.9963965052139953\n",
      "\n",
      "\n"
     ]
    },
    {
     "name": "stderr",
     "output_type": "stream",
     "text": [
      "/usr/local/anaconda3/lib/python3.6/site-packages/sklearn/metrics/classification.py:1428: UserWarning: labels size, 2, does not match size of target_names, 3\n",
      "  .format(len(labels), len(target_names))\n"
     ]
    },
    {
     "name": "stdout",
     "output_type": "stream",
     "text": [
      "             precision    recall  f1-score   support\n",
      "\n",
      "     Normal     0.9964    1.0000    0.9982     49493\n",
      "Pre-seizure     1.0000    0.0110    0.0219       181\n",
      "\n",
      "avg / total     0.9964    0.9964    0.9946     49674\n",
      "\n",
      "                   pre       rec       spe        f1       geo       iba       sup\n",
      "\n",
      "     Normal     0.9964    1.0000    0.0110    0.9982    0.9982    0.9960     49493\n",
      "Pre-seizure     1.0000    0.0110    1.0000    0.0219    0.9982    0.9968       181\n",
      "\n",
      "avg / total     0.9964    0.9964    0.0147    0.9946    0.9982    0.9960     49674\n",
      "\n",
      "....................................................................\n",
      "\n",
      "\n",
      "sensitivity_specificity None: (array([1.        , 0.01104972]), array([0.01104972, 1.        ]), array([49493,   181]))\n",
      "sensitivity_specificity micro: (0.9963965052139953, 0.9963965052139953, None)\n",
      "sensitivity_specificity macro: (0.505524861878453, 0.505524861878453, None)\n",
      "sensitivity_specificity weighted: (0.9963965052139953, 0.014653218542910828, None)\n",
      "\n",
      "\n",
      "\n",
      "gemetric mean None: [0.10511767 0.10511767]\n",
      "\n",
      "gemetric mean micro: 0.9963965052139953\n",
      "\n",
      "gemetric mean macro: 0.505524861878453\n",
      "\n",
      "gemetric mean weighted: 0.12083218009410102\n",
      "\n",
      "\n",
      "\n",
      "\n",
      "F1 None: [0.99819493 0.02185792]\n",
      "\n",
      "\n",
      "F1 micro: 0.9963965052139953\n",
      "\n",
      "\n",
      "F1 macro: 0.5100264255715553\n",
      "\n",
      "\n",
      "F1 weighted: 0.9946373925620788\n",
      "\n",
      "\n",
      "\n",
      "\n",
      "precision None: 0.9963965052139953\n",
      "\n",
      "\n",
      "precision micro: 0.9963965052139953\n",
      "\n",
      "\n",
      "precision macro: 0.9963965052139953\n",
      "\n",
      "\n",
      "precision weighted: 0.9963965052139953\n",
      "\n",
      "\n",
      "\n",
      "\n",
      "recall None: 0.9963965052139953\n",
      "\n",
      "\n",
      "recall micro: 0.9963965052139953\n",
      "\n",
      "\n",
      "recall macro: 0.9963965052139953\n",
      "\n",
      "\n",
      "recall weighted: 0.9963965052139953\n"
     ]
    },
    {
     "data": {
      "image/png": "[encoded data removed]",
      "text/plain": [
       "<Figure size 432x288 with 2 Axes>"
      ]
     },
     "metadata": {
      "needs_background": "light"
     },
     "output_type": "display_data"
    }
   ],
   "source": [
    "print(grid_sclf.best_estimator_)\n",
    "print(grid_sclf.best_params_)\n",
    "print('...................................................................\\n\\n')\n",
    "\n",
    "#Prediction\n",
    "y_predict = grid_sclf.predict(x_test_std)\n",
    "\n",
    "print('Accuracy of KNN Model: {}\\n\\n' .format((accuracy_score(y_test,y_predict))))\n",
    "\n",
    "#generate and plot confusion matrix\n",
    "dsvm_cm = confusion_matrix(y_test,y_predict)\n",
    "\n",
    "ax= sns.heatmap(dsvm_cm, annot=True, fmt=\"d\")\n",
    "ax.set_xlabel('Predicted labels')\n",
    "ax.set_ylabel('True labels')\n",
    "ax.set_title('Confusion Matrix')\n",
    "\n",
    "#Classification Report \n",
    "target_names = ['Normal', 'Pre-seizure', 'Seizure']\n",
    "\n",
    "#print(classification_report(y_test, y_predict, digits=4, target_names=target_names))\n",
    "print(classification_report_imbalanced(y_test, y_predict, target_names=target_names, digits=4))\n",
    "\n",
    "print('....................................................................\\n\\n')\n",
    "\n",
    "#micro recall, precesion, specificity\n",
    "for i in [None, 'micro', 'macro', 'weighted']:\n",
    "    print('sensitivity_specificity {}: {}'.format(i, sensitivity_specificity_support(y_test, y_predict, average=i)))\n",
    "print('\\n')\n",
    "for i in [None, 'micro', 'macro', 'weighted']:\n",
    "    print('\\ngemetric mean {}: {}'.format(i ,geometric_mean_score(y_test, y_predict, average=i)))\n",
    "print('\\n')\n",
    "for i in [None, 'micro', 'macro', 'weighted']:\n",
    "    print('\\n\\nF1 {}: {}'.format(i, f1_score(y_test, y_predict, average=i)))\n",
    "print('\\n')\n",
    "for i in [None, 'micro', 'macro', 'weighted']:\n",
    "    print('\\n\\nprecision {}: {}'.format(i,precision_score(y_test, y_predict, average='micro')))\n",
    "print('\\n')\n",
    "for i in [None, 'micro', 'macro', 'weighted']:\n",
    "    print('\\n\\nrecall {}: {}'.format(i, recall_score(y_test, y_predict, average='micro')))"
   ]
  },
  {
   "cell_type": "code",
   "execution_count": 19,
   "metadata": {},
   "outputs": [
    {
     "name": "stdout",
     "output_type": "stream",
     "text": [
      "Resampled dataset shape Counter({0: 165002, 2: 49493})\n"
     ]
    }
   ],
   "source": [
    "# Over-sampling using SMOTE\n",
    "from collections import Counter\n",
    "from imblearn.over_sampling import SMOTE \n",
    "\n",
    "x = df.drop(['sz','recordingID','Unnamed: 0','time','delta_data', 'theta_data', 'alpha_data', 'beta_data'], axis=1)\n",
    "#x = featuresUnstack.drop(['sz'], axis=1)\n",
    "y = df['sz']\n",
    "\n",
    "sm = SMOTE(random_state=42,ratio={2:49493})\n",
    "X_res, y_res = sm.fit_sample(x, y)\n",
    "\n",
    "print('Resampled dataset shape {}'.format(Counter(y_res)))"
   ]
  },
  {
   "cell_type": "code",
   "execution_count": 15,
   "metadata": {
    "scrolled": true
   },
   "outputs": [
    {
     "name": "stdout",
     "output_type": "stream",
     "text": [
      "Fitting 10 folds for each of 1 candidates, totalling 10 fits\n",
      "[CV] n_neighbors=5 ...................................................\n",
      "[CV] n_neighbors=5 ...................................................\n",
      "[CV] n_neighbors=5 ...................................................\n",
      "[CV] n_neighbors=5 ...................................................\n",
      "[CV] n_neighbors=5 ...................................................\n",
      "[CV] n_neighbors=5 ...................................................\n",
      "[CV] n_neighbors=5 ...................................................\n",
      "[CV] n_neighbors=5 ...................................................\n",
      "[CV] .......... n_neighbors=5, score=0.9652449827894113, total= 1.6min\n",
      "[CV] n_neighbors=5 ...................................................\n",
      "[CV] .......... n_neighbors=5, score=0.9661576408715342, total= 1.7min\n",
      "[CV] n_neighbors=5 ...................................................\n",
      "[CV] .......... n_neighbors=5, score=0.9653025562137523, total= 1.7min\n",
      "[CV] .......... n_neighbors=5, score=0.9654091134295238, total= 1.7min\n"
     ]
    },
    {
     "name": "stderr",
     "output_type": "stream",
     "text": [
      "[Parallel(n_jobs=-1)]: Done   4 out of  10 | elapsed: 16.0min remaining: 24.0min\n"
     ]
    },
    {
     "name": "stdout",
     "output_type": "stream",
     "text": [
      "[CV] .......... n_neighbors=5, score=0.9639595267583498, total= 1.7min\n",
      "[CV] .......... n_neighbors=5, score=0.9623165683774798, total= 1.7min\n",
      "[CV] .......... n_neighbors=5, score=0.9650224319649592, total= 1.7min\n"
     ]
    },
    {
     "name": "stderr",
     "output_type": "stream",
     "text": [
      "[Parallel(n_jobs=-1)]: Done   7 out of  10 | elapsed: 16.1min remaining:  6.9min\n"
     ]
    },
    {
     "name": "stdout",
     "output_type": "stream",
     "text": [
      "[CV] .......... n_neighbors=5, score=0.9647566126282354, total= 1.7min\n",
      "[CV] .......... n_neighbors=5, score=0.9659214269962701, total= 1.3min\n",
      "[CV] .......... n_neighbors=5, score=0.9630799539708002, total= 1.6min\n"
     ]
    },
    {
     "name": "stderr",
     "output_type": "stream",
     "text": [
      "[Parallel(n_jobs=-1)]: Done  10 out of  10 | elapsed: 28.1min remaining:    0.0s\n",
      "[Parallel(n_jobs=-1)]: Done  10 out of  10 | elapsed: 28.1min finished\n"
     ]
    },
    {
     "data": {
      "text/plain": [
       "GridSearchCV(cv=StratifiedKFold(n_splits=10, random_state=2018, shuffle=True),\n",
       "       error_score='raise',\n",
       "       estimator=KNeighborsClassifier(algorithm='auto', leaf_size=30, metric='minkowski',\n",
       "           metric_params=None, n_jobs=1, n_neighbors=5, p=2,\n",
       "           weights='uniform'),\n",
       "       fit_params=None, iid=True, n_jobs=-1,\n",
       "       param_grid={'n_neighbors': [5]}, pre_dispatch='2*n_jobs',\n",
       "       refit=True, return_train_score='warn', scoring='f1_weighted',\n",
       "       verbose=4)"
      ]
     },
     "execution_count": 15,
     "metadata": {},
     "output_type": "execute_result"
    }
   ],
   "source": [
    "x_train, x_test, y_train, y_test = train_test_split(X_res, y_res, train_size=0.7, test_size=0.3, random_state=random_state)\n",
    "\n",
    "#dissimilar scales of data, StandardScaler should be used\n",
    "sc = StandardScaler()\n",
    "sc.fit(x_train)\n",
    "x_train_std = sc.transform(x_train)\n",
    "x_test_std = sc.transform(x_test)\n",
    "cv = StratifiedKFold(n_splits = 10, shuffle=True, random_state = random_state)\n",
    "\n",
    "clf = KNeighborsClassifier(metric='minkowski', p=2)\n",
    "\n",
    "params = {'n_neighbors': list(range(5,6))\n",
    "         } \n",
    "\n",
    "grid_sclf = GridSearchCV(estimator = clf, param_grid = params, cv = cv, n_jobs=-1, scoring='f1_weighted', verbose=4)\n",
    "grid_sclf.fit(x_train_std, y_train)"
   ]
  },
  {
   "cell_type": "code",
   "execution_count": 16,
   "metadata": {
    "scrolled": true
   },
   "outputs": [
    {
     "name": "stdout",
     "output_type": "stream",
     "text": [
      "KNeighborsClassifier(algorithm='auto', leaf_size=30, metric='minkowski',\n",
      "           metric_params=None, n_jobs=1, n_neighbors=5, p=2,\n",
      "           weights='uniform')\n",
      "{'n_neighbors': 5}\n",
      "...................................................................\n",
      "\n",
      "\n",
      "Accuracy of KNN Model: 0.9645702722723084\n",
      "\n",
      "\n",
      "                   pre       rec       spe        f1       geo       iba       sup\n",
      "\n",
      "     Normal     0.9978    0.9625    0.9823    0.9798    0.8677    0.7712     49536\n",
      "Pre-seizure     0.7545    0.9823    0.9625    0.8534    0.8677    0.7345      5813\n",
      "\n",
      "avg / total     0.9723    0.9646    0.9802    0.9666    0.8677    0.7673     55349\n",
      "\n",
      "....................................................................\n",
      "\n",
      "\n",
      "sensitivity_specificity None: (array([0.96249193, 0.98228109]), array([0.98228109, 0.96249193]), array([49536,  5813]))\n",
      "sensitivity_specificity micro: (0.9645702722723084, 0.9645702722723084, None)\n",
      "sensitivity_specificity macro: (0.9723865095820159, 0.9723865095820159, None)\n",
      "sensitivity_specificity weighted: (0.9645702722723084, 0.9802027468917234, None)\n",
      "\n",
      "\n",
      "\n",
      "gemetric mean None: [0.97233617 0.97233617]\n",
      "\n",
      "gemetric mean micro: 0.9645702722723084\n",
      "\n",
      "gemetric mean macro: 0.9723865095820159\n",
      "\n",
      "gemetric mean weighted: 0.9723550948349138\n",
      "\n",
      "\n",
      "\n",
      "\n",
      "F1 None: [0.97984936 0.85344892]\n",
      "\n",
      "\n",
      "F1 micro: 0.9645702722723084\n",
      "\n",
      "\n",
      "F1 macro: 0.9166491391966649\n",
      "\n",
      "\n",
      "F1 weighted: 0.9665742178629431\n",
      "\n",
      "\n",
      "\n",
      "\n",
      "precision None: 0.9645702722723084\n",
      "\n",
      "\n",
      "precision micro: 0.9645702722723084\n",
      "\n",
      "\n",
      "precision macro: 0.9645702722723084\n",
      "\n",
      "\n",
      "precision weighted: 0.9645702722723084\n",
      "\n",
      "\n",
      "\n",
      "\n",
      "recall None: 0.9645702722723084\n",
      "\n",
      "\n",
      "recall micro: 0.9645702722723084\n",
      "\n",
      "\n",
      "recall macro: 0.9645702722723084\n",
      "\n",
      "\n",
      "recall weighted: 0.9645702722723084\n"
     ]
    },
    {
     "data": {
      "image/png": "[encoded data removed]",
      "text/plain": [
       "<Figure size 432x288 with 2 Axes>"
      ]
     },
     "metadata": {
      "needs_background": "light"
     },
     "output_type": "display_data"
    }
   ],
   "source": [
    "print(grid_sclf.best_estimator_)\n",
    "print(grid_sclf.best_params_)\n",
    "print('...................................................................\\n\\n')\n",
    "\n",
    "#Prediction\n",
    "y_predict = grid_sclf.predict(x_test_std)\n",
    "\n",
    "print('Accuracy of KNN Model: {}\\n\\n' .format((accuracy_score(y_test,y_predict))))\n",
    "\n",
    "#generate and plot confusion matrix\n",
    "dsvm_cm = confusion_matrix(y_test,y_predict)\n",
    "\n",
    "ax= sns.heatmap(dsvm_cm, annot=True, fmt=\"d\")\n",
    "ax.set_xlabel('Predicted labels')\n",
    "ax.set_ylabel('True labels')\n",
    "ax.set_title('Confusion Matrix')\n",
    "\n",
    "#Classification Report \n",
    "target_names = ['Normal', 'Seizure']\n",
    "\n",
    "#print(classification_report(y_test, y_predict, digits=4, target_names=target_names))\n",
    "print(classification_report_imbalanced(y_test, y_predict, target_names=target_names, digits=4))\n",
    "\n",
    "print('....................................................................\\n\\n')\n",
    "\n",
    "#micro recall, precesion, specificity\n",
    "for i in [None, 'micro', 'macro', 'weighted']:\n",
    "    print('sensitivity_specificity {}: {}'.format(i, sensitivity_specificity_support(y_test, y_predict, average=i)))\n",
    "print('\\n')\n",
    "for i in [None, 'micro', 'macro', 'weighted']:\n",
    "    print('\\ngemetric mean {}: {}'.format(i ,geometric_mean_score(y_test, y_predict, average=i)))\n",
    "print('\\n')\n",
    "for i in [None, 'micro', 'macro', 'weighted']:\n",
    "    print('\\n\\nF1 {}: {}'.format(i, f1_score(y_test, y_predict, average=i)))\n",
    "print('\\n')\n",
    "for i in [None, 'micro', 'macro', 'weighted']:\n",
    "    print('\\n\\nprecision {}: {}'.format(i,precision_score(y_test, y_predict, average='micro')))\n",
    "print('\\n')\n",
    "for i in [None, 'micro', 'macro', 'weighted']:\n",
    "    print('\\n\\nrecall {}: {}'.format(i, recall_score(y_test, y_predict, average='micro')))"
   ]
  },
  {
   "cell_type": "markdown",
   "metadata": {},
   "source": [
    "### chb05 completed"
   ]
  },
  {
   "cell_type": "code",
   "execution_count": 20,
   "metadata": {},
   "outputs": [
    {
     "data": {
      "text/plain": [
       "44"
      ]
     },
     "execution_count": 20,
     "metadata": {},
     "output_type": "execute_result"
    }
   ],
   "source": [
    "lebaledCSVFilePath = '/home/mirwais/notebooks/paper_3/data/lebaled/chb05_time_freq_segments.csv'\n",
    "df = pd.read_csv(lebaledCSVFilePath)\n",
    "df.columns.size"
   ]
  },
  {
   "cell_type": "code",
   "execution_count": 27,
   "metadata": {},
   "outputs": [
    {
     "name": "stdout",
     "output_type": "stream",
     "text": [
      "Normal = 200468\n",
      " Seziure = 6532\n"
     ]
    }
   ],
   "source": [
    "normal, seizure = df[\"sz\"].value_counts()\n",
    "print('Normal = {}\\n Seziure = {}'.format(normal, seizure))"
   ]
  },
  {
   "cell_type": "code",
   "execution_count": 22,
   "metadata": {
    "scrolled": true
   },
   "outputs": [
    {
     "name": "stdout",
     "output_type": "stream",
     "text": [
      "Fitting 10 folds for each of 1 candidates, totalling 10 fits\n",
      "[CV] n_neighbors=5 ...................................................\n",
      "[CV] n_neighbors=5 ...................................................\n",
      "[CV] n_neighbors=5 ...................................................\n",
      "[CV] n_neighbors=5 ...................................................\n",
      "[CV] n_neighbors=5 ...................................................\n",
      "[CV] n_neighbors=5 ...................................................\n",
      "[CV] n_neighbors=5 ...................................................\n",
      "[CV] n_neighbors=5 ...................................................\n",
      "[CV] .......... n_neighbors=5, score=0.9866825272675512, total= 5.2min\n",
      "[CV] n_neighbors=5 ...................................................\n",
      "[CV] .......... n_neighbors=5, score=0.9876451638444568, total= 5.4min\n",
      "[CV] n_neighbors=5 ...................................................\n",
      "[CV] ........... n_neighbors=5, score=0.988976822831282, total= 5.3min\n",
      "[CV] .......... n_neighbors=5, score=0.9893552122560987, total= 5.3min\n"
     ]
    },
    {
     "name": "stderr",
     "output_type": "stream",
     "text": [
      "[Parallel(n_jobs=-1)]: Done   4 out of  10 | elapsed: 54.0min remaining: 80.9min\n"
     ]
    },
    {
     "name": "stdout",
     "output_type": "stream",
     "text": [
      "[CV] .......... n_neighbors=5, score=0.9883942670914855, total= 5.3min\n",
      "[CV] .......... n_neighbors=5, score=0.9884363482610312, total= 5.4min\n",
      "[CV] .......... n_neighbors=5, score=0.9874809882750357, total= 5.4min\n"
     ]
    },
    {
     "name": "stderr",
     "output_type": "stream",
     "text": [
      "[Parallel(n_jobs=-1)]: Done   7 out of  10 | elapsed: 54.2min remaining: 23.2min\n"
     ]
    },
    {
     "name": "stdout",
     "output_type": "stream",
     "text": [
      "[CV] .......... n_neighbors=5, score=0.9889678259766453, total= 5.4min\n",
      "[CV] .......... n_neighbors=5, score=0.9871279227475982, total= 3.5min\n",
      "[CV] .......... n_neighbors=5, score=0.9882949381534544, total= 3.5min\n"
     ]
    },
    {
     "name": "stderr",
     "output_type": "stream",
     "text": [
      "[Parallel(n_jobs=-1)]: Done  10 out of  10 | elapsed: 90.9min remaining:    0.0s\n",
      "[Parallel(n_jobs=-1)]: Done  10 out of  10 | elapsed: 90.9min finished\n"
     ]
    },
    {
     "data": {
      "text/plain": [
       "GridSearchCV(cv=StratifiedKFold(n_splits=10, random_state=2018, shuffle=True),\n",
       "       error_score='raise',\n",
       "       estimator=KNeighborsClassifier(algorithm='auto', leaf_size=30, metric='minkowski',\n",
       "           metric_params=None, n_jobs=1, n_neighbors=5, p=2,\n",
       "           weights='uniform'),\n",
       "       fit_params=None, iid=True, n_jobs=-1,\n",
       "       param_grid={'n_neighbors': [5]}, pre_dispatch='2*n_jobs',\n",
       "       refit=True, return_train_score='warn', scoring='f1_weighted',\n",
       "       verbose=4)"
      ]
     },
     "execution_count": 22,
     "metadata": {},
     "output_type": "execute_result"
    }
   ],
   "source": [
    "# With F1 Score\n",
    "x = df.drop(['sz','recordingID','Unnamed: 0','time','delta_data', 'theta_data', 'alpha_data', 'beta_data'], axis=1)\n",
    "#x = featuresUnstack.drop(['sz'], axis=1)\n",
    "y = df['sz']\n",
    "\n",
    "x_train, x_test, y_train, y_test = train_test_split(x, y, train_size=0.7, test_size=0.3, random_state=random_state)\n",
    "\n",
    "#dissimilar scales of data, StandardScaler should be used\n",
    "sc = StandardScaler()\n",
    "sc.fit(x_train)\n",
    "x_train_std = sc.transform(x_train)\n",
    "x_test_std = sc.transform(x_test)\n",
    "cv = StratifiedKFold(n_splits = 10, shuffle=True, random_state = random_state)\n",
    "\n",
    "clf = KNeighborsClassifier(metric='minkowski', p=2)\n",
    "\n",
    "params = {'n_neighbors': list(range(5,6))\n",
    "         } \n",
    "\n",
    "grid_sclf = GridSearchCV(estimator = clf, param_grid = params, cv = cv, n_jobs=-1, scoring='f1_weighted', verbose=4)\n",
    "grid_sclf.fit(x_train_std, y_train)"
   ]
  },
  {
   "cell_type": "code",
   "execution_count": 23,
   "metadata": {
    "scrolled": true
   },
   "outputs": [
    {
     "name": "stdout",
     "output_type": "stream",
     "text": [
      "KNeighborsClassifier(algorithm='auto', leaf_size=30, metric='minkowski',\n",
      "           metric_params=None, n_jobs=1, n_neighbors=5, p=2,\n",
      "           weights='uniform')\n",
      "{'n_neighbors': 5}\n",
      "...................................................................\n",
      "\n",
      "\n",
      "Accuracy of KNN Model: 0.9889533011272141\n",
      "\n",
      "\n",
      "                   pre       rec       spe        f1       geo       iba       sup\n",
      "\n",
      "     Normal     0.9903    0.9984    0.6928    0.9943    0.9614    0.9296     60176\n",
      "Pre-seizure     0.9335    0.6928    0.9984    0.7953    0.9614    0.9191      1924\n",
      "\n",
      "avg / total     0.9885    0.9890    0.7023    0.9882    0.9614    0.9293     62100\n",
      "\n",
      "....................................................................\n",
      "\n",
      "\n",
      "sensitivity_specificity None: (array([0.9984213 , 0.69282744]), array([0.69282744, 0.9984213 ]), array([60176,  1924]))\n",
      "sensitivity_specificity micro: (0.9889533011272141, 0.9889533011272141, None)\n",
      "sensitivity_specificity macro: (0.845624370177348, 0.845624370177348, None)\n",
      "sensitivity_specificity weighted: (0.9889533011272141, 0.702295439227482, None)\n",
      "\n",
      "\n",
      "\n",
      "gemetric mean None: [0.83170528 0.83170528]\n",
      "\n",
      "gemetric mean micro: 0.9889533011272141\n",
      "\n",
      "gemetric mean macro: 0.845624370177348\n",
      "\n",
      "gemetric mean weighted: 0.8333891005950372\n",
      "\n",
      "\n",
      "\n",
      "\n",
      "F1 None: [0.99432345 0.79534606]\n",
      "\n",
      "\n",
      "F1 micro: 0.9889533011272141\n",
      "\n",
      "\n",
      "F1 macro: 0.8948347548446032\n",
      "\n",
      "\n",
      "F1 weighted: 0.9881586732427554\n",
      "\n",
      "\n",
      "\n",
      "\n",
      "precision None: 0.9889533011272141\n",
      "\n",
      "\n",
      "precision micro: 0.9889533011272141\n",
      "\n",
      "\n",
      "precision macro: 0.9889533011272141\n",
      "\n",
      "\n",
      "precision weighted: 0.9889533011272141\n",
      "\n",
      "\n",
      "\n",
      "\n",
      "recall None: 0.9889533011272141\n",
      "\n",
      "\n",
      "recall micro: 0.9889533011272141\n",
      "\n",
      "\n",
      "recall macro: 0.9889533011272141\n",
      "\n",
      "\n",
      "recall weighted: 0.9889533011272141\n"
     ]
    },
    {
     "data": {
      "image/png": "[encoded data removed]",
      "text/plain": [
       "<Figure size 432x288 with 2 Axes>"
      ]
     },
     "metadata": {
      "needs_background": "light"
     },
     "output_type": "display_data"
    }
   ],
   "source": [
    "print(grid_sclf.best_estimator_)\n",
    "print(grid_sclf.best_params_)\n",
    "print('...................................................................\\n\\n')\n",
    "\n",
    "#Prediction\n",
    "y_predict = grid_sclf.predict(x_test_std)\n",
    "\n",
    "print('Accuracy of KNN Model: {}\\n\\n' .format((accuracy_score(y_test,y_predict))))\n",
    "\n",
    "#generate and plot confusion matrix\n",
    "dsvm_cm = confusion_matrix(y_test,y_predict)\n",
    "\n",
    "ax= sns.heatmap(dsvm_cm, annot=True, fmt=\"d\")\n",
    "ax.set_xlabel('Predicted labels')\n",
    "ax.set_ylabel('True labels')\n",
    "ax.set_title('Confusion Matrix')\n",
    "\n",
    "#Classification Report \n",
    "target_names = ['Normal', 'Pre-seizure', 'Seizure']\n",
    "\n",
    "#print(classification_report(y_test, y_predict, digits=4, target_names=target_names))\n",
    "print(classification_report_imbalanced(y_test, y_predict, target_names=target_names, digits=4))\n",
    "\n",
    "print('....................................................................\\n\\n')\n",
    "\n",
    "#micro recall, precesion, specificity\n",
    "for i in [None, 'micro', 'macro', 'weighted']:\n",
    "    print('sensitivity_specificity {}: {}'.format(i, sensitivity_specificity_support(y_test, y_predict, average=i)))\n",
    "print('\\n')\n",
    "for i in [None, 'micro', 'macro', 'weighted']:\n",
    "    print('\\ngemetric mean {}: {}'.format(i ,geometric_mean_score(y_test, y_predict, average=i)))\n",
    "print('\\n')\n",
    "for i in [None, 'micro', 'macro', 'weighted']:\n",
    "    print('\\n\\nF1 {}: {}'.format(i, f1_score(y_test, y_predict, average=i)))\n",
    "print('\\n')\n",
    "for i in [None, 'micro', 'macro', 'weighted']:\n",
    "    print('\\n\\nprecision {}: {}'.format(i,precision_score(y_test, y_predict, average='micro')))\n",
    "print('\\n')\n",
    "for i in [None, 'micro', 'macro', 'weighted']:\n",
    "    print('\\n\\nrecall {}: {}'.format(i, recall_score(y_test, y_predict, average='micro')))"
   ]
  },
  {
   "cell_type": "code",
   "execution_count": 29,
   "metadata": {},
   "outputs": [
    {
     "name": "stdout",
     "output_type": "stream",
     "text": [
      "Resampled dataset shape Counter({0: 200468, 2: 60140})\n"
     ]
    }
   ],
   "source": [
    "# Over-sampling using SMOTE\n",
    "from collections import Counter\n",
    "from imblearn.over_sampling import SMOTE \n",
    "\n",
    "x = df.drop(['sz','recordingID','Unnamed: 0','time','delta_data', 'theta_data', 'alpha_data', 'beta_data'], axis=1)\n",
    "#x = featuresUnstack.drop(['sz'], axis=1)\n",
    "y = df['sz']\n",
    "\n",
    "upsampling_rate = (normal*30)/100\n",
    "\n",
    "sm = SMOTE(random_state=42,ratio={2:int(upsampling_rate)})\n",
    "x_res, y_res = sm.fit_sample(x, y)\n",
    "\n",
    "print('Resampled dataset shape {}'.format(Counter(y_res)))"
   ]
  },
  {
   "cell_type": "code",
   "execution_count": 30,
   "metadata": {
    "scrolled": true
   },
   "outputs": [
    {
     "name": "stdout",
     "output_type": "stream",
     "text": [
      "Fitting 10 folds for each of 1 candidates, totalling 10 fits\n",
      "[CV] n_neighbors=5 ...................................................\n",
      "[CV] n_neighbors=5 ...................................................\n",
      "[CV] n_neighbors=5 ...................................................\n",
      "[CV] n_neighbors=5 ...................................................\n",
      "[CV] n_neighbors=5 ...................................................\n",
      "[CV] n_neighbors=5 ...................................................\n",
      "[CV] n_neighbors=5 ...................................................\n",
      "[CV] n_neighbors=5 ...................................................\n",
      "[CV] .......... n_neighbors=5, score=0.9766372024728038, total= 5.0min\n",
      "[CV] n_neighbors=5 ...................................................\n",
      "[CV] .......... n_neighbors=5, score=0.9729079493413829, total= 5.1min\n",
      "[CV] n_neighbors=5 ...................................................\n",
      "[CV] .......... n_neighbors=5, score=0.9762694446938202, total= 5.3min\n",
      "[CV] .......... n_neighbors=5, score=0.9749027095632038, total= 5.2min\n"
     ]
    },
    {
     "name": "stderr",
     "output_type": "stream",
     "text": [
      "[Parallel(n_jobs=-1)]: Done   4 out of  10 | elapsed: 52.2min remaining: 78.2min\n"
     ]
    },
    {
     "name": "stdout",
     "output_type": "stream",
     "text": [
      "[CV] .......... n_neighbors=5, score=0.9740095858980331, total= 5.3min\n",
      "[CV] .......... n_neighbors=5, score=0.9743034164965878, total= 5.3min\n",
      "[CV] .......... n_neighbors=5, score=0.9735312052492353, total= 5.3min\n"
     ]
    },
    {
     "name": "stderr",
     "output_type": "stream",
     "text": [
      "[Parallel(n_jobs=-1)]: Done   7 out of  10 | elapsed: 52.3min remaining: 22.4min\n"
     ]
    },
    {
     "name": "stdout",
     "output_type": "stream",
     "text": [
      "[CV] .......... n_neighbors=5, score=0.9728963726072927, total= 5.2min\n",
      "[CV] .......... n_neighbors=5, score=0.9751349991278607, total= 4.7min\n",
      "[CV] .......... n_neighbors=5, score=0.9751066788216662, total= 4.3min\n"
     ]
    },
    {
     "name": "stderr",
     "output_type": "stream",
     "text": [
      "[Parallel(n_jobs=-1)]: Done  10 out of  10 | elapsed: 89.5min remaining:    0.0s\n",
      "[Parallel(n_jobs=-1)]: Done  10 out of  10 | elapsed: 89.5min finished\n"
     ]
    },
    {
     "data": {
      "text/plain": [
       "GridSearchCV(cv=StratifiedKFold(n_splits=10, random_state=2018, shuffle=True),\n",
       "       error_score='raise',\n",
       "       estimator=KNeighborsClassifier(algorithm='auto', leaf_size=30, metric='minkowski',\n",
       "           metric_params=None, n_jobs=1, n_neighbors=5, p=2,\n",
       "           weights='uniform'),\n",
       "       fit_params=None, iid=True, n_jobs=-1,\n",
       "       param_grid={'n_neighbors': [5]}, pre_dispatch='2*n_jobs',\n",
       "       refit=True, return_train_score='warn', scoring='f1_weighted',\n",
       "       verbose=4)"
      ]
     },
     "execution_count": 30,
     "metadata": {},
     "output_type": "execute_result"
    }
   ],
   "source": [
    "x_train, x_test, y_train, y_test = train_test_split(x_res, y_res, train_size=0.7, test_size=0.3, random_state=random_state)\n",
    "\n",
    "#dissimilar scales of data, StandardScaler should be used\n",
    "sc = StandardScaler()\n",
    "sc.fit(x_train)\n",
    "x_train_std = sc.transform(x_train)\n",
    "x_test_std = sc.transform(x_test)\n",
    "cv = StratifiedKFold(n_splits = 10, shuffle=True, random_state = random_state)\n",
    "\n",
    "clf = KNeighborsClassifier(metric='minkowski', p=2)\n",
    "\n",
    "params = {'n_neighbors': list(range(5,6))\n",
    "         } \n",
    "\n",
    "grid_sclf = GridSearchCV(estimator = clf, param_grid = params, cv = cv, n_jobs=-1, scoring='f1_weighted', verbose=4)\n",
    "grid_sclf.fit(x_train_std, y_train)"
   ]
  },
  {
   "cell_type": "code",
   "execution_count": 31,
   "metadata": {},
   "outputs": [
    {
     "name": "stdout",
     "output_type": "stream",
     "text": [
      "KNeighborsClassifier(algorithm='auto', leaf_size=30, metric='minkowski',\n",
      "           metric_params=None, n_jobs=1, n_neighbors=5, p=2,\n",
      "           weights='uniform')\n",
      "{'n_neighbors': 5}\n",
      "...................................................................\n",
      "\n",
      "\n",
      "Accuracy of KNN Model: 0.9763247764859369\n",
      "\n",
      "\n",
      "                   pre       rec       spe        f1       geo       iba       sup\n",
      "\n",
      "     Normal     0.9951    0.9740    0.9841    0.9844    0.9565    0.9218     60072\n",
      "    Seizure     0.9194    0.9841    0.9740    0.9506    0.9565    0.9079     18111\n",
      "\n",
      "avg / total     0.9776    0.9763    0.9818    0.9766    0.9565    0.9186     78183\n",
      "\n",
      "....................................................................\n",
      "\n",
      "\n",
      "sensitivity_specificity None: (array([0.97398122, 0.98409806]), array([0.98409806, 0.97398122]), array([60072, 18111]))\n",
      "sensitivity_specificity micro: (0.9763247764859369, 0.9763247764859369, None)\n",
      "sensitivity_specificity macro: (0.9790396422421304, 0.9790396422421304, None)\n",
      "sensitivity_specificity weighted: (0.9763247764859369, 0.9817545079983239, None)\n",
      "\n",
      "\n",
      "\n",
      "gemetric mean None: [0.97902657 0.97902657]\n",
      "\n",
      "gemetric mean micro: 0.9763247764859369\n",
      "\n",
      "gemetric mean macro: 0.9790396422421304\n",
      "\n",
      "gemetric mean weighted: 0.9790358780890128\n",
      "\n",
      "\n",
      "\n",
      "\n",
      "F1 None: [0.98442824 0.95063605]\n",
      "\n",
      "\n",
      "F1 micro: 0.9763247764859369\n",
      "\n",
      "\n",
      "F1 macro: 0.9675321435047768\n",
      "\n",
      "\n",
      "F1 weighted: 0.976600316156855\n",
      "\n",
      "\n",
      "\n",
      "\n",
      "precision None: 0.9763247764859369\n",
      "\n",
      "\n",
      "precision micro: 0.9763247764859369\n",
      "\n",
      "\n",
      "precision macro: 0.9763247764859369\n",
      "\n",
      "\n",
      "precision weighted: 0.9763247764859369\n",
      "\n",
      "\n",
      "\n",
      "\n",
      "recall None: 0.9763247764859369\n",
      "\n",
      "\n",
      "recall micro: 0.9763247764859369\n",
      "\n",
      "\n",
      "recall macro: 0.9763247764859369\n",
      "\n",
      "\n",
      "recall weighted: 0.9763247764859369\n"
     ]
    },
    {
     "data": {
      "image/png": "[encoded data removed]",
      "text/plain": [
       "<Figure size 432x288 with 2 Axes>"
      ]
     },
     "metadata": {
      "needs_background": "light"
     },
     "output_type": "display_data"
    }
   ],
   "source": [
    "print(grid_sclf.best_estimator_)\n",
    "print(grid_sclf.best_params_)\n",
    "print('...................................................................\\n\\n')\n",
    "\n",
    "#Prediction\n",
    "y_predict = grid_sclf.predict(x_test_std)\n",
    "\n",
    "print('Accuracy of KNN Model: {}\\n\\n' .format((accuracy_score(y_test,y_predict))))\n",
    "\n",
    "#generate and plot confusion matrix\n",
    "dsvm_cm = confusion_matrix(y_test,y_predict)\n",
    "\n",
    "ax= sns.heatmap(dsvm_cm, annot=True, fmt=\"d\")\n",
    "ax.set_xlabel('Predicted labels')\n",
    "ax.set_ylabel('True labels')\n",
    "ax.set_title('Confusion Matrix')\n",
    "\n",
    "#Classification Report \n",
    "target_names = ['Normal', 'Seizure']\n",
    "\n",
    "#print(classification_report(y_test, y_predict, digits=4, target_names=target_names))\n",
    "print(classification_report_imbalanced(y_test, y_predict, target_names=target_names, digits=4))\n",
    "\n",
    "print('....................................................................\\n\\n')\n",
    "\n",
    "#micro recall, precesion, specificity\n",
    "for i in [None, 'micro', 'macro', 'weighted']:\n",
    "    print('sensitivity_specificity {}: {}'.format(i, sensitivity_specificity_support(y_test, y_predict, average=i)))\n",
    "print('\\n')\n",
    "for i in [None, 'micro', 'macro', 'weighted']:\n",
    "    print('\\ngemetric mean {}: {}'.format(i ,geometric_mean_score(y_test, y_predict, average=i)))\n",
    "print('\\n')\n",
    "for i in [None, 'micro', 'macro', 'weighted']:\n",
    "    print('\\n\\nF1 {}: {}'.format(i, f1_score(y_test, y_predict, average=i)))\n",
    "print('\\n')\n",
    "for i in [None, 'micro', 'macro', 'weighted']:\n",
    "    print('\\n\\nprecision {}: {}'.format(i,precision_score(y_test, y_predict, average='micro')))\n",
    "print('\\n')\n",
    "for i in [None, 'micro', 'macro', 'weighted']:\n",
    "    print('\\n\\nrecall {}: {}'.format(i, recall_score(y_test, y_predict, average='micro')))"
   ]
  },
  {
   "cell_type": "code",
   "execution_count": 3,
   "metadata": {},
   "outputs": [
    {
     "data": {
      "text/plain": [
       "44"
      ]
     },
     "execution_count": 3,
     "metadata": {},
     "output_type": "execute_result"
    }
   ],
   "source": [
    "#Only single channels data T8-P8\n",
    "lebaledCSVFilePath = '/home/mirwais/notebooks/paper_3/data/single_channel/lebaled/chb01_time_freq_segments.csv'\n",
    "df = pd.read_csv(lebaledCSVFilePath)\n",
    "df.columns.size"
   ]
  },
  {
   "cell_type": "code",
   "execution_count": 4,
   "metadata": {},
   "outputs": [
    {
     "name": "stdout",
     "output_type": "stream",
     "text": [
      "Normal = 12371\n",
      " Seziure = 229\n"
     ]
    }
   ],
   "source": [
    "normal, seizure = df[\"sz\"].value_counts()\n",
    "print('Normal = {}\\n Seziure = {}'.format(normal, seizure))"
   ]
  },
  {
   "cell_type": "code",
   "execution_count": 24,
   "metadata": {},
   "outputs": [
    {
     "name": "stdout",
     "output_type": "stream",
     "text": [
      "Resampled dataset shape Counter({0: 12371, 2: 6185})\n"
     ]
    }
   ],
   "source": [
    "# Over-sampling using SMOTE\n",
    "from collections import Counter\n",
    "from imblearn.over_sampling import SMOTE \n",
    "\n",
    "x = df.drop(['sz','recordingID','Unnamed: 0','time','delta_data', 'theta_data', 'alpha_data', 'beta_data'], axis=1)\n",
    "#x = featuresUnstack.drop(['sz'], axis=1)\n",
    "y = df['sz']\n",
    "\n",
    "upsampling_rate = (normal*50)/100\n",
    "\n",
    "sm = SMOTE(random_state=42,ratio={2:int(upsampling_rate)})\n",
    "x_res, y_res = sm.fit_sample(x, y)\n",
    "\n",
    "print('Resampled dataset shape {}'.format(Counter(y_res)))"
   ]
  },
  {
   "cell_type": "code",
   "execution_count": 25,
   "metadata": {
    "scrolled": true
   },
   "outputs": [
    {
     "name": "stdout",
     "output_type": "stream",
     "text": [
      "Fitting 10 folds for each of 1 candidates, totalling 10 fits\n",
      "[CV] n_neighbors=2 ...................................................\n",
      "[CV] n_neighbors=2 ...................................................\n",
      "[CV] n_neighbors=2 ...................................................\n",
      "[CV] n_neighbors=2 ...................................................\n",
      "[CV] n_neighbors=2 ...................................................\n",
      "[CV] n_neighbors=2 ...................................................\n",
      "[CV] n_neighbors=2 ...................................................\n",
      "[CV] n_neighbors=2 ...................................................\n",
      "[CV] .......... n_neighbors=2, score=0.9808731693765155, total=   1.6s\n",
      "[CV] n_neighbors=2 ...................................................\n",
      "[CV] .......... n_neighbors=2, score=0.9785939521271861, total=   1.4s\n",
      "[CV] n_neighbors=2 ...................................................\n",
      "[CV] .......... n_neighbors=2, score=0.9695070666053102, total=   1.5s\n",
      "[CV] .......... n_neighbors=2, score=0.9717744791099777, total=   1.6s\n",
      "[CV] .......... n_neighbors=2, score=0.9748140632656526, total=   1.5s\n"
     ]
    },
    {
     "name": "stderr",
     "output_type": "stream",
     "text": [
      "[Parallel(n_jobs=-1)]: Done   4 out of  10 | elapsed:   13.3s remaining:   20.0s\n"
     ]
    },
    {
     "name": "stdout",
     "output_type": "stream",
     "text": [
      "[CV] ............ n_neighbors=2, score=0.97101836730408, total=   1.6s\n",
      "[CV] .......... n_neighbors=2, score=0.9687884467530515, total=   1.6s\n"
     ]
    },
    {
     "name": "stderr",
     "output_type": "stream",
     "text": [
      "[Parallel(n_jobs=-1)]: Done   7 out of  10 | elapsed:   13.8s remaining:    5.9s\n"
     ]
    },
    {
     "name": "stdout",
     "output_type": "stream",
     "text": [
      "[CV] .......... n_neighbors=2, score=0.9717875609844068, total=   1.7s\n",
      "[CV] .......... n_neighbors=2, score=0.9717654572620261, total=   1.0s\n",
      "[CV] .......... n_neighbors=2, score=0.9755523899048043, total=   1.4s\n"
     ]
    },
    {
     "name": "stderr",
     "output_type": "stream",
     "text": [
      "[Parallel(n_jobs=-1)]: Done  10 out of  10 | elapsed:   20.0s remaining:    0.0s\n",
      "[Parallel(n_jobs=-1)]: Done  10 out of  10 | elapsed:   20.0s finished\n"
     ]
    },
    {
     "data": {
      "text/plain": [
       "GridSearchCV(cv=StratifiedKFold(n_splits=10, random_state=2018, shuffle=True),\n",
       "       error_score='raise',\n",
       "       estimator=KNeighborsClassifier(algorithm='auto', leaf_size=30, metric='minkowski',\n",
       "           metric_params=None, n_jobs=1, n_neighbors=5, p=2,\n",
       "           weights='uniform'),\n",
       "       fit_params=None, iid=True, n_jobs=-1,\n",
       "       param_grid={'n_neighbors': [2]}, pre_dispatch='2*n_jobs',\n",
       "       refit=True, return_train_score='warn', scoring='f1_weighted',\n",
       "       verbose=4)"
      ]
     },
     "execution_count": 25,
     "metadata": {},
     "output_type": "execute_result"
    }
   ],
   "source": [
    "x_train, x_test, y_train, y_test = train_test_split(x_res, y_res, train_size=0.7, test_size=0.3, random_state=random_state)\n",
    "\n",
    "#dissimilar scales of data, StandardScaler should be used\n",
    "sc = StandardScaler()\n",
    "sc.fit(x_train)\n",
    "x_train_std = sc.transform(x_train)\n",
    "x_test_std = sc.transform(x_test)\n",
    "cv = StratifiedKFold(n_splits = 10, shuffle=True, random_state = random_state)\n",
    "\n",
    "clf = KNeighborsClassifier(metric='minkowski', p=2)\n",
    "\n",
    "params = {'n_neighbors': list(range(2,3))\n",
    "         }\n",
    "\n",
    "grid_sclf = GridSearchCV(estimator = clf, param_grid = params, cv = cv, n_jobs=-1, scoring='f1_weighted', verbose=4)\n",
    "grid_sclf.fit(x_train_std, y_train)"
   ]
  },
  {
   "cell_type": "code",
   "execution_count": 26,
   "metadata": {},
   "outputs": [
    {
     "name": "stdout",
     "output_type": "stream",
     "text": [
      "KNeighborsClassifier(algorithm='auto', leaf_size=30, metric='minkowski',\n",
      "           metric_params=None, n_jobs=1, n_neighbors=2, p=2,\n",
      "           weights='uniform')\n",
      "{'n_neighbors': 2}\n",
      "...................................................................\n",
      "\n",
      "\n",
      "Accuracy of KNN Model: 0.9759295850547871\n",
      "\n",
      "\n",
      "                   pre       rec       spe        f1       geo       iba       sup\n",
      "\n",
      "     Normal     0.9997    0.9643    0.9995    0.9817    0.9656    0.9387      3723\n",
      "    Seizure     0.9327    0.9995    0.9643    0.9649    0.9656    0.9262      1844\n",
      "\n",
      "avg / total     0.9775    0.9759    0.9878    0.9761    0.9656    0.9345      5567\n",
      "\n",
      "....................................................................\n",
      "\n",
      "\n",
      "sensitivity_specificity None: (array([0.96427612, 0.9994577 ]), array([0.9994577 , 0.96427612]), array([3723, 1844]))\n",
      "sensitivity_specificity micro: (0.9759295850547871, 0.9759295850547871, None)\n",
      "sensitivity_specificity macro: (0.9818669110291132, 0.9818669110291132, None)\n",
      "sensitivity_specificity weighted: (0.9759295850547871, 0.9878042370034391, None)\n",
      "\n",
      "\n",
      "\n",
      "gemetric mean None: [0.98170932 0.98170932]\n",
      "\n",
      "gemetric mean micro: 0.9759295850547871\n",
      "\n",
      "gemetric mean macro: 0.9818669110291132\n",
      "\n",
      "gemetric mean weighted: 0.9818489594301798\n",
      "\n",
      "\n",
      "\n",
      "\n",
      "F1 None: [0.98167897 0.96492147]\n",
      "\n",
      "\n",
      "F1 micro: 0.9759295850547871\n",
      "\n",
      "\n",
      "F1 macro: 0.9733002189017118\n",
      "\n",
      "\n",
      "F1 weighted: 0.9761282549644641\n",
      "\n",
      "\n",
      "\n",
      "\n",
      "precision None: 0.9759295850547871\n",
      "\n",
      "\n",
      "precision micro: 0.9759295850547871\n",
      "\n",
      "\n",
      "precision macro: 0.9759295850547871\n",
      "\n",
      "\n",
      "precision weighted: 0.9759295850547871\n",
      "\n",
      "\n",
      "\n",
      "\n",
      "recall None: 0.9759295850547871\n",
      "\n",
      "\n",
      "recall micro: 0.9759295850547871\n",
      "\n",
      "\n",
      "recall macro: 0.9759295850547871\n",
      "\n",
      "\n",
      "recall weighted: 0.9759295850547871\n"
     ]
    },
    {
     "data": {
      "image/png": "[encoded data removed]",
      "text/plain": [
       "<Figure size 432x288 with 2 Axes>"
      ]
     },
     "metadata": {
      "needs_background": "light"
     },
     "output_type": "display_data"
    }
   ],
   "source": [
    "print(grid_sclf.best_estimator_)\n",
    "print(grid_sclf.best_params_)\n",
    "print('...................................................................\\n\\n')\n",
    "\n",
    "#Prediction\n",
    "y_predict = grid_sclf.predict(x_test_std)\n",
    "\n",
    "print('Accuracy of KNN Model: {}\\n\\n' .format((accuracy_score(y_test,y_predict))))\n",
    "\n",
    "#generate and plot confusion matrix\n",
    "dsvm_cm = confusion_matrix(y_test,y_predict)\n",
    "\n",
    "ax= sns.heatmap(dsvm_cm, annot=True, fmt=\"d\")\n",
    "ax.set_xlabel('Predicted labels')\n",
    "ax.set_ylabel('True labels')\n",
    "ax.set_title('Confusion Matrix')\n",
    "\n",
    "#Classification Report \n",
    "target_names = ['Normal', 'Seizure']\n",
    "\n",
    "#print(classification_report(y_test, y_predict, digits=4, target_names=target_names))\n",
    "print(classification_report_imbalanced(y_test, y_predict, target_names=target_names, digits=4))\n",
    "\n",
    "print('....................................................................\\n\\n')\n",
    "\n",
    "#micro recall, precesion, specificity\n",
    "for i in [None, 'micro', 'macro', 'weighted']:\n",
    "    print('sensitivity_specificity {}: {}'.format(i, sensitivity_specificity_support(y_test, y_predict, average=i)))\n",
    "print('\\n')\n",
    "for i in [None, 'micro', 'macro', 'weighted']:\n",
    "    print('\\ngemetric mean {}: {}'.format(i ,geometric_mean_score(y_test, y_predict, average=i)))\n",
    "print('\\n')\n",
    "for i in [None, 'micro', 'macro', 'weighted']:\n",
    "    print('\\n\\nF1 {}: {}'.format(i, f1_score(y_test, y_predict, average=i)))\n",
    "print('\\n')\n",
    "for i in [None, 'micro', 'macro', 'weighted']:\n",
    "    print('\\n\\nprecision {}: {}'.format(i,precision_score(y_test, y_predict, average='micro')))\n",
    "print('\\n')\n",
    "for i in [None, 'micro', 'macro', 'weighted']:\n",
    "    print('\\n\\nrecall {}: {}'.format(i, recall_score(y_test, y_predict, average='micro')))"
   ]
  },
  {
   "cell_type": "code",
   "execution_count": null,
   "metadata": {},
   "outputs": [],
   "source": []
  }
 ],
 "metadata": {
  "kernelspec": {
   "display_name": "Python 3",
   "language": "python",
   "name": "python3"
  },
  "language_info": {
   "codemirror_mode": {
    "name": "ipython",
    "version": 3
   },
   "file_extension": ".py",
   "mimetype": "text/x-python",
   "name": "python",
   "nbconvert_exporter": "python",
   "pygments_lexer": "ipython3",
   "version": "3.6.8"
  }
 },
 "nbformat": 4,
 "nbformat_minor": 2
}
