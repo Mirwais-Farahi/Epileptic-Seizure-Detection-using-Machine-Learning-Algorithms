{
 "cells": [
  {
   "cell_type": "markdown",
   "metadata": {},
   "source": [
    "## Epileptic Seizure multiclass (Normal, Pre-Seizure, & Seizure States ) Classification \n",
    "### ExtraTreesClassifier"
   ]
  },
  {
   "cell_type": "code",
   "execution_count": 7,
   "metadata": {},
   "outputs": [
    {
     "data": {
      "text/plain": [
       "<Figure size 432x288 with 0 Axes>"
      ]
     },
     "metadata": {},
     "output_type": "display_data"
    }
   ],
   "source": [
    "import numpy as np\n",
    "import pandas as pd\n",
    "import random\n",
    "import csv\n",
    "\n",
    "import matplotlib.pylab as plt\n",
    "import seaborn as sns\n",
    "sns.despine()\n",
    "\n",
    "from sklearn.model_selection import StratifiedKFold, train_test_split, RandomizedSearchCV, cross_val_score, \\\n",
    "                                    cross_validate, GridSearchCV\n",
    "\n",
    "from sklearn.metrics import make_scorer\n",
    "from imblearn.metrics import specificity_score, classification_report_imbalanced, \\\n",
    "                                sensitivity_specificity_support, sensitivity_score, \\\n",
    "                                geometric_mean_score\n",
    "\n",
    "from sklearn.preprocessing import StandardScaler\n",
    "from sklearn.metrics import f1_score, confusion_matrix, roc_curve, auc, \\\n",
    "            classification_report, recall_score, precision_recall_curve, roc_auc_score, \\\n",
    "            precision_score, accuracy_score\n",
    "\n",
    "from sklearn.ensemble import ExtraTreesClassifier\n",
    "\n",
    "# Define random state\n",
    "random_state = 2018\n",
    "np.random.seed(random_state)"
   ]
  },
  {
   "cell_type": "markdown",
   "metadata": {},
   "source": [
    "### 1. chb01 Completed"
   ]
  },
  {
   "cell_type": "code",
   "execution_count": 2,
   "metadata": {},
   "outputs": [
    {
     "data": {
      "text/plain": [
       "44"
      ]
     },
     "execution_count": 2,
     "metadata": {},
     "output_type": "execute_result"
    }
   ],
   "source": [
    "lebaledCSVFilePath = '/home/mirwais/notebooks/paper_3/data/lebaled/chb01_time_freq_segments.csv'\n",
    "df = pd.read_csv(lebaledCSVFilePath)\n",
    "df.columns.size"
   ]
  },
  {
   "cell_type": "code",
   "execution_count": 3,
   "metadata": {},
   "outputs": [
    {
     "data": {
      "text/plain": [
       "0    284533\n",
       "2      5267\n",
       "Name: sz, dtype: int64"
      ]
     },
     "execution_count": 3,
     "metadata": {},
     "output_type": "execute_result"
    }
   ],
   "source": [
    "df[\"sz\"].value_counts()"
   ]
  },
  {
   "cell_type": "code",
   "execution_count": 4,
   "metadata": {
    "scrolled": true
   },
   "outputs": [
    {
     "name": "stdout",
     "output_type": "stream",
     "text": [
      "Fitting 10 folds for each of 8 candidates, totalling 80 fits\n",
      "[CV] n_estimators=60 .................................................\n",
      "[CV] n_estimators=60 .................................................\n",
      "[CV] n_estimators=60 .................................................\n",
      "[CV] n_estimators=60 .................................................\n",
      "[CV] n_estimators=60 .................................................\n",
      "[CV] n_estimators=60 .................................................\n",
      "[CV] n_estimators=60 .................................................\n",
      "[CV] n_estimators=60 .................................................\n",
      "[CV] ........ n_estimators=60, score=0.9827778492264831, total= 1.2min\n",
      "[CV] n_estimators=60 .................................................\n",
      "[CV] ......... n_estimators=60, score=0.983796050364335, total= 1.2min\n",
      "[CV] n_estimators=60 .................................................\n",
      "[CV] ........ n_estimators=60, score=0.9845283754668707, total= 1.2min\n",
      "[CV] n_estimators=70 .................................................\n",
      "[CV] ........ n_estimators=60, score=0.9847593381465513, total= 1.2min\n",
      "[CV] n_estimators=70 .................................................\n",
      "[CV] ........ n_estimators=60, score=0.9842875670799743, total= 1.3min\n",
      "[CV] n_estimators=70 .................................................\n",
      "[CV] ........ n_estimators=60, score=0.9838243192280459, total= 1.3min\n",
      "[CV] n_estimators=70 .................................................\n",
      "[CV] ......... n_estimators=60, score=0.982940147455072, total= 1.3min\n",
      "[CV] n_estimators=70 .................................................\n",
      "[CV] ........ n_estimators=60, score=0.9849974734880113, total= 1.3min\n",
      "[CV] n_estimators=70 .................................................\n",
      "[CV] ........ n_estimators=60, score=0.9824460015677393, total= 1.2min\n",
      "[CV] n_estimators=70 .................................................\n"
     ]
    },
    {
     "name": "stderr",
     "output_type": "stream",
     "text": [
      "[Parallel(n_jobs=-1)]: Done   9 tasks      | elapsed:  2.8min\n"
     ]
    },
    {
     "name": "stdout",
     "output_type": "stream",
     "text": [
      "[CV] ........ n_estimators=60, score=0.9846395150077415, total= 1.3min\n",
      "[CV] n_estimators=70 .................................................\n",
      "[CV] ........ n_estimators=70, score=0.9845668647476987, total= 1.4min\n",
      "[CV] n_estimators=70 .................................................\n",
      "[CV] ........ n_estimators=70, score=0.9841629322428783, total= 1.5min\n",
      "[CV] n_estimators=70 .................................................\n",
      "[CV] ........ n_estimators=70, score=0.9835385511267727, total= 1.4min\n",
      "[CV] n_estimators=80 .................................................\n",
      "[CV] ........ n_estimators=70, score=0.9826550678719577, total= 1.5min\n",
      "[CV] n_estimators=80 .................................................\n",
      "[CV] ........ n_estimators=70, score=0.9846552167214033, total= 1.5min\n",
      "[CV] n_estimators=80 .................................................\n",
      "[CV] ........ n_estimators=70, score=0.9846901964270357, total= 1.5min\n",
      "[CV] n_estimators=80 .................................................\n",
      "[CV] ........ n_estimators=70, score=0.9834235314704234, total= 1.5min\n",
      "[CV] n_estimators=80 .................................................\n",
      "[CV] ........ n_estimators=70, score=0.9851593606679603, total= 1.4min\n",
      "[CV] n_estimators=80 .................................................\n",
      "[CV] ........ n_estimators=70, score=0.9825691875216501, total= 1.5min\n",
      "[CV] n_estimators=80 .................................................\n",
      "[CV] ......... n_estimators=70, score=0.984920215166522, total= 1.4min\n",
      "[CV] n_estimators=80 .................................................\n",
      "[CV] ........ n_estimators=80, score=0.9835797187116697, total= 1.7min\n",
      "[CV] n_estimators=80 .................................................\n",
      "[CV] ........ n_estimators=80, score=0.9844133561737904, total= 1.8min\n",
      "[CV] n_estimators=80 .................................................\n",
      "[CV] ........ n_estimators=80, score=0.9836759504606736, total= 1.7min\n",
      "[CV] n_estimators=90 .................................................\n",
      "[CV] ........ n_estimators=80, score=0.9826964352758587, total= 1.7min\n",
      "[CV] n_estimators=90 .................................................\n",
      "[CV] ........ n_estimators=80, score=0.9848017549009234, total= 1.7min\n",
      "[CV] n_estimators=90 .................................................\n",
      "[CV] ........ n_estimators=80, score=0.9848523572934204, total= 1.8min\n",
      "[CV] n_estimators=90 .................................................\n",
      "[CV] ........ n_estimators=80, score=0.9834668716491722, total= 1.7min\n",
      "[CV] n_estimators=90 .................................................\n",
      "[CV] ........ n_estimators=80, score=0.9850490199482771, total= 1.8min\n",
      "[CV] n_estimators=90 .................................................\n",
      "[CV] ........ n_estimators=80, score=0.9824460015677393, total= 1.7min\n",
      "[CV] n_estimators=90 .................................................\n",
      "[CV] ........ n_estimators=80, score=0.9847665702733758, total= 1.7min\n",
      "[CV] n_estimators=90 .................................................\n",
      "[CV] ........ n_estimators=90, score=0.9836241750894469, total= 1.9min\n",
      "[CV] n_estimators=90 .................................................\n",
      "[CV] ........ n_estimators=90, score=0.9842590431783504, total= 2.0min\n",
      "[CV] n_estimators=90 .................................................\n",
      "[CV] ........ n_estimators=90, score=0.9837592798708226, total= 2.0min\n",
      "[CV] n_estimators=100 ................................................\n",
      "[CV] ........ n_estimators=90, score=0.9828185735998127, total= 2.0min\n",
      "[CV] n_estimators=100 ................................................\n",
      "[CV] ......... n_estimators=90, score=0.985006263483338, total= 1.9min\n",
      "[CV] n_estimators=100 ................................................\n",
      "[CV] ........ n_estimators=90, score=0.9848867914792213, total= 2.0min\n",
      "[CV] n_estimators=100 ................................................\n",
      "[CV] ........ n_estimators=90, score=0.9831838596342851, total= 2.0min\n",
      "[CV] n_estimators=100 ................................................\n",
      "[CV] ......... n_estimators=90, score=0.985192724315678, total= 2.0min\n",
      "[CV] n_estimators=100 ................................................\n",
      "[CV] ........ n_estimators=90, score=0.9828582448788837, total= 1.9min\n",
      "[CV] n_estimators=100 ................................................\n",
      "[CV] ........ n_estimators=90, score=0.9848776620618851, total= 2.0min\n",
      "[CV] n_estimators=100 ................................................\n",
      "[CV] ....... n_estimators=100, score=0.9847703022156121, total= 2.1min\n",
      "[CV] n_estimators=100 ................................................\n",
      "[CV] ....... n_estimators=100, score=0.9835385511267727, total= 2.2min\n",
      "[CV] n_estimators=100 ................................................\n",
      "[CV] ....... n_estimators=100, score=0.9835962096043794, total= 2.2min\n",
      "[CV] n_estimators=120 ................................................\n",
      "[CV] ....... n_estimators=100, score=0.9830207337627122, total= 2.2min\n",
      "[CV] n_estimators=120 ................................................\n",
      "[CV] ....... n_estimators=100, score=0.9849635759106686, total= 2.1min\n",
      "[CV] n_estimators=120 ................................................\n",
      "[CV] ........ n_estimators=100, score=0.985006263483338, total= 2.2min\n",
      "[CV] n_estimators=120 ................................................\n",
      "[CV] ....... n_estimators=100, score=0.9833057157238918, total= 2.1min\n",
      "[CV] n_estimators=120 ................................................\n",
      "[CV] ....... n_estimators=100, score=0.9848867914792213, total= 2.3min\n",
      "[CV] n_estimators=120 ................................................\n",
      "[CV] ....... n_estimators=100, score=0.9827344917055638, total= 2.1min\n",
      "[CV] n_estimators=120 ................................................\n",
      "[CV] ....... n_estimators=100, score=0.9845972970590899, total= 2.1min\n",
      "[CV] n_estimators=120 ................................................\n",
      "[CV] ....... n_estimators=120, score=0.9847279083553222, total= 2.7min\n",
      "[CV] n_estimators=120 ................................................\n",
      "[CV] ....... n_estimators=120, score=0.9834210976887094, total= 2.7min\n",
      "[CV] n_estimators=120 ................................................\n",
      "[CV] ....... n_estimators=120, score=0.9834728728344874, total= 2.6min\n",
      "[CV] n_estimators=140 ................................................\n",
      "[CV] ....... n_estimators=120, score=0.9849294121078632, total= 2.5min\n",
      "[CV] n_estimators=140 ................................................\n",
      "[CV] ....... n_estimators=120, score=0.9831407559038954, total= 2.6min\n",
      "[CV] n_estimators=140 ................................................\n",
      "[CV] ....... n_estimators=120, score=0.9850829126097902, total= 2.6min\n",
      "[CV] n_estimators=140 ................................................\n",
      "[CV] ....... n_estimators=120, score=0.9835445275910772, total= 2.6min\n",
      "[CV] n_estimators=140 ................................................\n",
      "[CV] ....... n_estimators=120, score=0.9853116582569175, total= 2.6min\n",
      "[CV] n_estimators=140 ................................................\n",
      "[CV] ....... n_estimators=120, score=0.9822794418189368, total= 2.6min\n",
      "[CV] n_estimators=140 ................................................\n",
      "[CV] ....... n_estimators=120, score=0.9849967355889568, total= 2.6min\n",
      "[CV] n_estimators=140 ................................................\n",
      "[CV] ....... n_estimators=140, score=0.9837000138126832, total= 2.9min\n",
      "[CV] n_estimators=140 ................................................\n",
      "[CV] ....... n_estimators=140, score=0.9848892842295526, total= 3.0min\n",
      "[CV] n_estimators=140 ................................................\n",
      "[CV] ....... n_estimators=140, score=0.9838823156293771, total= 3.0min\n",
      "[CV] n_estimators=160 ................................................\n",
      "[CV] ....... n_estimators=140, score=0.9832596474205558, total= 3.0min\n",
      "[CV] n_estimators=160 ................................................\n",
      "[CV] ........ n_estimators=140, score=0.984844239211547, total= 2.9min\n",
      "[CV] n_estimators=160 ................................................\n",
      "[CV] ........ n_estimators=140, score=0.984920956823269, total= 3.0min\n",
      "[CV] n_estimators=160 ................................................\n",
      "[CV] ....... n_estimators=140, score=0.9837036051924344, total= 3.0min\n",
      "[CV] n_estimators=160 ................................................\n"
     ]
    },
    {
     "name": "stdout",
     "output_type": "stream",
     "text": [
      "[CV] ........ n_estimators=140, score=0.985192724315678, total= 3.1min\n",
      "[CV] n_estimators=160 ................................................\n",
      "[CV] ....... n_estimators=140, score=0.9826116055255321, total= 2.9min\n",
      "[CV] n_estimators=160 ................................................\n",
      "[CV] ....... n_estimators=140, score=0.9850303716550819, total= 3.0min\n",
      "[CV] n_estimators=160 ................................................\n",
      "[CV] ....... n_estimators=160, score=0.9848467573175377, total= 3.4min\n",
      "[CV] n_estimators=160 ................................................\n",
      "[CV] ....... n_estimators=160, score=0.9837788642490094, total= 3.4min\n",
      "[CV] n_estimators=160 ................................................\n",
      "[CV] ........ n_estimators=160, score=0.983840467325848, total= 3.3min\n",
      "[CV] ....... n_estimators=160, score=0.9831420142358357, total= 3.6min\n",
      "[CV] ....... n_estimators=160, score=0.9850401587456147, total= 3.4min\n",
      "[CV] ....... n_estimators=160, score=0.9847673194751042, total= 3.4min\n",
      "[CV] ........ n_estimators=160, score=0.983662245358692, total= 3.2min\n",
      "[CV] ....... n_estimators=160, score=0.9851165411587415, total= 3.3min\n",
      "[CV] ....... n_estimators=160, score=0.9826923734755606, total= 3.2min\n",
      "[CV] ....... n_estimators=160, score=0.9850730562232878, total= 3.0min\n"
     ]
    },
    {
     "name": "stderr",
     "output_type": "stream",
     "text": [
      "[Parallel(n_jobs=-1)]: Done  80 out of  80 | elapsed: 25.3min finished\n"
     ]
    },
    {
     "data": {
      "text/plain": [
       "GridSearchCV(cv=StratifiedKFold(n_splits=10, random_state=2018, shuffle=True),\n",
       "       error_score='raise',\n",
       "       estimator=ExtraTreesClassifier(bootstrap=False, class_weight='balanced',\n",
       "           criterion='gini', max_depth=None, max_features='auto',\n",
       "           max_leaf_nodes=None, min_impurity_decrease=0.0,\n",
       "           min_impurity_split=None, min_samples_leaf=1,\n",
       "           min_samples_split=2, min_weight_fraction_leaf=0.0,\n",
       "           n_estimators=10, n_jobs=1, oob_score=False, random_state=2018,\n",
       "           verbose=0, warm_start=False),\n",
       "       fit_params=None, iid=True, n_jobs=-1,\n",
       "       param_grid={'n_estimators': [60, 70, 80, 90, 100, 120, 140, 160]},\n",
       "       pre_dispatch='2*n_jobs', refit=True, return_train_score='warn',\n",
       "       scoring='f1_weighted', verbose=4)"
      ]
     },
     "execution_count": 4,
     "metadata": {},
     "output_type": "execute_result"
    }
   ],
   "source": [
    "# With F1 Score\n",
    "x = df.drop(['sz','recordingID','Unnamed: 0','time','delta_data', 'theta_data', 'alpha_data', 'beta_data'], axis=1)\n",
    "#x = featuresUnstack.drop(['sz'], axis=1)\n",
    "y = df['sz']\n",
    "\n",
    "x_train, x_test, y_train, y_test = train_test_split(x, y, train_size=0.7, test_size=0.3, random_state=random_state)\n",
    "\n",
    "#dissimilar scales of data, StandardScaler should be used\n",
    "sc = StandardScaler()\n",
    "sc.fit(x_train)\n",
    "x_train_std = sc.transform(x_train)\n",
    "x_test_std = sc.transform(x_test)\n",
    "cv = StratifiedKFold(n_splits = 10, shuffle=True, random_state = random_state)\n",
    "\n",
    "clf = ExtraTreesClassifier(random_state=random_state, class_weight='balanced')\n",
    "\n",
    "params = {'n_estimators' : [60, 70, 80, 90, 100, 120, 140, 160]\n",
    "             }\n",
    "\n",
    "grid_sclf = GridSearchCV(estimator = clf, param_grid = params, cv = cv, n_jobs=-1, scoring='f1_weighted', verbose=4)\n",
    "grid_sclf.fit(x_train_std, y_train)"
   ]
  },
  {
   "cell_type": "code",
   "execution_count": 9,
   "metadata": {
    "scrolled": true
   },
   "outputs": [
    {
     "name": "stdout",
     "output_type": "stream",
     "text": [
      "ExtraTreesClassifier(bootstrap=False, class_weight='balanced',\n",
      "           criterion='gini', max_depth=None, max_features='auto',\n",
      "           max_leaf_nodes=None, min_impurity_decrease=0.0,\n",
      "           min_impurity_split=None, min_samples_leaf=1,\n",
      "           min_samples_split=2, min_weight_fraction_leaf=0.0,\n",
      "           n_estimators=140, n_jobs=1, oob_score=False, random_state=2018,\n",
      "           verbose=0, warm_start=False)\n",
      "{'n_estimators': 140}\n",
      "...................................................................\n",
      "\n",
      "\n",
      "Accuracy of EDT Model: 0.9874166091557396\n",
      "\n",
      "\n",
      "                   pre       rec       spe        f1       geo       iba       sup\n",
      "\n",
      "     Normal     0.9883    0.9990    0.3638    0.9936    0.9281    0.8715     85354\n",
      "Pre-seizure     0.8716    0.3638    0.9990    0.5133    0.9281    0.8514      1586\n",
      "\n",
      "avg / total     0.9862    0.9874    0.3754    0.9849    0.9281    0.8711     86940\n",
      "\n",
      "....................................................................\n",
      "\n",
      "\n",
      "sensitivity_specificity None: (array([0.99900415, 0.36380832]), array([0.36380832, 0.99900415]), array([85354,  1586]))\n",
      "sensitivity_specificity micro: (0.9874166091557396, 0.9874166091557396, None)\n",
      "sensitivity_specificity macro: (0.6814062351288799, 0.6814062351288799, None)\n",
      "sensitivity_specificity weighted: (0.9874166091557396, 0.3753958611020202, None)\n",
      "\n",
      "\n",
      "\n",
      "gemetric mean None: [0.60286485 0.60286485]\n",
      "\n",
      "gemetric mean micro: 0.9874166091557396\n",
      "\n",
      "gemetric mean macro: 0.6814062351288799\n",
      "\n",
      "gemetric mean weighted: 0.6088284719528612\n",
      "\n",
      "\n",
      "\n",
      "\n",
      "F1 None: [0.9936259 0.5133452]\n",
      "\n",
      "\n",
      "F1 micro: 0.9874166091557396\n",
      "\n",
      "\n",
      "F1 macro: 0.753485546499056\n",
      "\n",
      "\n",
      "F1 weighted: 0.984864392867368\n",
      "\n",
      "\n",
      "\n",
      "\n",
      "precision None: 0.9874166091557396\n",
      "\n",
      "\n",
      "precision micro: 0.9874166091557396\n",
      "\n",
      "\n",
      "precision macro: 0.9874166091557396\n",
      "\n",
      "\n",
      "precision weighted: 0.9874166091557396\n",
      "\n",
      "\n",
      "\n",
      "\n",
      "recall None: 0.9874166091557396\n",
      "\n",
      "\n",
      "recall micro: 0.9874166091557396\n",
      "\n",
      "\n",
      "recall macro: 0.9874166091557396\n",
      "\n",
      "\n",
      "recall weighted: 0.9874166091557396\n"
     ]
    },
    {
     "data": {
      "image/png": "[encoded data removed]",
      "text/plain": [
       "<Figure size 432x288 with 2 Axes>"
      ]
     },
     "metadata": {
      "needs_background": "light"
     },
     "output_type": "display_data"
    }
   ],
   "source": [
    "print(grid_sclf.best_estimator_)\n",
    "print(grid_sclf.best_params_)\n",
    "print('...................................................................\\n\\n')\n",
    "\n",
    "#Prediction\n",
    "y_predict = grid_sclf.predict(x_test_std)\n",
    "\n",
    "print('Accuracy of EDT Model: {}\\n\\n' .format((accuracy_score(y_test,y_predict))))\n",
    "\n",
    "#generate and plot confusion matrix\n",
    "dsvm_cm = confusion_matrix(y_test,y_predict)\n",
    "\n",
    "ax= sns.heatmap(dsvm_cm, annot=True, fmt=\"d\")\n",
    "ax.set_xlabel('Predicted labels')\n",
    "ax.set_ylabel('True labels')\n",
    "ax.set_title('Confusion Matrix')\n",
    "\n",
    "#Classification Report \n",
    "target_names = ['Normal', 'Pre-seizure', 'Seizure']\n",
    "\n",
    "#print(classification_report(y_test, y_predict, digits=4, target_names=target_names))\n",
    "print(classification_report_imbalanced(y_test, y_predict, target_names=target_names, digits=4))\n",
    "\n",
    "print('....................................................................\\n\\n')\n",
    "\n",
    "#micro recall, precesion, specificity\n",
    "for i in [None, 'micro', 'macro', 'weighted']:\n",
    "    print('sensitivity_specificity {}: {}'.format(i, sensitivity_specificity_support(y_test, y_predict, average=i)))\n",
    "print('\\n')\n",
    "for i in [None, 'micro', 'macro', 'weighted']:\n",
    "    print('\\ngemetric mean {}: {}'.format(i ,geometric_mean_score(y_test, y_predict, average=i)))\n",
    "print('\\n')\n",
    "for i in [None, 'micro', 'macro', 'weighted']:\n",
    "    print('\\n\\nF1 {}: {}'.format(i, f1_score(y_test, y_predict, average=i)))\n",
    "print('\\n')\n",
    "for i in [None, 'micro', 'macro', 'weighted']:\n",
    "    print('\\n\\nprecision {}: {}'.format(i,precision_score(y_test, y_predict, average='micro')))\n",
    "print('\\n')\n",
    "for i in [None, 'micro', 'macro', 'weighted']:\n",
    "    print('\\n\\nrecall {}: {}'.format(i, recall_score(y_test, y_predict, average='micro')))"
   ]
  },
  {
   "cell_type": "markdown",
   "metadata": {},
   "source": [
    "### 3. chb06 running"
   ]
  },
  {
   "cell_type": "code",
   "execution_count": 10,
   "metadata": {},
   "outputs": [
    {
     "data": {
      "text/plain": [
       "44"
      ]
     },
     "execution_count": 10,
     "metadata": {},
     "output_type": "execute_result"
    }
   ],
   "source": [
    "lebaledCSVFilePath = '/home/mirwais/notebooks/paper_3/data/lebaled/chb02_time_freq_segments.csv'\n",
    "df = pd.read_csv(lebaledCSVFilePath)\n",
    "df.columns.size"
   ]
  },
  {
   "cell_type": "code",
   "execution_count": 12,
   "metadata": {},
   "outputs": [
    {
     "data": {
      "text/plain": [
       "0    122153\n",
       "2      2047\n",
       "Name: sz, dtype: int64"
      ]
     },
     "execution_count": 12,
     "metadata": {},
     "output_type": "execute_result"
    }
   ],
   "source": [
    "df[\"sz\"].value_counts()"
   ]
  },
  {
   "cell_type": "code",
   "execution_count": 13,
   "metadata": {
    "scrolled": true
   },
   "outputs": [
    {
     "name": "stdout",
     "output_type": "stream",
     "text": [
      "Fitting 10 folds for each of 6 candidates, totalling 60 fits\n",
      "[CV] n_estimators=80 .................................................\n",
      "[CV] n_estimators=80 .................................................\n",
      "[CV] n_estimators=80 .................................................\n",
      "[CV] n_estimators=80 .................................................\n",
      "[CV] n_estimators=80 .................................................\n",
      "[CV] n_estimators=80 .................................................\n",
      "[CV] n_estimators=80 .................................................\n",
      "[CV] n_estimators=80 .................................................\n",
      "[CV] ........ n_estimators=80, score=0.7174072032134298, total=  24.9s\n",
      "[CV] n_estimators=80 .................................................\n",
      "[CV] ........ n_estimators=80, score=0.6785646377791392, total=  26.1s\n",
      "[CV] n_estimators=80 .................................................\n",
      "[CV] ........ n_estimators=80, score=0.7100636702371413, total=  26.5s\n",
      "[CV] n_estimators=100 ................................................\n",
      "[CV] ........ n_estimators=80, score=0.6775081761861008, total=  26.5s\n",
      "[CV] n_estimators=100 ................................................\n",
      "[CV] ........ n_estimators=80, score=0.7131644229243486, total=  25.9s\n",
      "[CV] n_estimators=100 ................................................\n",
      "[CV] ........ n_estimators=80, score=0.7088762009208112, total=  26.5s\n",
      "[CV] n_estimators=100 ................................................\n",
      "[CV] ........ n_estimators=80, score=0.7001582632176612, total=  27.0s\n",
      "[CV] n_estimators=100 ................................................\n",
      "[CV] ........ n_estimators=80, score=0.7107934590297107, total=  26.4s\n",
      "[CV] n_estimators=100 ................................................\n",
      "[CV] ........ n_estimators=80, score=0.7155855710768455, total=  26.6s\n",
      "[CV] n_estimators=100 ................................................\n"
     ]
    },
    {
     "name": "stderr",
     "output_type": "stream",
     "text": [
      "[Parallel(n_jobs=-1)]: Done   9 tasks      | elapsed:   59.7s\n"
     ]
    },
    {
     "name": "stdout",
     "output_type": "stream",
     "text": [
      "[CV] ........ n_estimators=80, score=0.6934911381693386, total=  26.5s\n",
      "[CV] n_estimators=100 ................................................\n",
      "[CV] ....... n_estimators=100, score=0.7001586279828957, total=  32.0s\n",
      "[CV] n_estimators=100 ................................................\n",
      "[CV] ....... n_estimators=100, score=0.6832159960766124, total=  31.7s\n",
      "[CV] n_estimators=100 ................................................\n",
      "[CV] ....... n_estimators=100, score=0.7045410734797536, total=  32.9s\n",
      "[CV] n_estimators=120 ................................................\n",
      "[CV] ....... n_estimators=100, score=0.7001582632176612, total=  33.3s\n",
      "[CV] n_estimators=120 ................................................\n",
      "[CV] ....... n_estimators=100, score=0.6912482566248257, total=  33.6s\n",
      "[CV] n_estimators=120 ................................................\n",
      "[CV] ....... n_estimators=100, score=0.7088758428272495, total=  33.1s\n",
      "[CV] n_estimators=120 ................................................\n",
      "[CV] ....... n_estimators=100, score=0.7174072032134298, total=  32.3s\n",
      "[CV] n_estimators=120 ................................................\n",
      "[CV] ........ n_estimators=100, score=0.716199188767473, total=  32.7s\n",
      "[CV] n_estimators=120 ................................................\n",
      "[CV] ........ n_estimators=100, score=0.706893312845906, total=  32.9s\n",
      "[CV] n_estimators=120 ................................................\n",
      "[CV] ....... n_estimators=100, score=0.6980081186914641, total=  32.7s\n",
      "[CV] n_estimators=120 ................................................\n",
      "[CV] ....... n_estimators=120, score=0.7033832990513925, total=  35.4s\n",
      "[CV] n_estimators=120 ................................................\n",
      "[CV] ....... n_estimators=120, score=0.7100636702371413, total=  36.9s\n",
      "[CV] n_estimators=120 ................................................\n",
      "[CV] ....... n_estimators=120, score=0.6957277119969485, total=  38.9s\n",
      "[CV] n_estimators=140 ................................................\n",
      "[CV] ....... n_estimators=120, score=0.7001582632176612, total=  40.5s\n",
      "[CV] n_estimators=140 ................................................\n",
      "[CV] ....... n_estimators=120, score=0.7100633155630511, total=  37.9s\n",
      "[CV] n_estimators=140 ................................................\n",
      "[CV] ........ n_estimators=120, score=0.687815419569234, total=  38.6s\n",
      "[CV] n_estimators=140 ................................................\n",
      "[CV] ....... n_estimators=120, score=0.7216049185052354, total=  37.3s\n",
      "[CV] n_estimators=140 ................................................\n",
      "[CV] ....... n_estimators=120, score=0.7174072032134298, total=  39.3s\n",
      "[CV] n_estimators=140 ................................................\n",
      "[CV] ....... n_estimators=120, score=0.7112631613910386, total=  38.5s\n",
      "[CV] n_estimators=140 ................................................\n",
      "[CV] ....... n_estimators=120, score=0.6934911381693386, total=  38.5s\n",
      "[CV] n_estimators=140 ................................................\n",
      "[CV] ....... n_estimators=140, score=0.6957280800968528, total=  44.5s\n",
      "[CV] n_estimators=140 ................................................\n",
      "[CV] ....... n_estimators=140, score=0.7100636702371413, total=  46.5s\n",
      "[CV] n_estimators=140 ................................................\n",
      "[CV] ....... n_estimators=140, score=0.6912482566248257, total=  44.9s\n",
      "[CV] n_estimators=150 ................................................\n",
      "[CV] ....... n_estimators=140, score=0.7001582632176612, total=  44.7s\n",
      "[CV] n_estimators=150 ................................................\n",
      "[CV] ....... n_estimators=140, score=0.7186279577257895, total=  45.4s\n",
      "[CV] n_estimators=150 ................................................\n",
      "[CV] ........ n_estimators=140, score=0.687815419569234, total=  46.0s\n",
      "[CV] n_estimators=150 ................................................\n",
      "[CV] ....... n_estimators=140, score=0.7174072032134298, total=  44.8s\n",
      "[CV] n_estimators=150 ................................................\n",
      "[CV] ....... n_estimators=140, score=0.7174072032134298, total=  46.4s\n",
      "[CV] n_estimators=150 ................................................\n",
      "[CV] ....... n_estimators=140, score=0.7155855710768455, total=  46.6s\n",
      "[CV] n_estimators=150 ................................................\n",
      "[CV] ....... n_estimators=140, score=0.6980081186914641, total=  45.6s\n",
      "[CV] n_estimators=150 ................................................\n",
      "[CV] ....... n_estimators=150, score=0.7045410734797536, total=  48.5s\n",
      "[CV] n_estimators=150 ................................................\n",
      "[CV] ....... n_estimators=150, score=0.7100636702371413, total=  49.9s\n",
      "[CV] n_estimators=150 ................................................\n",
      "[CV] ....... n_estimators=150, score=0.6957277119969485, total=  49.1s\n",
      "[CV] n_estimators=160 ................................................\n",
      "[CV] ....... n_estimators=150, score=0.7001582632176612, total=  50.2s\n",
      "[CV] n_estimators=160 ................................................\n",
      "[CV] ....... n_estimators=150, score=0.7143687514531505, total=  48.2s\n",
      "[CV] n_estimators=160 ................................................\n",
      "[CV] ....... n_estimators=150, score=0.6738604543077906, total=  47.5s\n",
      "[CV] n_estimators=160 ................................................\n",
      "[CV] ....... n_estimators=150, score=0.7174072032134298, total=  48.3s\n",
      "[CV] n_estimators=160 ................................................\n",
      "[CV] ....... n_estimators=150, score=0.7174072032134298, total=  48.4s\n",
      "[CV] n_estimators=160 ................................................\n",
      "[CV] ....... n_estimators=150, score=0.7155855710768455, total=  49.5s\n",
      "[CV] n_estimators=160 ................................................\n",
      "[CV] ....... n_estimators=150, score=0.6980081186914641, total=  50.4s\n",
      "[CV] n_estimators=160 ................................................\n",
      "[CV] ....... n_estimators=160, score=0.7045410734797536, total=  50.8s\n",
      "[CV] n_estimators=160 ................................................\n",
      "[CV] ....... n_estimators=160, score=0.7100636702371413, total=  52.0s\n",
      "[CV] n_estimators=160 ................................................\n",
      "[CV] ....... n_estimators=160, score=0.6912482566248257, total=  52.2s\n",
      "[CV] ....... n_estimators=160, score=0.7001582632176612, total=  52.5s\n",
      "[CV] ....... n_estimators=160, score=0.7100633155630511, total=  52.6s\n",
      "[CV] ....... n_estimators=160, score=0.6738604543077906, total=  51.4s\n",
      "[CV] ....... n_estimators=160, score=0.7131644229243486, total=  45.5s\n",
      "[CV] ....... n_estimators=160, score=0.7216049185052354, total=  46.9s\n",
      "[CV] ....... n_estimators=160, score=0.7155855710768455, total=  45.4s\n",
      "[CV] ....... n_estimators=160, score=0.6980081186914641, total=  42.7s\n"
     ]
    },
    {
     "name": "stderr",
     "output_type": "stream",
     "text": [
      "[Parallel(n_jobs=-1)]: Done  60 out of  60 | elapsed:  6.2min finished\n"
     ]
    },
    {
     "data": {
      "text/plain": [
       "GridSearchCV(cv=StratifiedKFold(n_splits=10, random_state=2018, shuffle=True),\n",
       "       error_score='raise',\n",
       "       estimator=ExtraTreesClassifier(bootstrap=False, class_weight='balanced',\n",
       "           criterion='gini', max_depth=None, max_features='auto',\n",
       "           max_leaf_nodes=None, min_impurity_decrease=0.0,\n",
       "           min_impurity_split=None, min_samples_leaf=1,\n",
       "           min_samples_split=2, min_weight_fraction_leaf=0.0,\n",
       "           n_estimators=10, n_jobs=1, oob_score=False, random_state=2018,\n",
       "           verbose=0, warm_start=False),\n",
       "       fit_params=None, iid=True, n_jobs=-1,\n",
       "       param_grid={'n_estimators': [80, 100, 120, 140, 150, 160]},\n",
       "       pre_dispatch='2*n_jobs', refit=True, return_train_score='warn',\n",
       "       scoring='f1_macro', verbose=4)"
      ]
     },
     "execution_count": 13,
     "metadata": {},
     "output_type": "execute_result"
    }
   ],
   "source": [
    "# With F1 Score\n",
    "x = df.drop(['sz','recordingID','Unnamed: 0','time'], axis=1)\n",
    "#x = featuresUnstack.drop(['sz'], axis=1)\n",
    "y = df['sz']\n",
    "\n",
    "x_train, x_test, y_train, y_test = train_test_split(x, y, train_size=0.7, test_size=0.3, random_state=random_state)\n",
    "\n",
    "#dissimilar scales of data, StandardScaler should be used\n",
    "sc = StandardScaler()\n",
    "sc.fit(x_train)\n",
    "x_train_std = sc.transform(x_train)\n",
    "x_test_std = sc.transform(x_test)\n",
    "cv = StratifiedKFold(n_splits = 10, shuffle=True, random_state = random_state)\n",
    "\n",
    "clf = ExtraTreesClassifier(random_state=random_state, class_weight='balanced')\n",
    "\n",
    "params = {'n_estimators' : [80, 100, 120, 140, 150, 160]\n",
    "             }\n",
    "\n",
    "grid_sclf = GridSearchCV(estimator = clf, param_grid = params, cv = cv, n_jobs=-1, scoring='f1_macro', verbose=4)\n",
    "grid_sclf.fit(x_train_std, y_train)"
   ]
  },
  {
   "cell_type": "code",
   "execution_count": 14,
   "metadata": {
    "scrolled": true
   },
   "outputs": [
    {
     "name": "stdout",
     "output_type": "stream",
     "text": [
      "ExtraTreesClassifier(bootstrap=False, class_weight='balanced',\n",
      "           criterion='gini', max_depth=None, max_features='auto',\n",
      "           max_leaf_nodes=None, min_impurity_decrease=0.0,\n",
      "           min_impurity_split=None, min_samples_leaf=1,\n",
      "           min_samples_split=2, min_weight_fraction_leaf=0.0,\n",
      "           n_estimators=140, n_jobs=1, oob_score=False, random_state=2018,\n",
      "           verbose=0, warm_start=False)\n",
      "{'n_estimators': 140}\n",
      "...................................................................\n",
      "\n",
      "\n",
      "Accuracy of Decision Tree Model: 0.9874932903918411\n",
      "\n",
      "\n",
      "                   pre       rec       spe        f1       geo       iba       sup\n",
      "\n",
      "     Normal     0.9876    0.9999    0.2430    0.9937    0.9774    0.9572     36651\n",
      "Pre-seizure     0.9673    0.2430    0.9999    0.3885    0.9774    0.9534       609\n",
      "\n",
      "avg / total     0.9872    0.9875    0.2554    0.9838    0.9774    0.9572     37260\n",
      "\n",
      "....................................................................\n",
      "\n",
      "\n",
      "sensitivity_specificity None: (array([0.99986358, 0.24302135]), array([0.24302135, 0.99986358]), array([36651,   609]))\n",
      "sensitivity_specificity micro: (0.9874932903918411, 0.9874932903918411, None)\n",
      "sensitivity_specificity macro: (0.6214424622719452, 0.6214424622719452, None)\n",
      "sensitivity_specificity weighted: (0.9874932903918411, 0.25539163415204935, None)\n",
      "\n",
      "\n",
      "\n",
      "gemetric mean None: [0.49293833 0.49293833]\n",
      "\n",
      "gemetric mean micro: 0.9874932903918411\n",
      "\n",
      "gemetric mean macro: 0.6214424622719452\n",
      "\n",
      "gemetric mean weighted: 0.5021927171389052\n",
      "\n",
      "\n",
      "\n",
      "\n",
      "F1 None: [0.99368204 0.38845144]\n",
      "\n",
      "\n",
      "F1 micro: 0.9874932903918411\n",
      "\n",
      "\n",
      "F1 macro: 0.6910667424198267\n",
      "\n",
      "\n",
      "F1 weighted: 0.9837897859292613\n",
      "\n",
      "\n",
      "\n",
      "\n",
      "precision None: 0.9874932903918411\n",
      "\n",
      "\n",
      "precision micro: 0.9874932903918411\n",
      "\n",
      "\n",
      "precision macro: 0.9874932903918411\n",
      "\n",
      "\n",
      "precision weighted: 0.9874932903918411\n",
      "\n",
      "\n",
      "\n",
      "\n",
      "recall None: 0.9874932903918411\n",
      "\n",
      "\n",
      "recall micro: 0.9874932903918411\n",
      "\n",
      "\n",
      "recall macro: 0.9874932903918411\n",
      "\n",
      "\n",
      "recall weighted: 0.9874932903918411\n"
     ]
    },
    {
     "data": {
      "image/png": "[encoded data removed]",
      "text/plain": [
       "<Figure size 432x288 with 2 Axes>"
      ]
     },
     "metadata": {
      "needs_background": "light"
     },
     "output_type": "display_data"
    }
   ],
   "source": [
    "print(grid_sclf.best_estimator_)\n",
    "print(grid_sclf.best_params_)\n",
    "print('...................................................................\\n\\n')\n",
    "\n",
    "#Prediction\n",
    "y_predict = grid_sclf.predict(x_test_std)\n",
    "\n",
    "print('Accuracy of Decision Tree Model: {}\\n\\n' .format((accuracy_score(y_test,y_predict))))\n",
    "\n",
    "#generate and plot confusion matrix\n",
    "dsvm_cm = confusion_matrix(y_test,y_predict)\n",
    "\n",
    "ax= sns.heatmap(dsvm_cm, annot=True, fmt=\"d\")\n",
    "ax.set_xlabel('Predicted labels')\n",
    "ax.set_ylabel('True labels')\n",
    "ax.set_title('Confusion Matrix')\n",
    "\n",
    "#Classification Report \n",
    "target_names = ['Normal', 'Pre-seizure', 'Seizure']\n",
    "\n",
    "#print(classification_report(y_test, y_predict, digits=4, target_names=target_names))\n",
    "print(classification_report_imbalanced(y_test, y_predict, target_names=target_names, digits=4))\n",
    "\n",
    "print('....................................................................\\n\\n')\n",
    "\n",
    "#micro recall, precesion, specificity\n",
    "for i in [None, 'micro', 'macro', 'weighted']:\n",
    "    print('sensitivity_specificity {}: {}'.format(i, sensitivity_specificity_support(y_test, y_predict, average=i)))\n",
    "print('\\n')\n",
    "for i in [None, 'micro', 'macro', 'weighted']:\n",
    "    print('\\ngemetric mean {}: {}'.format(i ,geometric_mean_score(y_test, y_predict, average=i)))\n",
    "print('\\n')\n",
    "for i in [None, 'micro', 'macro', 'weighted']:\n",
    "    print('\\n\\nF1 {}: {}'.format(i, f1_score(y_test, y_predict, average=i)))\n",
    "print('\\n')\n",
    "for i in [None, 'micro', 'macro', 'weighted']:\n",
    "    print('\\n\\nprecision {}: {}'.format(i,precision_score(y_test, y_predict, average='micro')))\n",
    "print('\\n')\n",
    "for i in [None, 'micro', 'macro', 'weighted']:\n",
    "    print('\\n\\nrecall {}: {}'.format(i, recall_score(y_test, y_predict, average='micro')))"
   ]
  },
  {
   "cell_type": "code",
   "execution_count": null,
   "metadata": {},
   "outputs": [],
   "source": []
  }
 ],
 "metadata": {
  "kernelspec": {
   "display_name": "Python 3",
   "language": "python",
   "name": "python3"
  },
  "language_info": {
   "codemirror_mode": {
    "name": "ipython",
    "version": 3
   },
   "file_extension": ".py",
   "mimetype": "text/x-python",
   "name": "python",
   "nbconvert_exporter": "python",
   "pygments_lexer": "ipython3",
   "version": "3.6.8"
  }
 },
 "nbformat": 4,
 "nbformat_minor": 2
}
